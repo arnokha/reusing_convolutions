{
 "cells": [
  {
   "cell_type": "code",
   "execution_count": 14,
   "metadata": {
    "collapsed": true
   },
   "outputs": [],
   "source": [
    "import numpy as np\n",
    "import matplotlib.pyplot as plt\n",
    "import os\n",
    "import pandas as pd\n",
    "import seaborn as sns\n",
    "\n",
    "sns.set()"
   ]
  },
  {
   "cell_type": "code",
   "execution_count": 15,
   "metadata": {
    "collapsed": true
   },
   "outputs": [],
   "source": [
    "atari_games_list = [\n",
    "    \"Alien\",\n",
    "    \"Amidar\",\n",
    "    \"Assault\",\n",
    "    \"Asterix\",\n",
    "    \"BankHeist\",\n",
    "    \"BattleZone\",\n",
    "    \"Boxing\",\n",
    "    \"Breakout\",\n",
    "    \"ChopperCommand\",\n",
    "    \"CrazyClimber\",\n",
    "    \"DemonAttack\",\n",
    "    \"Freeway\",\n",
    "    \"Gopher\",\n",
    "    \"Hero\",\n",
    "    \"Kangaroo\",\n",
    "    \"Krull\",\n",
    "    \"KungFuMaster\",\n",
    "    \"MsPacman\",\n",
    "    \"Pong\",\n",
    "    \"PrivateEye\",\n",
    "    \"Qbert\",\n",
    "    \"RoadRunner\",\n",
    "    \"YarsRevenge\",\n",
    "    \"Seaquest\"\n",
    "]"
   ]
  },
  {
   "cell_type": "code",
   "execution_count": 16,
   "metadata": {
    "collapsed": true
   },
   "outputs": [],
   "source": [
    "def extract_avg(f):\n",
    "    with open(f) as f:\n",
    "        first_line = f.readline()\n",
    "        return float(first_line.rsplit(\" \")[-1])"
   ]
  },
  {
   "cell_type": "code",
   "execution_count": 17,
   "metadata": {
    "collapsed": true
   },
   "outputs": [],
   "source": [
    "results_20_40 = {}\n",
    "results_40_80 = {}\n",
    "results_80_160 = {}\n",
    "DIRS = [\"./BASE_CPU/\", \"./REUSE_CPU/\", \"./BASE_GPU/\"]\n",
    "aliases = [\"base_cpu\", \"reuse_cpu\", \"base_gpu\"]\n",
    "\n",
    "games_results_not_complete = []\n",
    "\n",
    "for game in atari_games_list:\n",
    "    results_20_40[game] = []\n",
    "    results_40_80[game] = []\n",
    "    results_80_160[game] = []\n",
    "    \n",
    "for DIR, alias in zip(DIRS, aliases):\n",
    "    dir_cont = sorted(os.listdir(DIR))\n",
    "    #print(DIR)\n",
    "    \n",
    "    for game in dir_cont: ## Each game is a dir name\n",
    "        \n",
    "        ## Skip any non-directory files\n",
    "        if \".sh\" in game or \".py\" in game:\n",
    "            continue\n",
    "        \n",
    "        ## Get result file from sub directory\n",
    "        full_path = DIR + game\n",
    "        result_files = os.listdir(full_path)\n",
    "        #print(DIR, game, result_files)\n",
    "        \n",
    "        ## Detect missing results\n",
    "        if len(result_files) < 3:\n",
    "            print(\"No results for: \" + full_path.rsplit(\"/\")[-1] + \" (\"+DIR+\")\")\n",
    "            games_results_not_complete.append(full_path.rsplit(\"/\")[-1])\n",
    "            results_80_160[game].append(np.nan)\n",
    "            #continue\n",
    "\n",
    "        ## Now we are looking at the result of a particular game using a particular method/hardware\n",
    "        #results[(alias, game)] = extract_avg(full_path + \"/\" + result_file[0])\n",
    "        for result_file in result_files:\n",
    "            #print(result_file)\n",
    "            if \"20_40\" in result_file:\n",
    "                results_20_40[game].append(extract_avg(full_path + \"/\" + result_file))\n",
    "            elif \"40_80\" in result_file:\n",
    "                results_40_80[game].append(extract_avg(full_path + \"/\" + result_file))\n",
    "            elif \"80_160\" in result_file:\n",
    "                results_80_160[game].append(extract_avg(full_path + \"/\" + result_file))"
   ]
  },
  {
   "cell_type": "code",
   "execution_count": 18,
   "metadata": {},
   "outputs": [
    {
     "name": "stdout",
     "output_type": "stream",
     "text": [
      "{'ChopperCommand': [10.56, 6.93, 6.53], 'MsPacman': [9.23, 7.06, 6.38], 'BankHeist': [12.33, 5.79, 7.27], 'Asterix': [8.88, 5.69, 6.09], 'Hero': [10.8, 4.93, 6.68], 'Freeway': [8.55, 8.39, 6.89], 'Pong': [8.56, 3.79, 6.53], 'YarsRevenge': [10.32, 10.3, 6.23], 'Krull': [10.37, 7.7, 6.32], 'Amidar': [11.25, 5.47, 7.43], 'CrazyClimber': [8.85, 3.13, 6.08], 'KungFuMaster': [10.06, 4.8, 6.77], 'Kangaroo': [10.64, 5.43, 6.49], 'BattleZone': [10.5, 6.38, 6.48], 'Breakout': [8.38, 1.8, 6.48], 'Assault': [10.39, 8.42, 7.45], 'PrivateEye': [10.6, 6.02, 6.58], 'Qbert': [8.59, 4.47, 6.57], 'Seaquest': [10.47, 6.88, 6.34], 'RoadRunner': [10.75, 8.48, 6.62], 'Boxing': [10.66, 5.95, 6.66], 'DemonAttack': [8.39, 5.8, 6.36], 'Alien': [11.02, 7.95, 6.73], 'Gopher': [10.38, 3.45, 7.52]}\n",
      "\n",
      "{'ChopperCommand': [25.87, 19.78, 3.79], 'MsPacman': [23.42, 13.64, 3.71], 'BankHeist': [30.75, 15.4, 4.36], 'Asterix': [23.08, 12.36, 3.64], 'Hero': [26.2, 12.97, 3.86], 'Freeway': [21.93, 18.88, 3.95], 'Pong': [22.13, 6.98, 3.87], 'YarsRevenge': [25.57, 21.44, 3.69], 'Krull': [25.96, 18.89, 3.78], 'Amidar': [28.23, 10.34, 4.41], 'CrazyClimber': [23.04, 5.04, 3.62], 'KungFuMaster': [24.83, 9.38, 3.98], 'Kangaroo': [25.89, 10.88, 3.79], 'BattleZone': [25.94, 22.43, 3.78], 'Breakout': [21.52, 2.43, 3.82], 'Assault': [27.21, 19.61, 4.52], 'PrivateEye': [25.77, 11.95, 3.8], 'Qbert': [22.28, 9.91, 3.88], 'Seaquest': [25.75, 14.37, 3.72], 'RoadRunner': [25.69, 8.86, 3.79], 'Boxing': [26.22, 11.25, 3.84], 'DemonAttack': [22.02, 9.87, 3.82], 'Alien': [26.51, 15.92, 3.85], 'Gopher': [26.92, 8.49, 4.56]}\n",
      "\n",
      "{'ChopperCommand': [73.69, 47.33, 7.03], 'MsPacman': [67.47, 42.08, 6.96], 'BankHeist': [87.25, 33.52, 8.21], 'Asterix': [67.89, 26.79, 6.87], 'Hero': [73.73, 13.27, 7.07], 'Freeway': [64.79, 51.28, 7.2], 'Pong': [65.69, 14.26, 7.24], 'YarsRevenge': [72.86, 63.64, 6.94], 'Krull': [73.35, 49.06, 7.05], 'Amidar': [81.44, 24.38, 8.25], 'CrazyClimber': [67.47, 9.21, 6.87], 'KungFuMaster': [71.13, 17.48, 7.45], 'Kangaroo': [73.65, 22.54, 7.04], 'BattleZone': [73.83, 30.55, 7.0], 'Breakout': [64.57, 7.57, 7.15], 'Assault': [79.11, 53.38, 8.57], 'PrivateEye': [73.58, 29.71, 7.06], 'Qbert': [66.15, 21.69, 7.26], 'Seaquest': [73.07, 32.7, 6.97], 'RoadRunner': [73.18, 42.9, 7.06], 'Boxing': [73.32, 19.92, 7.07], 'DemonAttack': [64.92, 27.11, 7.22], 'Alien': [73.44, 41.03, 7.11], 'Gopher': [79.24, 13.51, 8.66]}\n"
     ]
    }
   ],
   "source": [
    "## Averages over 10 runs. First element is from base_cpu, second from reuse_cpu, third from base_gpu\n",
    "## Things to notice: \n",
    "## (1) Each run has high variance because these episode lengths can vary greatly, and number of .\n",
    "##     whcih means there can be a variable number of backpropagations.\n",
    "## (2) The worst performance of reuse comes from games with large areas of pixel change \n",
    "##       (BattleZone, ChopperCommand, Freeway, Krull, MsPacman, YarsRevenge)\n",
    "## (3) Get's a very big performance boost on games that have little pixel change from frame to frame\n",
    "##     (Amidar, Breakout, CrazyClimber, Gopher, Hero, Kangaroo, KungFuMaster, \n",
    "##      Pong, PrivateEye, Qbert)\n",
    "## (4) There were games where the CPU version of reuse was faster than the GPU base version\n",
    "## (5) Not immediately obvious why it performed much more poorly than base CPU on RoadRunner, Seaquest\n",
    "\n",
    "print(results_20_40)\n",
    "print()\n",
    "print(results_40_80)\n",
    "print()\n",
    "print(results_80_160)"
   ]
  },
  {
   "cell_type": "code",
   "execution_count": 19,
   "metadata": {
    "collapsed": true
   },
   "outputs": [],
   "source": [
    "df_20_40 = pd.DataFrame(results_20_40, index=aliases)\n",
    "df_40_80 = pd.DataFrame(results_40_80, index=aliases)\n",
    "df_80_160 = pd.DataFrame(results_80_160, index=aliases)"
   ]
  },
  {
   "cell_type": "code",
   "execution_count": 20,
   "metadata": {
    "collapsed": true
   },
   "outputs": [],
   "source": [
    "df_40_80 = df_40_80.T\n",
    "\n",
    "df_40_80[\"reuse_cpu/base_cpu\"] = (df_40_80[\"reuse_cpu\"] / df_40_80[\"base_cpu\"]).round(decimals=2)\n",
    "df_40_80[\"reuse_cpu/base_gpu\"] = (df_40_80[\"reuse_cpu\"] / df_40_80[\"base_gpu\"]).round(decimals=2)\n",
    "df_40_80[\"base_cpu/base_gpu\"] = (df_40_80[\"base_cpu\"] / df_40_80[\"base_gpu\"]).round(decimals=2)\n",
    "\n",
    "df_40_80 = df_40_80.T\n",
    "df_40_80[\"Mean\"] = df_40_80.T.mean()"
   ]
  },
  {
   "cell_type": "code",
   "execution_count": 21,
   "metadata": {
    "collapsed": true
   },
   "outputs": [],
   "source": [
    "sorted_df = df_40_80.T.sort_values(\"reuse_cpu/base_gpu\")\n",
    "top3 = sorted_df.values[0:3]\n",
    "bot3 = sorted_df.values[-3:]\n",
    "top3_titles = list(sorted_df.index[0:3])\n",
    "bot3_titles = list(sorted_df.index[-3:])"
   ]
  },
  {
   "cell_type": "code",
   "execution_count": 22,
   "metadata": {},
   "outputs": [
    {
     "data": {
      "text/html": [
       "<div>\n",
       "<style>\n",
       "    .dataframe thead tr:only-child th {\n",
       "        text-align: right;\n",
       "    }\n",
       "\n",
       "    .dataframe thead th {\n",
       "        text-align: left;\n",
       "    }\n",
       "\n",
       "    .dataframe tbody tr th {\n",
       "        vertical-align: top;\n",
       "    }\n",
       "</style>\n",
       "<table border=\"1\" class=\"dataframe\">\n",
       "  <thead>\n",
       "    <tr style=\"text-align: right;\">\n",
       "      <th></th>\n",
       "      <th>base_cpu</th>\n",
       "      <th>reuse_cpu</th>\n",
       "      <th>base_gpu</th>\n",
       "      <th>reuse_cpu/base_cpu</th>\n",
       "      <th>reuse_cpu/base_gpu</th>\n",
       "      <th>base_cpu/base_gpu</th>\n",
       "    </tr>\n",
       "  </thead>\n",
       "  <tbody>\n",
       "    <tr>\n",
       "      <th>Breakout</th>\n",
       "      <td>21.52</td>\n",
       "      <td>2.43</td>\n",
       "      <td>3.82</td>\n",
       "      <td>0.11</td>\n",
       "      <td>0.64</td>\n",
       "      <td>5.63</td>\n",
       "    </tr>\n",
       "    <tr>\n",
       "      <th>CrazyClimber</th>\n",
       "      <td>23.04</td>\n",
       "      <td>5.04</td>\n",
       "      <td>3.62</td>\n",
       "      <td>0.22</td>\n",
       "      <td>1.39</td>\n",
       "      <td>6.36</td>\n",
       "    </tr>\n",
       "    <tr>\n",
       "      <th>Pong</th>\n",
       "      <td>22.13</td>\n",
       "      <td>6.98</td>\n",
       "      <td>3.87</td>\n",
       "      <td>0.32</td>\n",
       "      <td>1.80</td>\n",
       "      <td>5.72</td>\n",
       "    </tr>\n",
       "    <tr>\n",
       "      <th>Gopher</th>\n",
       "      <td>26.92</td>\n",
       "      <td>8.49</td>\n",
       "      <td>4.56</td>\n",
       "      <td>0.32</td>\n",
       "      <td>1.86</td>\n",
       "      <td>5.90</td>\n",
       "    </tr>\n",
       "    <tr>\n",
       "      <th>Amidar</th>\n",
       "      <td>28.23</td>\n",
       "      <td>10.34</td>\n",
       "      <td>4.41</td>\n",
       "      <td>0.37</td>\n",
       "      <td>2.34</td>\n",
       "      <td>6.40</td>\n",
       "    </tr>\n",
       "  </tbody>\n",
       "</table>\n",
       "</div>"
      ],
      "text/plain": [
       "              base_cpu  reuse_cpu  base_gpu  reuse_cpu/base_cpu  \\\n",
       "Breakout         21.52       2.43      3.82                0.11   \n",
       "CrazyClimber     23.04       5.04      3.62                0.22   \n",
       "Pong             22.13       6.98      3.87                0.32   \n",
       "Gopher           26.92       8.49      4.56                0.32   \n",
       "Amidar           28.23      10.34      4.41                0.37   \n",
       "\n",
       "              reuse_cpu/base_gpu  base_cpu/base_gpu  \n",
       "Breakout                    0.64               5.63  \n",
       "CrazyClimber                1.39               6.36  \n",
       "Pong                        1.80               5.72  \n",
       "Gopher                      1.86               5.90  \n",
       "Amidar                      2.34               6.40  "
      ]
     },
     "execution_count": 22,
     "metadata": {},
     "output_type": "execute_result"
    }
   ],
   "source": [
    "sorted_df.head()"
   ]
  },
  {
   "cell_type": "code",
   "execution_count": 23,
   "metadata": {},
   "outputs": [
    {
     "data": {
      "image/png": "[encoded data removed]",
      "text/plain": [
       "<matplotlib.figure.Figure at 0x7f7605e46b70>"
      ]
     },
     "metadata": {},
     "output_type": "display_data"
    }
   ],
   "source": [
    "n_groups=3\n",
    "\n",
    "# create plot\n",
    "plt.figure(figsize=(16,8))\n",
    "index = np.arange(n_groups)\n",
    "bar_width = 0.15\n",
    "opacity = 0.95\n",
    "\n",
    "rects1 = plt.bar(index, top3[:,0], bar_width,\n",
    "alpha=opacity,\n",
    "#color='r',\n",
    "label='Base CPU')\n",
    "\n",
    "rects2 = plt.bar(index + bar_width, top3[:,1], bar_width,\n",
    "alpha=opacity,\n",
    "#color='g',\n",
    "label='Reuse CPU')\n",
    "\n",
    "rects2 = plt.bar(index + bar_width*2, top3[:,2], bar_width,\n",
    "alpha=opacity,\n",
    "#color='b',\n",
    "label='Base GPU')\n",
    "\n",
    "plt.xlabel('Game', fontsize=14)\n",
    "plt.ylabel('Average time until completion (s)', fontsize=14)\n",
    "plt.title('Time for 3000 steps of inference (best)', fontsize=20)\n",
    "plt.xticks(index + bar_width, top3_titles, fontsize=16)\n",
    "plt.legend(prop={'size': 16})\n",
    "\n",
    "plt.tight_layout()\n",
    "plt.savefig(\"inference_d4_best_40_80.png\")\n",
    "plt.show()"
   ]
  },
  {
   "cell_type": "code",
   "execution_count": 24,
   "metadata": {},
   "outputs": [
    {
     "data": {
      "image/png": "[encoded data removed]",
      "text/plain": [
       "<matplotlib.figure.Figure at 0x7f7602144518>"
      ]
     },
     "metadata": {},
     "output_type": "display_data"
    }
   ],
   "source": [
    "n_groups=3\n",
    "\n",
    "# create plot\n",
    "plt.figure(figsize=(16,8))\n",
    "index = np.arange(n_groups)\n",
    "bar_width = 0.15\n",
    "opacity = 0.95\n",
    "\n",
    "rects1 = plt.bar(index, bot3[:,0], bar_width,\n",
    "alpha=opacity,\n",
    "#color='r',\n",
    "label='Base CPU')\n",
    "\n",
    "rects2 = plt.bar(index + bar_width, bot3[:,1], bar_width,\n",
    "alpha=opacity,\n",
    "#color='g',\n",
    "label='Reuse CPU')\n",
    "\n",
    "rects2 = plt.bar(index + bar_width*2, bot3[:,2], bar_width,\n",
    "alpha=opacity,\n",
    "#color='b',\n",
    "label='Base GPU')\n",
    "\n",
    "plt.xlabel('Game', fontsize=14)\n",
    "plt.ylabel('Average time until completion (s)', fontsize=14)\n",
    "plt.title('Time for 3000 steps of inference (worst)', fontsize=20)\n",
    "plt.xticks(index + bar_width, bot3_titles, fontsize=16)\n",
    "plt.legend(prop={'size': 16})\n",
    "\n",
    "plt.tight_layout()\n",
    "plt.savefig(\"inference_d4_worst_40_80.png\")\n",
    "plt.show()"
   ]
  },
  {
   "cell_type": "code",
   "execution_count": null,
   "metadata": {
    "collapsed": true
   },
   "outputs": [],
   "source": []
  },
  {
   "cell_type": "code",
   "execution_count": null,
   "metadata": {
    "collapsed": true
   },
   "outputs": [],
   "source": []
  },
  {
   "cell_type": "code",
   "execution_count": null,
   "metadata": {
    "collapsed": true
   },
   "outputs": [],
   "source": []
  },
  {
   "cell_type": "code",
   "execution_count": null,
   "metadata": {
    "collapsed": true
   },
   "outputs": [],
   "source": []
  },
  {
   "cell_type": "code",
   "execution_count": null,
   "metadata": {
    "collapsed": true
   },
   "outputs": [],
   "source": []
  },
  {
   "cell_type": "code",
   "execution_count": null,
   "metadata": {
    "collapsed": true
   },
   "outputs": [],
   "source": []
  },
  {
   "cell_type": "code",
   "execution_count": 14,
   "metadata": {},
   "outputs": [
    {
     "data": {
      "text/plain": [
       "array([[ 3.99,  1.7 ,  3.07,  0.43,  0.55,  1.3 ],\n",
       "       [ 3.59,  2.16,  2.87,  0.6 ,  0.75,  1.25],\n",
       "       [ 6.74,  3.29,  3.97,  0.49,  0.83,  1.7 ]])"
      ]
     },
     "execution_count": 14,
     "metadata": {},
     "output_type": "execute_result"
    }
   ],
   "source": []
  },
  {
   "cell_type": "code",
   "execution_count": 6,
   "metadata": {
    "collapsed": true
   },
   "outputs": [],
   "source": [
    "#df = pd.DataFrame(results, index=atari_games_list)\n",
    "df_20_40 = pd.DataFrame(results_20_40, index=aliases)\n",
    "df_40_80 = pd.DataFrame(results_40_80, index=aliases)\n",
    "df_80_160 = pd.DataFrame(results_80_160, index=aliases)\n",
    "#df.columns = pd.MultiIndex.from_tuples(tuples)"
   ]
  },
  {
   "cell_type": "code",
   "execution_count": 22,
   "metadata": {
    "collapsed": true
   },
   "outputs": [],
   "source": [
    "#df = pd.DataFrame(results)\n"
   ]
  },
  {
   "cell_type": "code",
   "execution_count": 29,
   "metadata": {},
   "outputs": [
    {
     "data": {
      "text/html": [
       "<div>\n",
       "<style>\n",
       "    .dataframe thead tr:only-child th {\n",
       "        text-align: right;\n",
       "    }\n",
       "\n",
       "    .dataframe thead th {\n",
       "        text-align: left;\n",
       "    }\n",
       "\n",
       "    .dataframe tbody tr th {\n",
       "        vertical-align: top;\n",
       "    }\n",
       "</style>\n",
       "<table border=\"1\" class=\"dataframe\">\n",
       "  <thead>\n",
       "    <tr style=\"text-align: right;\">\n",
       "      <th></th>\n",
       "      <th>Alien</th>\n",
       "      <th>Amidar</th>\n",
       "      <th>Assault</th>\n",
       "      <th>Asterix</th>\n",
       "      <th>BankHeist</th>\n",
       "      <th>BattleZone</th>\n",
       "      <th>Boxing</th>\n",
       "      <th>Breakout</th>\n",
       "      <th>ChopperCommand</th>\n",
       "      <th>CrazyClimber</th>\n",
       "      <th>...</th>\n",
       "      <th>Krull</th>\n",
       "      <th>KungFuMaster</th>\n",
       "      <th>MsPacman</th>\n",
       "      <th>Pong</th>\n",
       "      <th>PrivateEye</th>\n",
       "      <th>Qbert</th>\n",
       "      <th>RoadRunner</th>\n",
       "      <th>Seaquest</th>\n",
       "      <th>YarsRevenge</th>\n",
       "      <th>Mean</th>\n",
       "    </tr>\n",
       "  </thead>\n",
       "  <tbody>\n",
       "    <tr>\n",
       "      <th>base_cpu</th>\n",
       "      <td>52.89</td>\n",
       "      <td>53.92</td>\n",
       "      <td>39.23</td>\n",
       "      <td>43.7</td>\n",
       "      <td>33.94</td>\n",
       "      <td>48.67</td>\n",
       "      <td>50.22</td>\n",
       "      <td>27.44</td>\n",
       "      <td>52.52</td>\n",
       "      <td>18.27</td>\n",
       "      <td>...</td>\n",
       "      <td>32.97</td>\n",
       "      <td>48.38</td>\n",
       "      <td>46.82</td>\n",
       "      <td>35.40</td>\n",
       "      <td>20.03</td>\n",
       "      <td>40.05</td>\n",
       "      <td>52.85</td>\n",
       "      <td>28.64</td>\n",
       "      <td>44.31</td>\n",
       "      <td>39.240833</td>\n",
       "    </tr>\n",
       "    <tr>\n",
       "      <th>reuse_cpu</th>\n",
       "      <td>37.32</td>\n",
       "      <td>23.30</td>\n",
       "      <td>24.9</td>\n",
       "      <td>26.85</td>\n",
       "      <td>14.93</td>\n",
       "      <td>37.36</td>\n",
       "      <td>26.92</td>\n",
       "      <td>5.75</td>\n",
       "      <td>41.98</td>\n",
       "      <td>5.32</td>\n",
       "      <td>...</td>\n",
       "      <td>32.02</td>\n",
       "      <td>22.07</td>\n",
       "      <td>31.97</td>\n",
       "      <td>13.46</td>\n",
       "      <td>7.81</td>\n",
       "      <td>9.65</td>\n",
       "      <td>26.11</td>\n",
       "      <td>17.69</td>\n",
       "      <td>34.51</td>\n",
       "      <td>22.110833</td>\n",
       "    </tr>\n",
       "    <tr>\n",
       "      <th>base_gpu</th>\n",
       "      <td>9.24</td>\n",
       "      <td>9.71</td>\n",
       "      <td>-</td>\n",
       "      <td>-</td>\n",
       "      <td>-</td>\n",
       "      <td>-</td>\n",
       "      <td>-</td>\n",
       "      <td>-</td>\n",
       "      <td>-</td>\n",
       "      <td>-</td>\n",
       "      <td>...</td>\n",
       "      <td>-</td>\n",
       "      <td>-</td>\n",
       "      <td>8.33</td>\n",
       "      <td>7.88</td>\n",
       "      <td>-</td>\n",
       "      <td>8.24</td>\n",
       "      <td>-</td>\n",
       "      <td>-</td>\n",
       "      <td>-</td>\n",
       "      <td>8.703333</td>\n",
       "    </tr>\n",
       "    <tr>\n",
       "      <th>reuse_cpu/base_cpu</th>\n",
       "      <td>0.71</td>\n",
       "      <td>0.43</td>\n",
       "      <td>0.63</td>\n",
       "      <td>0.61</td>\n",
       "      <td>0.44</td>\n",
       "      <td>0.77</td>\n",
       "      <td>0.54</td>\n",
       "      <td>0.21</td>\n",
       "      <td>0.8</td>\n",
       "      <td>0.29</td>\n",
       "      <td>...</td>\n",
       "      <td>0.97</td>\n",
       "      <td>0.46</td>\n",
       "      <td>0.68</td>\n",
       "      <td>0.38</td>\n",
       "      <td>0.39</td>\n",
       "      <td>0.24</td>\n",
       "      <td>0.49</td>\n",
       "      <td>0.62</td>\n",
       "      <td>0.78</td>\n",
       "      <td>0.540000</td>\n",
       "    </tr>\n",
       "    <tr>\n",
       "      <th>reuse_cpu/base_gpu</th>\n",
       "      <td>4.04</td>\n",
       "      <td>2.40</td>\n",
       "      <td>-</td>\n",
       "      <td>-</td>\n",
       "      <td>-</td>\n",
       "      <td>-</td>\n",
       "      <td>-</td>\n",
       "      <td>-</td>\n",
       "      <td>-</td>\n",
       "      <td>-</td>\n",
       "      <td>...</td>\n",
       "      <td>-</td>\n",
       "      <td>-</td>\n",
       "      <td>3.84</td>\n",
       "      <td>1.71</td>\n",
       "      <td>-</td>\n",
       "      <td>1.17</td>\n",
       "      <td>-</td>\n",
       "      <td>-</td>\n",
       "      <td>-</td>\n",
       "      <td>2.700000</td>\n",
       "    </tr>\n",
       "    <tr>\n",
       "      <th>base_cpu/base_gpu</th>\n",
       "      <td>5.72</td>\n",
       "      <td>5.55</td>\n",
       "      <td>-</td>\n",
       "      <td>-</td>\n",
       "      <td>-</td>\n",
       "      <td>-</td>\n",
       "      <td>-</td>\n",
       "      <td>-</td>\n",
       "      <td>-</td>\n",
       "      <td>-</td>\n",
       "      <td>...</td>\n",
       "      <td>-</td>\n",
       "      <td>-</td>\n",
       "      <td>5.62</td>\n",
       "      <td>4.49</td>\n",
       "      <td>-</td>\n",
       "      <td>4.86</td>\n",
       "      <td>-</td>\n",
       "      <td>-</td>\n",
       "      <td>-</td>\n",
       "      <td>5.408333</td>\n",
       "    </tr>\n",
       "  </tbody>\n",
       "</table>\n",
       "<p>6 rows × 25 columns</p>\n",
       "</div>"
      ],
      "text/plain": [
       "                    Alien  Amidar Assault Asterix BankHeist BattleZone Boxing  \\\n",
       "base_cpu            52.89   53.92   39.23    43.7     33.94      48.67  50.22   \n",
       "reuse_cpu           37.32   23.30    24.9   26.85     14.93      37.36  26.92   \n",
       "base_gpu             9.24    9.71       -       -         -          -      -   \n",
       "reuse_cpu/base_cpu   0.71    0.43    0.63    0.61      0.44       0.77   0.54   \n",
       "reuse_cpu/base_gpu   4.04    2.40       -       -         -          -      -   \n",
       "base_cpu/base_gpu    5.72    5.55       -       -         -          -      -   \n",
       "\n",
       "                   Breakout ChopperCommand CrazyClimber    ...      Krull  \\\n",
       "base_cpu              27.44          52.52        18.27    ...      32.97   \n",
       "reuse_cpu              5.75          41.98         5.32    ...      32.02   \n",
       "base_gpu                  -              -            -    ...          -   \n",
       "reuse_cpu/base_cpu     0.21            0.8         0.29    ...       0.97   \n",
       "reuse_cpu/base_gpu        -              -            -    ...          -   \n",
       "base_cpu/base_gpu         -              -            -    ...          -   \n",
       "\n",
       "                   KungFuMaster MsPacman   Pong  PrivateEye  Qbert RoadRunner  \\\n",
       "base_cpu                  48.38    46.82  35.40       20.03  40.05      52.85   \n",
       "reuse_cpu                 22.07    31.97  13.46        7.81   9.65      26.11   \n",
       "base_gpu                      -     8.33   7.88           -   8.24          -   \n",
       "reuse_cpu/base_cpu         0.46     0.68   0.38        0.39   0.24       0.49   \n",
       "reuse_cpu/base_gpu            -     3.84   1.71           -   1.17          -   \n",
       "base_cpu/base_gpu             -     5.62   4.49           -   4.86          -   \n",
       "\n",
       "                    Seaquest  YarsRevenge       Mean  \n",
       "base_cpu               28.64        44.31  39.240833  \n",
       "reuse_cpu              17.69        34.51  22.110833  \n",
       "base_gpu                   -            -   8.703333  \n",
       "reuse_cpu/base_cpu      0.62         0.78   0.540000  \n",
       "reuse_cpu/base_gpu         -            -   2.700000  \n",
       "base_cpu/base_gpu          -            -   5.408333  \n",
       "\n",
       "[6 rows x 25 columns]"
      ]
     },
     "execution_count": 29,
     "metadata": {},
     "output_type": "execute_result"
    }
   ],
   "source": [
    "df_80_160.fillna(\"-\")"
   ]
  },
  {
   "cell_type": "code",
   "execution_count": 9,
   "metadata": {
    "collapsed": true
   },
   "outputs": [],
   "source": [
    "#df.to_html('training_table_by_episode_20_40_3000_steps.html')"
   ]
  },
  {
   "cell_type": "code",
   "execution_count": 10,
   "metadata": {
    "collapsed": true
   },
   "outputs": [],
   "source": [
    "## New table - Computational savings from base cpu to reuse cpu, and base gpu to reuse cpu, and add row that has average"
   ]
  },
  {
   "cell_type": "code",
   "execution_count": 7,
   "metadata": {
    "collapsed": true
   },
   "outputs": [],
   "source": [
    "df_20_40 = df_20_40.T\n",
    "\n",
    "df_20_40[\"reuse_cpu/base_cpu\"] = (df_20_40[\"reuse_cpu\"] / df_20_40[\"base_cpu\"]).round(decimals=2)\n",
    "df_20_40[\"reuse_cpu/base_gpu\"] = (df_20_40[\"reuse_cpu\"] / df_20_40[\"base_gpu\"]).round(decimals=2)\n",
    "df_20_40[\"base_cpu/base_gpu\"] = (df_20_40[\"base_cpu\"] / df_20_40[\"base_gpu\"]).round(decimals=2)\n",
    "\n",
    "df_20_40 = df_20_40.T\n",
    "df_20_40[\"Mean\"] = df_20_40.T.mean()\n",
    "\n",
    "#df_20_40.round(2).to_html('training_table_by_episode_20_40_3000_steps_more_info.html')\n",
    "#df_20_40.T.round(2).to_html('training_table_by_episode_20_40_3000_steps_more_info_T.html')"
   ]
  },
  {
   "cell_type": "code",
   "execution_count": 25,
   "metadata": {
    "collapsed": true
   },
   "outputs": [],
   "source": [
    "df_40_80 = df_40_80.T\n",
    "\n",
    "df_40_80[\"reuse_cpu/base_cpu\"] = (df_40_80[\"reuse_cpu\"] / df_40_80[\"base_cpu\"]).round(decimals=2)\n",
    "df_40_80[\"reuse_cpu/base_gpu\"] = (df_40_80[\"reuse_cpu\"] / df_40_80[\"base_gpu\"]).round(decimals=2)\n",
    "df_40_80[\"base_cpu/base_gpu\"] = (df_40_80[\"base_cpu\"] / df_40_80[\"base_gpu\"]).round(decimals=2)\n",
    "\n",
    "df_40_80 = df_40_80.T\n",
    "df_40_80[\"Mean\"] = df_40_80.T.mean()\n",
    "\n",
    "df_40_80.round(2).to_html('training_table_by_episode_40_80_3000_steps_more_info.html')\n",
    "df_40_80.T.round(2).to_html('training_table_by_episode_40_80_3000_steps_more_info_T.html')"
   ]
  },
  {
   "cell_type": "code",
   "execution_count": 30,
   "metadata": {
    "collapsed": true
   },
   "outputs": [],
   "source": [
    "df_80_160 = df_80_160.T\n",
    "\n",
    "df_80_160[\"reuse_cpu/base_cpu\"] = (df_80_160[\"reuse_cpu\"] / df_80_160[\"base_cpu\"]).round(decimals=2)\n",
    "df_80_160[\"reuse_cpu/base_gpu\"] = (df_80_160[\"reuse_cpu\"] / df_80_160[\"base_gpu\"]).round(decimals=2)\n",
    "df_80_160[\"base_cpu/base_gpu\"] = (df_80_160[\"base_cpu\"] / df_80_160[\"base_gpu\"]).round(decimals=2)\n",
    "\n",
    "df_80_160 = df_80_160.T\n",
    "df_80_160[\"Mean\"] = df_80_160.T.mean()\n",
    "\n",
    "df_80_160.round(2).fillna(\"-\").to_html('training_table_by_episode_80_160_3000_steps_more_info.html')\n",
    "df_80_160.T.round(2).fillna(\"-\").to_html('training_table_by_episode_80_160_3000_steps_more_info_T.html')"
   ]
  },
  {
   "cell_type": "code",
   "execution_count": null,
   "metadata": {
    "collapsed": true
   },
   "outputs": [],
   "source": []
  },
  {
   "cell_type": "code",
   "execution_count": null,
   "metadata": {
    "collapsed": true
   },
   "outputs": [],
   "source": []
  },
  {
   "cell_type": "code",
   "execution_count": 11,
   "metadata": {
    "collapsed": true
   },
   "outputs": [],
   "source": [
    "df = df.T"
   ]
  },
  {
   "cell_type": "code",
   "execution_count": 12,
   "metadata": {
    "collapsed": true
   },
   "outputs": [],
   "source": [
    "df[\"reuse_cpu/base_cpu\"] = (df[\"reuse_cpu\"] / df[\"base_cpu\"]).round(decimals=2)\n",
    "\n",
    "df[\"reuse_cpu/base_gpu\"] = (df[\"reuse_cpu\"] / df[\"base_gpu\"]).round(decimals=2)\n",
    "\n",
    "df[\"base_cpu/base_gpu\"] = (df[\"base_cpu\"] / df[\"base_gpu\"]).round(decimals=2)"
   ]
  },
  {
   "cell_type": "code",
   "execution_count": 13,
   "metadata": {
    "collapsed": true
   },
   "outputs": [],
   "source": [
    "df = df.round(decimals=2).T"
   ]
  },
  {
   "cell_type": "code",
   "execution_count": 14,
   "metadata": {
    "collapsed": true
   },
   "outputs": [],
   "source": [
    "df[\"Mean\"] = df.T.mean()"
   ]
  },
  {
   "cell_type": "code",
   "execution_count": 15,
   "metadata": {},
   "outputs": [
    {
     "data": {
      "text/plain": [
       "base_cpu              7.109583\n",
       "reuse_cpu             5.567500\n",
       "base_gpu              3.862917\n",
       "reuse_cpu/base_cpu    0.772500\n",
       "reuse_cpu/base_gpu    1.408333\n",
       "base_cpu/base_gpu     1.805417\n",
       "Name: Mean, dtype: float64"
      ]
     },
     "execution_count": 15,
     "metadata": {},
     "output_type": "execute_result"
    }
   ],
   "source": [
    "df[\"Mean\"]"
   ]
  },
  {
   "cell_type": "code",
   "execution_count": 16,
   "metadata": {
    "collapsed": true
   },
   "outputs": [],
   "source": [
    "df.round(2).to_html('training_table_by_episode_20_40_conv_3000_steps_more_info.html')"
   ]
  },
  {
   "cell_type": "code",
   "execution_count": 18,
   "metadata": {
    "collapsed": true
   },
   "outputs": [],
   "source": [
    "df.T.round(2).to_html('training_table_by_episode_20_40_conv_3000_steps_more_info_T.html')"
   ]
  },
  {
   "cell_type": "code",
   "execution_count": null,
   "metadata": {
    "collapsed": true
   },
   "outputs": [],
   "source": []
  }
 ],
 "metadata": {
  "kernelspec": {
   "display_name": "Python 3",
   "language": "python",
   "name": "python3"
  },
  "language_info": {
   "codemirror_mode": {
    "name": "ipython",
    "version": 3
   },
   "file_extension": ".py",
   "mimetype": "text/x-python",
   "name": "python",
   "nbconvert_exporter": "python",
   "pygments_lexer": "ipython3",
   "version": "3.5.4"
  }
 },
 "nbformat": 4,
 "nbformat_minor": 2
}
