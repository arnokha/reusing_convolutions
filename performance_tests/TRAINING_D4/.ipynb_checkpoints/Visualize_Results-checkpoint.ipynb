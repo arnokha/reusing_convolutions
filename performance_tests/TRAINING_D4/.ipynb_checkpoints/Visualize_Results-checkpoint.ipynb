{
 "cells": [
  {
   "cell_type": "code",
   "execution_count": 1,
   "metadata": {
    "collapsed": true
   },
   "outputs": [],
   "source": [
    "import numpy as np\n",
    "import matplotlib.pyplot as plt\n",
    "import os\n",
    "import pandas as pd\n",
    "import seaborn as sns\n",
    "\n",
    "sns.set()"
   ]
  },
  {
   "cell_type": "code",
   "execution_count": 2,
   "metadata": {
    "collapsed": true
   },
   "outputs": [],
   "source": [
    "atari_games_list = [\n",
    "    \"Alien\",\n",
    "    \"Amidar\",\n",
    "    \"Assault\",\n",
    "    \"Asterix\",\n",
    "    \"BankHeist\",\n",
    "    \"BattleZone\",\n",
    "    \"Boxing\",\n",
    "    \"Breakout\",\n",
    "    \"ChopperCommand\",\n",
    "    \"CrazyClimber\",\n",
    "    \"DemonAttack\",\n",
    "    \"Freeway\",\n",
    "    \"Gopher\",\n",
    "    \"Hero\",\n",
    "    \"Kangaroo\",\n",
    "    \"Krull\",\n",
    "    \"KungFuMaster\",\n",
    "    \"MsPacman\",\n",
    "    \"Pong\",\n",
    "    \"PrivateEye\",\n",
    "    \"Qbert\",\n",
    "    \"RoadRunner\",\n",
    "    \"YarsRevenge\",\n",
    "    \"Seaquest\"\n",
    "]"
   ]
  },
  {
   "cell_type": "code",
   "execution_count": 3,
   "metadata": {
    "collapsed": true
   },
   "outputs": [],
   "source": [
    "def extract_avg(f):\n",
    "    with open(f) as f:\n",
    "        first_line = f.readline()\n",
    "        return float(first_line.rsplit(\" \")[-1])"
   ]
  },
  {
   "cell_type": "code",
   "execution_count": 4,
   "metadata": {
    "collapsed": true
   },
   "outputs": [],
   "source": [
    "results = {}\n",
    "DIRS = [\"./BASE_CPU/\", \"./REUSE_CPU/\", \"./BASE_GPU/\"]\n",
    "aliases = [\"base_cpu\", \"reuse_cpu\", \"base_gpu\"]\n",
    "\n",
    "games_results_not_complete = []\n",
    "\n",
    "for game in atari_games_list:\n",
    "    results[game] = []\n",
    "    \n",
    "for DIR, alias in zip(DIRS, aliases):\n",
    "    dir_cont = sorted(os.listdir(DIR))\n",
    "    \n",
    "    for game in dir_cont: ## Each game is a dir name\n",
    "        \n",
    "        ## Skip any non-directory files\n",
    "        if \".sh\" in game or \".py\" in game:\n",
    "            continue\n",
    "        \n",
    "        ## Get result file from sub directory\n",
    "        full_path = DIR + game\n",
    "        result_file = os.listdir(full_path)\n",
    "        \n",
    "        ## Detect missing results\n",
    "        if len(result_file) < 1:\n",
    "            print(\"No results for: \" + full_path.rsplit(\"/\")[-1] + \" (\"+DIR+\")\")\n",
    "            games_results_not_complete.append(full_path.rsplit(\"/\")[-1])\n",
    "            results[game].append(np.nan)\n",
    "            continue\n",
    "\n",
    "        ## Now we are looking at the result of a particular game using a particular method/hardware\n",
    "        #results[(alias, game)] = extract_avg(full_path + \"/\" + result_file[0])\n",
    "        \n",
    "        results[game].append(extract_avg(full_path + \"/\" + result_file[0]))"
   ]
  },
  {
   "cell_type": "code",
   "execution_count": 5,
   "metadata": {},
   "outputs": [
    {
     "data": {
      "text/plain": [
       "{'Alien': [10.56, 8.86, 4.62],\n",
       " 'Amidar': [9.59, 6.01, 4.63],\n",
       " 'Assault': [6.96, 5.66, 3.54],\n",
       " 'Asterix': [7.46, 5.9, 3.85],\n",
       " 'BankHeist': [7.5, 5.45, 3.88],\n",
       " 'BattleZone': [8.35, 7.71, 3.69],\n",
       " 'Boxing': [9.47, 7.82, 4.4],\n",
       " 'Breakout': [3.99, 1.7, 3.07],\n",
       " 'ChopperCommand': [9.41, 9.11, 4.34],\n",
       " 'CrazyClimber': [3.59, 2.16, 2.87],\n",
       " 'DemonAttack': [3.64, 3.4, 2.61],\n",
       " 'Freeway': [6.65, 7.26, 4.29],\n",
       " 'Gopher': [6.75, 3.71, 4.29],\n",
       " 'Hero': [5.35, 3.17, 3.47],\n",
       " 'Kangaroo': [9.82, 6.81, 4.31],\n",
       " 'Krull': [6.11, 7.2, 3.85],\n",
       " 'KungFuMaster': [9.14, 6.33, 4.46],\n",
       " 'MsPacman': [7.61, 6.72, 4.22],\n",
       " 'Pong': [5.69, 3.7, 3.63],\n",
       " 'PrivateEye': [3.99, 3.07, 3.05],\n",
       " 'Qbert': [6.74, 3.29, 3.97],\n",
       " 'RoadRunner': [9.16, 7.32, 4.25],\n",
       " 'Seaquest': [5.29, 3.97, 3.32],\n",
       " 'YarsRevenge': [7.81, 7.29, 4.1]}"
      ]
     },
     "execution_count": 5,
     "metadata": {},
     "output_type": "execute_result"
    }
   ],
   "source": [
    "## Averages over 10 runs. First element is from base_cpu, second from reuse_cpu, third from base_gpu\n",
    "## Things to notice: \n",
    "## (1) Each run has high variance because these episode lengths can vary greatly, and number of .\n",
    "##     whcih means there can be a variable number of backpropagations.\n",
    "## (2) The worst performance of reuse comes from games with large areas of pixel change \n",
    "##       (BattleZone, ChopperCommand, Freeway, Krull, MsPacman, YarsRevenge)\n",
    "## (3) Get's a very big performance boost on games that have little pixel change from frame to frame\n",
    "##     (Amidar, Breakout, CrazyClimber, Gopher, Hero, Kangaroo, KungFuMaster, \n",
    "##      Pong, PrivateEye, Qbert)\n",
    "## (4) There were games where the CPU version of reuse was faster than the GPU base version\n",
    "## (5) Not immediately obvious why it performed much more poorly than base CPU on RoadRunner, Seaquest\n",
    "\n",
    "\n",
    "results"
   ]
  },
  {
   "cell_type": "code",
   "execution_count": 8,
   "metadata": {
    "collapsed": true
   },
   "outputs": [],
   "source": [
    "#df = pd.DataFrame(results, index=atari_games_list)\n",
    "df = pd.DataFrame(results, index=aliases)\n",
    "#df.columns = pd.MultiIndex.from_tuples(tuples)"
   ]
  },
  {
   "cell_type": "code",
   "execution_count": 9,
   "metadata": {
    "collapsed": true
   },
   "outputs": [],
   "source": [
    "#df = pd.DataFrame(results)\n"
   ]
  },
  {
   "cell_type": "code",
   "execution_count": 10,
   "metadata": {},
   "outputs": [
    {
     "data": {
      "text/html": [
       "<div>\n",
       "<style>\n",
       "    .dataframe thead tr:only-child th {\n",
       "        text-align: right;\n",
       "    }\n",
       "\n",
       "    .dataframe thead th {\n",
       "        text-align: left;\n",
       "    }\n",
       "\n",
       "    .dataframe tbody tr th {\n",
       "        vertical-align: top;\n",
       "    }\n",
       "</style>\n",
       "<table border=\"1\" class=\"dataframe\">\n",
       "  <thead>\n",
       "    <tr style=\"text-align: right;\">\n",
       "      <th></th>\n",
       "      <th>Alien</th>\n",
       "      <th>Amidar</th>\n",
       "      <th>Assault</th>\n",
       "      <th>Asterix</th>\n",
       "      <th>BankHeist</th>\n",
       "      <th>BattleZone</th>\n",
       "      <th>Boxing</th>\n",
       "      <th>Breakout</th>\n",
       "      <th>ChopperCommand</th>\n",
       "      <th>CrazyClimber</th>\n",
       "      <th>...</th>\n",
       "      <th>Kangaroo</th>\n",
       "      <th>Krull</th>\n",
       "      <th>KungFuMaster</th>\n",
       "      <th>MsPacman</th>\n",
       "      <th>Pong</th>\n",
       "      <th>PrivateEye</th>\n",
       "      <th>Qbert</th>\n",
       "      <th>RoadRunner</th>\n",
       "      <th>Seaquest</th>\n",
       "      <th>YarsRevenge</th>\n",
       "    </tr>\n",
       "  </thead>\n",
       "  <tbody>\n",
       "    <tr>\n",
       "      <th>base_cpu</th>\n",
       "      <td>10.56</td>\n",
       "      <td>9.59</td>\n",
       "      <td>6.96</td>\n",
       "      <td>7.46</td>\n",
       "      <td>7.50</td>\n",
       "      <td>8.35</td>\n",
       "      <td>9.47</td>\n",
       "      <td>3.99</td>\n",
       "      <td>9.41</td>\n",
       "      <td>3.59</td>\n",
       "      <td>...</td>\n",
       "      <td>9.82</td>\n",
       "      <td>6.11</td>\n",
       "      <td>9.14</td>\n",
       "      <td>7.61</td>\n",
       "      <td>5.69</td>\n",
       "      <td>3.99</td>\n",
       "      <td>6.74</td>\n",
       "      <td>9.16</td>\n",
       "      <td>5.29</td>\n",
       "      <td>7.81</td>\n",
       "    </tr>\n",
       "    <tr>\n",
       "      <th>reuse_cpu</th>\n",
       "      <td>9.46</td>\n",
       "      <td>6.21</td>\n",
       "      <td>6.86</td>\n",
       "      <td>6.69</td>\n",
       "      <td>10.75</td>\n",
       "      <td>95.24</td>\n",
       "      <td>8.67</td>\n",
       "      <td>1.52</td>\n",
       "      <td>9.93</td>\n",
       "      <td>1.85</td>\n",
       "      <td>...</td>\n",
       "      <td>7.32</td>\n",
       "      <td>10.35</td>\n",
       "      <td>6.36</td>\n",
       "      <td>7.46</td>\n",
       "      <td>4.51</td>\n",
       "      <td>2.52</td>\n",
       "      <td>2.79</td>\n",
       "      <td>5.71</td>\n",
       "      <td>3.31</td>\n",
       "      <td>4.87</td>\n",
       "    </tr>\n",
       "    <tr>\n",
       "      <th>base_gpu</th>\n",
       "      <td>4.62</td>\n",
       "      <td>4.63</td>\n",
       "      <td>3.54</td>\n",
       "      <td>3.85</td>\n",
       "      <td>3.88</td>\n",
       "      <td>3.69</td>\n",
       "      <td>4.40</td>\n",
       "      <td>3.07</td>\n",
       "      <td>4.34</td>\n",
       "      <td>2.87</td>\n",
       "      <td>...</td>\n",
       "      <td>4.31</td>\n",
       "      <td>3.85</td>\n",
       "      <td>4.46</td>\n",
       "      <td>4.22</td>\n",
       "      <td>3.63</td>\n",
       "      <td>3.05</td>\n",
       "      <td>3.97</td>\n",
       "      <td>4.25</td>\n",
       "      <td>3.32</td>\n",
       "      <td>4.10</td>\n",
       "    </tr>\n",
       "  </tbody>\n",
       "</table>\n",
       "<p>3 rows × 24 columns</p>\n",
       "</div>"
      ],
      "text/plain": [
       "           Alien  Amidar  Assault  Asterix  BankHeist  BattleZone  Boxing  \\\n",
       "base_cpu   10.56    9.59     6.96     7.46       7.50        8.35    9.47   \n",
       "reuse_cpu   9.46    6.21     6.86     6.69      10.75       95.24    8.67   \n",
       "base_gpu    4.62    4.63     3.54     3.85       3.88        3.69    4.40   \n",
       "\n",
       "           Breakout  ChopperCommand  CrazyClimber     ...       Kangaroo  \\\n",
       "base_cpu       3.99            9.41          3.59     ...           9.82   \n",
       "reuse_cpu      1.52            9.93          1.85     ...           7.32   \n",
       "base_gpu       3.07            4.34          2.87     ...           4.31   \n",
       "\n",
       "           Krull  KungFuMaster  MsPacman  Pong  PrivateEye  Qbert  RoadRunner  \\\n",
       "base_cpu    6.11          9.14      7.61  5.69        3.99   6.74        9.16   \n",
       "reuse_cpu  10.35          6.36      7.46  4.51        2.52   2.79        5.71   \n",
       "base_gpu    3.85          4.46      4.22  3.63        3.05   3.97        4.25   \n",
       "\n",
       "           Seaquest  YarsRevenge  \n",
       "base_cpu       5.29         7.81  \n",
       "reuse_cpu      3.31         4.87  \n",
       "base_gpu       3.32         4.10  \n",
       "\n",
       "[3 rows x 24 columns]"
      ]
     },
     "execution_count": 10,
     "metadata": {},
     "output_type": "execute_result"
    }
   ],
   "source": [
    "df"
   ]
  },
  {
   "cell_type": "code",
   "execution_count": 11,
   "metadata": {
    "collapsed": true
   },
   "outputs": [],
   "source": [
    "df.to_html('training_table_by_episode_20_40_3000_steps.html')"
   ]
  },
  {
   "cell_type": "code",
   "execution_count": null,
   "metadata": {
    "collapsed": true
   },
   "outputs": [],
   "source": []
  },
  {
   "cell_type": "code",
   "execution_count": null,
   "metadata": {
    "collapsed": true
   },
   "outputs": [],
   "source": []
  },
  {
   "cell_type": "code",
   "execution_count": null,
   "metadata": {
    "collapsed": true
   },
   "outputs": [],
   "source": []
  }
 ],
 "metadata": {
  "kernelspec": {
   "display_name": "Python 3",
   "language": "python",
   "name": "python3"
  },
  "language_info": {
   "codemirror_mode": {
    "name": "ipython",
    "version": 3
   },
   "file_extension": ".py",
   "mimetype": "text/x-python",
   "name": "python",
   "nbconvert_exporter": "python",
   "pygments_lexer": "ipython3",
   "version": "3.5.4"
  }
 },
 "nbformat": 4,
 "nbformat_minor": 2
}
