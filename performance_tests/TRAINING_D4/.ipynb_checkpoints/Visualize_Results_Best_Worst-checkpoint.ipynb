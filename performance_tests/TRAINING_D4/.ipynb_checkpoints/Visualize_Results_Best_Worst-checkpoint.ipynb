{
 "cells": [
  {
   "cell_type": "code",
   "execution_count": 1,
   "metadata": {
    "collapsed": true
   },
   "outputs": [],
   "source": [
    "import numpy as np\n",
    "import matplotlib.pyplot as plt\n",
    "import os\n",
    "import pandas as pd\n",
    "import seaborn as sns\n",
    "\n",
    "sns.set()"
   ]
  },
  {
   "cell_type": "code",
   "execution_count": 2,
   "metadata": {
    "collapsed": true
   },
   "outputs": [],
   "source": [
    "atari_games_list = [\n",
    "    \"Alien\",\n",
    "    \"Amidar\",\n",
    "    \"Assault\",\n",
    "    \"Asterix\",\n",
    "    \"BankHeist\",\n",
    "    \"BattleZone\",\n",
    "    \"Boxing\",\n",
    "    \"Breakout\",\n",
    "    \"ChopperCommand\",\n",
    "    \"CrazyClimber\",\n",
    "    \"DemonAttack\",\n",
    "    \"Freeway\",\n",
    "    \"Gopher\",\n",
    "    \"Hero\",\n",
    "    \"Kangaroo\",\n",
    "    \"Krull\",\n",
    "    \"KungFuMaster\",\n",
    "    \"MsPacman\",\n",
    "    \"Pong\",\n",
    "    \"PrivateEye\",\n",
    "    \"Qbert\",\n",
    "    \"RoadRunner\",\n",
    "    \"YarsRevenge\",\n",
    "    \"Seaquest\"\n",
    "]"
   ]
  },
  {
   "cell_type": "code",
   "execution_count": 3,
   "metadata": {
    "collapsed": true
   },
   "outputs": [],
   "source": [
    "def extract_avg(f):\n",
    "    with open(f) as f:\n",
    "        first_line = f.readline()\n",
    "        return float(first_line.rsplit(\" \")[-1])"
   ]
  },
  {
   "cell_type": "code",
   "execution_count": 4,
   "metadata": {},
   "outputs": [
    {
     "name": "stdout",
     "output_type": "stream",
     "text": [
      "No results for: Assault (./BASE_GPU/)\n",
      "No results for: Asterix (./BASE_GPU/)\n",
      "No results for: BankHeist (./BASE_GPU/)\n",
      "No results for: BattleZone (./BASE_GPU/)\n",
      "No results for: Boxing (./BASE_GPU/)\n",
      "No results for: Breakout (./BASE_GPU/)\n",
      "No results for: ChopperCommand (./BASE_GPU/)\n",
      "No results for: CrazyClimber (./BASE_GPU/)\n",
      "No results for: DemonAttack (./BASE_GPU/)\n",
      "No results for: Freeway (./BASE_GPU/)\n",
      "No results for: Gopher (./BASE_GPU/)\n",
      "No results for: Hero (./BASE_GPU/)\n",
      "No results for: Krull (./BASE_GPU/)\n",
      "No results for: KungFuMaster (./BASE_GPU/)\n",
      "No results for: PrivateEye (./BASE_GPU/)\n",
      "No results for: RoadRunner (./BASE_GPU/)\n",
      "No results for: Seaquest (./BASE_GPU/)\n",
      "No results for: YarsRevenge (./BASE_GPU/)\n"
     ]
    }
   ],
   "source": [
    "results_20_40 = {}\n",
    "results_40_80 = {}\n",
    "results_80_160 = {}\n",
    "DIRS = [\"./BASE_CPU/\", \"./REUSE_CPU/\", \"./BASE_GPU/\"]\n",
    "aliases = [\"base_cpu\", \"reuse_cpu\", \"base_gpu\"]\n",
    "\n",
    "games_results_not_complete = []\n",
    "\n",
    "for game in atari_games_list:\n",
    "    results_20_40[game] = []\n",
    "    results_40_80[game] = []\n",
    "    results_80_160[game] = []\n",
    "    \n",
    "for DIR, alias in zip(DIRS, aliases):\n",
    "    dir_cont = sorted(os.listdir(DIR))\n",
    "    #print(DIR)\n",
    "    \n",
    "    for game in dir_cont: ## Each game is a dir name\n",
    "        \n",
    "        ## Skip any non-directory files\n",
    "        if \".sh\" in game or \".py\" in game:\n",
    "            continue\n",
    "        \n",
    "        ## Get result file from sub directory\n",
    "        full_path = DIR + game\n",
    "        result_files = os.listdir(full_path)\n",
    "        #print(DIR, game, result_files)\n",
    "        \n",
    "        ## Detect missing results\n",
    "        if len(result_files) < 3:\n",
    "            print(\"No results for: \" + full_path.rsplit(\"/\")[-1] + \" (\"+DIR+\")\")\n",
    "            games_results_not_complete.append(full_path.rsplit(\"/\")[-1])\n",
    "            results_80_160[game].append(np.nan)\n",
    "            #continue\n",
    "\n",
    "        ## Now we are looking at the result of a particular game using a particular method/hardware\n",
    "        #results[(alias, game)] = extract_avg(full_path + \"/\" + result_file[0])\n",
    "        for result_file in result_files:\n",
    "            #print(result_file)\n",
    "            if \"20_40\" in result_file:\n",
    "                results_20_40[game].append(extract_avg(full_path + \"/\" + result_file))\n",
    "            elif \"40_80\" in result_file:\n",
    "                results_40_80[game].append(extract_avg(full_path + \"/\" + result_file))\n",
    "            elif \"80_160\" in result_file:\n",
    "                results_80_160[game].append(extract_avg(full_path + \"/\" + result_file))"
   ]
  },
  {
   "cell_type": "code",
   "execution_count": 5,
   "metadata": {},
   "outputs": [
    {
     "name": "stdout",
     "output_type": "stream",
     "text": [
      "{'Breakout': [3.99, 1.7, 3.07], 'Pong': [5.69, 3.7, 3.63], 'Qbert': [6.74, 3.29, 3.97], 'RoadRunner': [9.16, 7.32, 4.25], 'CrazyClimber': [3.59, 2.16, 2.87], 'BankHeist': [7.5, 5.45, 3.88], 'ChopperCommand': [9.41, 9.11, 4.34], 'Gopher': [6.75, 3.71, 4.29], 'Freeway': [6.65, 7.26, 4.29], 'PrivateEye': [3.99, 3.07, 3.05], 'MsPacman': [7.61, 6.72, 4.22], 'YarsRevenge': [7.81, 7.29, 4.1], 'Krull': [6.11, 7.2, 3.85], 'KungFuMaster': [9.14, 6.33, 4.46], 'BattleZone': [8.35, 7.71, 3.69], 'Amidar': [9.59, 6.01, 4.63], 'Assault': [6.96, 5.66, 3.54], 'Boxing': [9.47, 7.82, 4.4], 'Asterix': [7.46, 5.9, 3.85], 'Alien': [10.56, 8.86, 4.62], 'DemonAttack': [3.64, 3.4, 2.61], 'Hero': [5.35, 3.17, 3.47], 'Kangaroo': [9.82, 6.81, 4.31], 'Seaquest': [5.29, 3.97, 3.32]}\n",
      "\n",
      "{'Breakout': [7.82, 1.77, 4.28], 'Pong': [13.24, 6.31, 5.05], 'Qbert': [16.13, 5.32, 5.34], 'RoadRunner': [23.62, 16.45, 6.0], 'CrazyClimber': [8.6, 3.22, 3.71], 'BankHeist': [20.19, 12.11, 5.66], 'ChopperCommand': [22.87, 17.3, 5.8], 'Gopher': [16.85, 7.13, 5.53], 'Freeway': [14.25, 14.62, 5.86], 'PrivateEye': [8.04, 4.24, 4.13], 'MsPacman': [18.09, 13.75, 5.53], 'YarsRevenge': [18.93, 20.08, 5.06], 'Krull': [17.58, 14.18, 5.01], 'KungFuMaster': [20.04, 11.86, 5.94], 'BattleZone': [17.13, 14.26, 5.06], 'Amidar': [21.55, 10.65, 6.42], 'Assault': [18.51, 13.93, 5.55], 'Boxing': [20.62, 14.11, 5.79], 'Asterix': [16.92, 12.44, 5.04], 'Alien': [22.47, 17.22, 5.99], 'DemonAttack': [7.62, 4.2, 4.05], 'Hero': [10.17, 5.03, 4.41], 'Kangaroo': [22.47, 13.27, 5.78], 'Seaquest': [13.23, 10.93, 4.75]}\n",
      "\n",
      "{'Breakout': [27.44, 5.8, nan], 'Pong': [35.4, 13.43, 7.88], 'Qbert': [40.05, 9.67, 8.24], 'RoadRunner': [52.85, 26.07, nan], 'CrazyClimber': [18.27, 5.33, nan], 'BankHeist': [33.94, 14.86, nan], 'ChopperCommand': [52.52, 42.13, nan], 'Gopher': [37.27, 11.81, nan], 'Freeway': [38.85, 36.32, nan], 'PrivateEye': [20.03, 7.74, nan], 'MsPacman': [46.82, 31.66, 8.33], 'YarsRevenge': [44.31, 34.44, nan], 'Krull': [32.97, 31.82, nan], 'KungFuMaster': [48.38, 21.93, nan], 'BattleZone': [48.67, 36.94, nan], 'Amidar': [53.92, 23.06, 9.71], 'Assault': [39.23, 24.79, nan], 'Boxing': [50.22, 26.86, nan], 'Asterix': [43.7, 26.75, nan], 'Alien': [52.89, 37.24, 9.24], 'DemonAttack': [20.34, 9.73, nan], 'Hero': [20.34, 5.76, nan], 'Kangaroo': [54.73, 26.87, 8.82], 'Seaquest': [28.64, 17.61, nan]}\n"
     ]
    }
   ],
   "source": [
    "## Averages over 10 runs. First element is from base_cpu, second from reuse_cpu, third from base_gpu\n",
    "## Things to notice: \n",
    "## (1) Each run has high variance because these episode lengths can vary greatly, and number of .\n",
    "##     whcih means there can be a variable number of backpropagations.\n",
    "## (2) The worst performance of reuse comes from games with large areas of pixel change \n",
    "##       (BattleZone, ChopperCommand, Freeway, Krull, MsPacman, YarsRevenge)\n",
    "## (3) Get's a very big performance boost on games that have little pixel change from frame to frame\n",
    "##     (Amidar, Breakout, CrazyClimber, Gopher, Hero, Kangaroo, KungFuMaster, \n",
    "##      Pong, PrivateEye, Qbert)\n",
    "## (4) There were games where the CPU version of reuse was faster than the GPU base version\n",
    "## (5) Not immediately obvious why it performed much more poorly than base CPU on RoadRunner, Seaquest\n",
    "\n",
    "print(results_20_40)\n",
    "print()\n",
    "print(results_40_80)\n",
    "print()\n",
    "print(results_80_160)"
   ]
  },
  {
   "cell_type": "code",
   "execution_count": 6,
   "metadata": {
    "collapsed": true
   },
   "outputs": [],
   "source": [
    "df_20_40 = pd.DataFrame(results_20_40, index=aliases)\n",
    "df_40_80 = pd.DataFrame(results_40_80, index=aliases)\n",
    "#df_80_160 = pd.DataFrame(results_80_160, index=aliases)"
   ]
  },
  {
   "cell_type": "code",
   "execution_count": 7,
   "metadata": {
    "collapsed": true
   },
   "outputs": [],
   "source": [
    "df_40_80 = df_40_80.T\n",
    "\n",
    "df_40_80[\"reuse_cpu/base_cpu\"] = (df_40_80[\"reuse_cpu\"] / df_40_80[\"base_cpu\"]).round(decimals=2)\n",
    "df_40_80[\"reuse_cpu/base_gpu\"] = (df_40_80[\"reuse_cpu\"] / df_40_80[\"base_gpu\"]).round(decimals=2)\n",
    "df_40_80[\"base_cpu/base_gpu\"] = (df_40_80[\"base_cpu\"] / df_40_80[\"base_gpu\"]).round(decimals=2)\n",
    "\n",
    "df_40_80 = df_40_80.T\n",
    "df_40_80[\"Mean\"] = df_40_80.T.mean()"
   ]
  },
  {
   "cell_type": "code",
   "execution_count": 8,
   "metadata": {
    "collapsed": true
   },
   "outputs": [],
   "source": [
    "sorted_df = df_40_80.T.sort_values(\"reuse_cpu/base_gpu\")\n",
    "top3 = sorted_df.values[0:3]\n",
    "bot3 = sorted_df.values[-3:]\n",
    "top3_titles = list(sorted_df.index[0:3])\n",
    "bot3_titles = list(sorted_df.index[-3:])"
   ]
  },
  {
   "cell_type": "code",
   "execution_count": 9,
   "metadata": {},
   "outputs": [
    {
     "data": {
      "text/html": [
       "<div>\n",
       "<style>\n",
       "    .dataframe thead tr:only-child th {\n",
       "        text-align: right;\n",
       "    }\n",
       "\n",
       "    .dataframe thead th {\n",
       "        text-align: left;\n",
       "    }\n",
       "\n",
       "    .dataframe tbody tr th {\n",
       "        vertical-align: top;\n",
       "    }\n",
       "</style>\n",
       "<table border=\"1\" class=\"dataframe\">\n",
       "  <thead>\n",
       "    <tr style=\"text-align: right;\">\n",
       "      <th></th>\n",
       "      <th>base_cpu</th>\n",
       "      <th>reuse_cpu</th>\n",
       "      <th>base_gpu</th>\n",
       "      <th>reuse_cpu/base_cpu</th>\n",
       "      <th>reuse_cpu/base_gpu</th>\n",
       "      <th>base_cpu/base_gpu</th>\n",
       "    </tr>\n",
       "  </thead>\n",
       "  <tbody>\n",
       "    <tr>\n",
       "      <th>Breakout</th>\n",
       "      <td>7.82</td>\n",
       "      <td>1.77</td>\n",
       "      <td>4.28</td>\n",
       "      <td>0.23</td>\n",
       "      <td>0.41</td>\n",
       "      <td>1.83</td>\n",
       "    </tr>\n",
       "    <tr>\n",
       "      <th>CrazyClimber</th>\n",
       "      <td>8.60</td>\n",
       "      <td>3.22</td>\n",
       "      <td>3.71</td>\n",
       "      <td>0.37</td>\n",
       "      <td>0.87</td>\n",
       "      <td>2.32</td>\n",
       "    </tr>\n",
       "    <tr>\n",
       "      <th>Qbert</th>\n",
       "      <td>16.13</td>\n",
       "      <td>5.32</td>\n",
       "      <td>5.34</td>\n",
       "      <td>0.33</td>\n",
       "      <td>1.00</td>\n",
       "      <td>3.02</td>\n",
       "    </tr>\n",
       "    <tr>\n",
       "      <th>PrivateEye</th>\n",
       "      <td>8.04</td>\n",
       "      <td>4.24</td>\n",
       "      <td>4.13</td>\n",
       "      <td>0.53</td>\n",
       "      <td>1.03</td>\n",
       "      <td>1.95</td>\n",
       "    </tr>\n",
       "    <tr>\n",
       "      <th>DemonAttack</th>\n",
       "      <td>7.62</td>\n",
       "      <td>4.20</td>\n",
       "      <td>4.05</td>\n",
       "      <td>0.55</td>\n",
       "      <td>1.04</td>\n",
       "      <td>1.88</td>\n",
       "    </tr>\n",
       "  </tbody>\n",
       "</table>\n",
       "</div>"
      ],
      "text/plain": [
       "              base_cpu  reuse_cpu  base_gpu  reuse_cpu/base_cpu  \\\n",
       "Breakout          7.82       1.77      4.28                0.23   \n",
       "CrazyClimber      8.60       3.22      3.71                0.37   \n",
       "Qbert            16.13       5.32      5.34                0.33   \n",
       "PrivateEye        8.04       4.24      4.13                0.53   \n",
       "DemonAttack       7.62       4.20      4.05                0.55   \n",
       "\n",
       "              reuse_cpu/base_gpu  base_cpu/base_gpu  \n",
       "Breakout                    0.41               1.83  \n",
       "CrazyClimber                0.87               2.32  \n",
       "Qbert                       1.00               3.02  \n",
       "PrivateEye                  1.03               1.95  \n",
       "DemonAttack                 1.04               1.88  "
      ]
     },
     "execution_count": 9,
     "metadata": {},
     "output_type": "execute_result"
    }
   ],
   "source": [
    "sorted_df.head()"
   ]
  },
  {
   "cell_type": "code",
   "execution_count": 12,
   "metadata": {},
   "outputs": [
    {
     "data": {
      "image/png": "[encoded data removed]",
      "text/plain": [
       "<matplotlib.figure.Figure at 0x7f1b4cc86c88>"
      ]
     },
     "metadata": {},
     "output_type": "display_data"
    }
   ],
   "source": [
    "n_groups=3\n",
    "\n",
    "# create plot\n",
    "plt.figure(figsize=(16,8))\n",
    "index = np.arange(n_groups)\n",
    "bar_width = 0.15\n",
    "opacity = 0.95\n",
    "\n",
    "rects1 = plt.bar(index, top3[:,0], bar_width,\n",
    "alpha=opacity,\n",
    "#color='r',\n",
    "label='Base CPU')\n",
    "\n",
    "rects2 = plt.bar(index + bar_width, top3[:,1], bar_width,\n",
    "alpha=opacity,\n",
    "#color='g',\n",
    "label='Reuse CPU')\n",
    "\n",
    "rects2 = plt.bar(index + bar_width*2, top3[:,2], bar_width,\n",
    "alpha=opacity,\n",
    "#color='b',\n",
    "label='Base GPU')\n",
    "\n",
    "plt.xlabel('Game', fontsize=14)\n",
    "plt.ylabel('Average time until completion (s)', fontsize=14)\n",
    "plt.title('Time for 3000 steps of training (best)', fontsize=20)\n",
    "plt.xticks(index + bar_width, top3_titles, fontsize=16)\n",
    "plt.legend(prop={'size': 16})\n",
    "\n",
    "plt.tight_layout()\n",
    "plt.savefig(\"training_d4_best_40_80.png\")\n",
    "plt.show()"
   ]
  },
  {
   "cell_type": "code",
   "execution_count": 13,
   "metadata": {},
   "outputs": [
    {
     "data": {
      "image/png": "[encoded data removed]",
      "text/plain": [
       "<matplotlib.figure.Figure at 0x7f1b4d1b98d0>"
      ]
     },
     "metadata": {},
     "output_type": "display_data"
    }
   ],
   "source": [
    "n_groups=3\n",
    "\n",
    "# create plot\n",
    "plt.figure(figsize=(16,8))\n",
    "index = np.arange(n_groups)\n",
    "bar_width = 0.15\n",
    "opacity = 0.95\n",
    "\n",
    "rects1 = plt.bar(index, bot3[:,0], bar_width,\n",
    "alpha=opacity,\n",
    "#color='r',\n",
    "label='Base CPU')\n",
    "\n",
    "rects2 = plt.bar(index + bar_width, bot3[:,1], bar_width,\n",
    "alpha=opacity,\n",
    "#color='g',\n",
    "label='Reuse CPU')\n",
    "\n",
    "rects2 = plt.bar(index + bar_width*2, bot3[:,2], bar_width,\n",
    "alpha=opacity,\n",
    "#color='b',\n",
    "label='Base GPU')\n",
    "\n",
    "plt.xlabel('Game', fontsize=14)\n",
    "plt.ylabel('Average time until completion (s)', fontsize=14)\n",
    "plt.title('Time for 3000 steps of training (worst)', fontsize=20)\n",
    "plt.xticks(index + bar_width, bot3_titles, fontsize=16)\n",
    "plt.legend(prop={'size': 16})\n",
    "\n",
    "plt.tight_layout()\n",
    "plt.savefig(\"training_d2_worst_40_80.png\")\n",
    "plt.show()"
   ]
  },
  {
   "cell_type": "code",
   "execution_count": null,
   "metadata": {
    "collapsed": true
   },
   "outputs": [],
   "source": []
  },
  {
   "cell_type": "code",
   "execution_count": null,
   "metadata": {
    "collapsed": true
   },
   "outputs": [],
   "source": []
  },
  {
   "cell_type": "code",
   "execution_count": null,
   "metadata": {
    "collapsed": true
   },
   "outputs": [],
   "source": []
  },
  {
   "cell_type": "code",
   "execution_count": null,
   "metadata": {
    "collapsed": true
   },
   "outputs": [],
   "source": []
  },
  {
   "cell_type": "code",
   "execution_count": null,
   "metadata": {
    "collapsed": true
   },
   "outputs": [],
   "source": []
  },
  {
   "cell_type": "code",
   "execution_count": null,
   "metadata": {
    "collapsed": true
   },
   "outputs": [],
   "source": []
  },
  {
   "cell_type": "code",
   "execution_count": 14,
   "metadata": {},
   "outputs": [
    {
     "data": {
      "text/plain": [
       "array([[ 3.99,  1.7 ,  3.07,  0.43,  0.55,  1.3 ],\n",
       "       [ 3.59,  2.16,  2.87,  0.6 ,  0.75,  1.25],\n",
       "       [ 6.74,  3.29,  3.97,  0.49,  0.83,  1.7 ]])"
      ]
     },
     "execution_count": 14,
     "metadata": {},
     "output_type": "execute_result"
    }
   ],
   "source": []
  },
  {
   "cell_type": "code",
   "execution_count": 6,
   "metadata": {
    "collapsed": true
   },
   "outputs": [],
   "source": [
    "#df = pd.DataFrame(results, index=atari_games_list)\n",
    "df_20_40 = pd.DataFrame(results_20_40, index=aliases)\n",
    "df_40_80 = pd.DataFrame(results_40_80, index=aliases)\n",
    "df_80_160 = pd.DataFrame(results_80_160, index=aliases)\n",
    "#df.columns = pd.MultiIndex.from_tuples(tuples)"
   ]
  },
  {
   "cell_type": "code",
   "execution_count": 22,
   "metadata": {
    "collapsed": true
   },
   "outputs": [],
   "source": [
    "#df = pd.DataFrame(results)\n"
   ]
  },
  {
   "cell_type": "code",
   "execution_count": 29,
   "metadata": {},
   "outputs": [
    {
     "data": {
      "text/html": [
       "<div>\n",
       "<style>\n",
       "    .dataframe thead tr:only-child th {\n",
       "        text-align: right;\n",
       "    }\n",
       "\n",
       "    .dataframe thead th {\n",
       "        text-align: left;\n",
       "    }\n",
       "\n",
       "    .dataframe tbody tr th {\n",
       "        vertical-align: top;\n",
       "    }\n",
       "</style>\n",
       "<table border=\"1\" class=\"dataframe\">\n",
       "  <thead>\n",
       "    <tr style=\"text-align: right;\">\n",
       "      <th></th>\n",
       "      <th>Alien</th>\n",
       "      <th>Amidar</th>\n",
       "      <th>Assault</th>\n",
       "      <th>Asterix</th>\n",
       "      <th>BankHeist</th>\n",
       "      <th>BattleZone</th>\n",
       "      <th>Boxing</th>\n",
       "      <th>Breakout</th>\n",
       "      <th>ChopperCommand</th>\n",
       "      <th>CrazyClimber</th>\n",
       "      <th>...</th>\n",
       "      <th>Krull</th>\n",
       "      <th>KungFuMaster</th>\n",
       "      <th>MsPacman</th>\n",
       "      <th>Pong</th>\n",
       "      <th>PrivateEye</th>\n",
       "      <th>Qbert</th>\n",
       "      <th>RoadRunner</th>\n",
       "      <th>Seaquest</th>\n",
       "      <th>YarsRevenge</th>\n",
       "      <th>Mean</th>\n",
       "    </tr>\n",
       "  </thead>\n",
       "  <tbody>\n",
       "    <tr>\n",
       "      <th>base_cpu</th>\n",
       "      <td>52.89</td>\n",
       "      <td>53.92</td>\n",
       "      <td>39.23</td>\n",
       "      <td>43.7</td>\n",
       "      <td>33.94</td>\n",
       "      <td>48.67</td>\n",
       "      <td>50.22</td>\n",
       "      <td>27.44</td>\n",
       "      <td>52.52</td>\n",
       "      <td>18.27</td>\n",
       "      <td>...</td>\n",
       "      <td>32.97</td>\n",
       "      <td>48.38</td>\n",
       "      <td>46.82</td>\n",
       "      <td>35.40</td>\n",
       "      <td>20.03</td>\n",
       "      <td>40.05</td>\n",
       "      <td>52.85</td>\n",
       "      <td>28.64</td>\n",
       "      <td>44.31</td>\n",
       "      <td>39.240833</td>\n",
       "    </tr>\n",
       "    <tr>\n",
       "      <th>reuse_cpu</th>\n",
       "      <td>37.32</td>\n",
       "      <td>23.30</td>\n",
       "      <td>24.9</td>\n",
       "      <td>26.85</td>\n",
       "      <td>14.93</td>\n",
       "      <td>37.36</td>\n",
       "      <td>26.92</td>\n",
       "      <td>5.75</td>\n",
       "      <td>41.98</td>\n",
       "      <td>5.32</td>\n",
       "      <td>...</td>\n",
       "      <td>32.02</td>\n",
       "      <td>22.07</td>\n",
       "      <td>31.97</td>\n",
       "      <td>13.46</td>\n",
       "      <td>7.81</td>\n",
       "      <td>9.65</td>\n",
       "      <td>26.11</td>\n",
       "      <td>17.69</td>\n",
       "      <td>34.51</td>\n",
       "      <td>22.110833</td>\n",
       "    </tr>\n",
       "    <tr>\n",
       "      <th>base_gpu</th>\n",
       "      <td>9.24</td>\n",
       "      <td>9.71</td>\n",
       "      <td>-</td>\n",
       "      <td>-</td>\n",
       "      <td>-</td>\n",
       "      <td>-</td>\n",
       "      <td>-</td>\n",
       "      <td>-</td>\n",
       "      <td>-</td>\n",
       "      <td>-</td>\n",
       "      <td>...</td>\n",
       "      <td>-</td>\n",
       "      <td>-</td>\n",
       "      <td>8.33</td>\n",
       "      <td>7.88</td>\n",
       "      <td>-</td>\n",
       "      <td>8.24</td>\n",
       "      <td>-</td>\n",
       "      <td>-</td>\n",
       "      <td>-</td>\n",
       "      <td>8.703333</td>\n",
       "    </tr>\n",
       "    <tr>\n",
       "      <th>reuse_cpu/base_cpu</th>\n",
       "      <td>0.71</td>\n",
       "      <td>0.43</td>\n",
       "      <td>0.63</td>\n",
       "      <td>0.61</td>\n",
       "      <td>0.44</td>\n",
       "      <td>0.77</td>\n",
       "      <td>0.54</td>\n",
       "      <td>0.21</td>\n",
       "      <td>0.8</td>\n",
       "      <td>0.29</td>\n",
       "      <td>...</td>\n",
       "      <td>0.97</td>\n",
       "      <td>0.46</td>\n",
       "      <td>0.68</td>\n",
       "      <td>0.38</td>\n",
       "      <td>0.39</td>\n",
       "      <td>0.24</td>\n",
       "      <td>0.49</td>\n",
       "      <td>0.62</td>\n",
       "      <td>0.78</td>\n",
       "      <td>0.540000</td>\n",
       "    </tr>\n",
       "    <tr>\n",
       "      <th>reuse_cpu/base_gpu</th>\n",
       "      <td>4.04</td>\n",
       "      <td>2.40</td>\n",
       "      <td>-</td>\n",
       "      <td>-</td>\n",
       "      <td>-</td>\n",
       "      <td>-</td>\n",
       "      <td>-</td>\n",
       "      <td>-</td>\n",
       "      <td>-</td>\n",
       "      <td>-</td>\n",
       "      <td>...</td>\n",
       "      <td>-</td>\n",
       "      <td>-</td>\n",
       "      <td>3.84</td>\n",
       "      <td>1.71</td>\n",
       "      <td>-</td>\n",
       "      <td>1.17</td>\n",
       "      <td>-</td>\n",
       "      <td>-</td>\n",
       "      <td>-</td>\n",
       "      <td>2.700000</td>\n",
       "    </tr>\n",
       "    <tr>\n",
       "      <th>base_cpu/base_gpu</th>\n",
       "      <td>5.72</td>\n",
       "      <td>5.55</td>\n",
       "      <td>-</td>\n",
       "      <td>-</td>\n",
       "      <td>-</td>\n",
       "      <td>-</td>\n",
       "      <td>-</td>\n",
       "      <td>-</td>\n",
       "      <td>-</td>\n",
       "      <td>-</td>\n",
       "      <td>...</td>\n",
       "      <td>-</td>\n",
       "      <td>-</td>\n",
       "      <td>5.62</td>\n",
       "      <td>4.49</td>\n",
       "      <td>-</td>\n",
       "      <td>4.86</td>\n",
       "      <td>-</td>\n",
       "      <td>-</td>\n",
       "      <td>-</td>\n",
       "      <td>5.408333</td>\n",
       "    </tr>\n",
       "  </tbody>\n",
       "</table>\n",
       "<p>6 rows × 25 columns</p>\n",
       "</div>"
      ],
      "text/plain": [
       "                    Alien  Amidar Assault Asterix BankHeist BattleZone Boxing  \\\n",
       "base_cpu            52.89   53.92   39.23    43.7     33.94      48.67  50.22   \n",
       "reuse_cpu           37.32   23.30    24.9   26.85     14.93      37.36  26.92   \n",
       "base_gpu             9.24    9.71       -       -         -          -      -   \n",
       "reuse_cpu/base_cpu   0.71    0.43    0.63    0.61      0.44       0.77   0.54   \n",
       "reuse_cpu/base_gpu   4.04    2.40       -       -         -          -      -   \n",
       "base_cpu/base_gpu    5.72    5.55       -       -         -          -      -   \n",
       "\n",
       "                   Breakout ChopperCommand CrazyClimber    ...      Krull  \\\n",
       "base_cpu              27.44          52.52        18.27    ...      32.97   \n",
       "reuse_cpu              5.75          41.98         5.32    ...      32.02   \n",
       "base_gpu                  -              -            -    ...          -   \n",
       "reuse_cpu/base_cpu     0.21            0.8         0.29    ...       0.97   \n",
       "reuse_cpu/base_gpu        -              -            -    ...          -   \n",
       "base_cpu/base_gpu         -              -            -    ...          -   \n",
       "\n",
       "                   KungFuMaster MsPacman   Pong  PrivateEye  Qbert RoadRunner  \\\n",
       "base_cpu                  48.38    46.82  35.40       20.03  40.05      52.85   \n",
       "reuse_cpu                 22.07    31.97  13.46        7.81   9.65      26.11   \n",
       "base_gpu                      -     8.33   7.88           -   8.24          -   \n",
       "reuse_cpu/base_cpu         0.46     0.68   0.38        0.39   0.24       0.49   \n",
       "reuse_cpu/base_gpu            -     3.84   1.71           -   1.17          -   \n",
       "base_cpu/base_gpu             -     5.62   4.49           -   4.86          -   \n",
       "\n",
       "                    Seaquest  YarsRevenge       Mean  \n",
       "base_cpu               28.64        44.31  39.240833  \n",
       "reuse_cpu              17.69        34.51  22.110833  \n",
       "base_gpu                   -            -   8.703333  \n",
       "reuse_cpu/base_cpu      0.62         0.78   0.540000  \n",
       "reuse_cpu/base_gpu         -            -   2.700000  \n",
       "base_cpu/base_gpu          -            -   5.408333  \n",
       "\n",
       "[6 rows x 25 columns]"
      ]
     },
     "execution_count": 29,
     "metadata": {},
     "output_type": "execute_result"
    }
   ],
   "source": [
    "df_80_160.fillna(\"-\")"
   ]
  },
  {
   "cell_type": "code",
   "execution_count": 9,
   "metadata": {
    "collapsed": true
   },
   "outputs": [],
   "source": [
    "#df.to_html('training_table_by_episode_20_40_3000_steps.html')"
   ]
  },
  {
   "cell_type": "code",
   "execution_count": 10,
   "metadata": {
    "collapsed": true
   },
   "outputs": [],
   "source": [
    "## New table - Computational savings from base cpu to reuse cpu, and base gpu to reuse cpu, and add row that has average"
   ]
  },
  {
   "cell_type": "code",
   "execution_count": 7,
   "metadata": {
    "collapsed": true
   },
   "outputs": [],
   "source": [
    "df_20_40 = df_20_40.T\n",
    "\n",
    "df_20_40[\"reuse_cpu/base_cpu\"] = (df_20_40[\"reuse_cpu\"] / df_20_40[\"base_cpu\"]).round(decimals=2)\n",
    "df_20_40[\"reuse_cpu/base_gpu\"] = (df_20_40[\"reuse_cpu\"] / df_20_40[\"base_gpu\"]).round(decimals=2)\n",
    "df_20_40[\"base_cpu/base_gpu\"] = (df_20_40[\"base_cpu\"] / df_20_40[\"base_gpu\"]).round(decimals=2)\n",
    "\n",
    "df_20_40 = df_20_40.T\n",
    "df_20_40[\"Mean\"] = df_20_40.T.mean()\n",
    "\n",
    "#df_20_40.round(2).to_html('training_table_by_episode_20_40_3000_steps_more_info.html')\n",
    "#df_20_40.T.round(2).to_html('training_table_by_episode_20_40_3000_steps_more_info_T.html')"
   ]
  },
  {
   "cell_type": "code",
   "execution_count": 25,
   "metadata": {
    "collapsed": true
   },
   "outputs": [],
   "source": [
    "df_40_80 = df_40_80.T\n",
    "\n",
    "df_40_80[\"reuse_cpu/base_cpu\"] = (df_40_80[\"reuse_cpu\"] / df_40_80[\"base_cpu\"]).round(decimals=2)\n",
    "df_40_80[\"reuse_cpu/base_gpu\"] = (df_40_80[\"reuse_cpu\"] / df_40_80[\"base_gpu\"]).round(decimals=2)\n",
    "df_40_80[\"base_cpu/base_gpu\"] = (df_40_80[\"base_cpu\"] / df_40_80[\"base_gpu\"]).round(decimals=2)\n",
    "\n",
    "df_40_80 = df_40_80.T\n",
    "df_40_80[\"Mean\"] = df_40_80.T.mean()\n",
    "\n",
    "df_40_80.round(2).to_html('training_table_by_episode_40_80_3000_steps_more_info.html')\n",
    "df_40_80.T.round(2).to_html('training_table_by_episode_40_80_3000_steps_more_info_T.html')"
   ]
  },
  {
   "cell_type": "code",
   "execution_count": 30,
   "metadata": {
    "collapsed": true
   },
   "outputs": [],
   "source": [
    "df_80_160 = df_80_160.T\n",
    "\n",
    "df_80_160[\"reuse_cpu/base_cpu\"] = (df_80_160[\"reuse_cpu\"] / df_80_160[\"base_cpu\"]).round(decimals=2)\n",
    "df_80_160[\"reuse_cpu/base_gpu\"] = (df_80_160[\"reuse_cpu\"] / df_80_160[\"base_gpu\"]).round(decimals=2)\n",
    "df_80_160[\"base_cpu/base_gpu\"] = (df_80_160[\"base_cpu\"] / df_80_160[\"base_gpu\"]).round(decimals=2)\n",
    "\n",
    "df_80_160 = df_80_160.T\n",
    "df_80_160[\"Mean\"] = df_80_160.T.mean()\n",
    "\n",
    "df_80_160.round(2).fillna(\"-\").to_html('training_table_by_episode_80_160_3000_steps_more_info.html')\n",
    "df_80_160.T.round(2).fillna(\"-\").to_html('training_table_by_episode_80_160_3000_steps_more_info_T.html')"
   ]
  },
  {
   "cell_type": "code",
   "execution_count": null,
   "metadata": {
    "collapsed": true
   },
   "outputs": [],
   "source": []
  },
  {
   "cell_type": "code",
   "execution_count": null,
   "metadata": {
    "collapsed": true
   },
   "outputs": [],
   "source": []
  },
  {
   "cell_type": "code",
   "execution_count": 11,
   "metadata": {
    "collapsed": true
   },
   "outputs": [],
   "source": [
    "df = df.T"
   ]
  },
  {
   "cell_type": "code",
   "execution_count": 12,
   "metadata": {
    "collapsed": true
   },
   "outputs": [],
   "source": [
    "df[\"reuse_cpu/base_cpu\"] = (df[\"reuse_cpu\"] / df[\"base_cpu\"]).round(decimals=2)\n",
    "\n",
    "df[\"reuse_cpu/base_gpu\"] = (df[\"reuse_cpu\"] / df[\"base_gpu\"]).round(decimals=2)\n",
    "\n",
    "df[\"base_cpu/base_gpu\"] = (df[\"base_cpu\"] / df[\"base_gpu\"]).round(decimals=2)"
   ]
  },
  {
   "cell_type": "code",
   "execution_count": 13,
   "metadata": {
    "collapsed": true
   },
   "outputs": [],
   "source": [
    "df = df.round(decimals=2).T"
   ]
  },
  {
   "cell_type": "code",
   "execution_count": 14,
   "metadata": {
    "collapsed": true
   },
   "outputs": [],
   "source": [
    "df[\"Mean\"] = df.T.mean()"
   ]
  },
  {
   "cell_type": "code",
   "execution_count": 15,
   "metadata": {},
   "outputs": [
    {
     "data": {
      "text/plain": [
       "base_cpu              7.109583\n",
       "reuse_cpu             5.567500\n",
       "base_gpu              3.862917\n",
       "reuse_cpu/base_cpu    0.772500\n",
       "reuse_cpu/base_gpu    1.408333\n",
       "base_cpu/base_gpu     1.805417\n",
       "Name: Mean, dtype: float64"
      ]
     },
     "execution_count": 15,
     "metadata": {},
     "output_type": "execute_result"
    }
   ],
   "source": [
    "df[\"Mean\"]"
   ]
  },
  {
   "cell_type": "code",
   "execution_count": 16,
   "metadata": {
    "collapsed": true
   },
   "outputs": [],
   "source": [
    "df.round(2).to_html('training_table_by_episode_20_40_conv_3000_steps_more_info.html')"
   ]
  },
  {
   "cell_type": "code",
   "execution_count": 18,
   "metadata": {
    "collapsed": true
   },
   "outputs": [],
   "source": [
    "df.T.round(2).to_html('training_table_by_episode_20_40_conv_3000_steps_more_info_T.html')"
   ]
  },
  {
   "cell_type": "code",
   "execution_count": null,
   "metadata": {
    "collapsed": true
   },
   "outputs": [],
   "source": []
  }
 ],
 "metadata": {
  "kernelspec": {
   "display_name": "Python 3",
   "language": "python",
   "name": "python3"
  },
  "language_info": {
   "codemirror_mode": {
    "name": "ipython",
    "version": 3
   },
   "file_extension": ".py",
   "mimetype": "text/x-python",
   "name": "python",
   "nbconvert_exporter": "python",
   "pygments_lexer": "ipython3",
   "version": "3.5.4"
  }
 },
 "nbformat": 4,
 "nbformat_minor": 2
}
