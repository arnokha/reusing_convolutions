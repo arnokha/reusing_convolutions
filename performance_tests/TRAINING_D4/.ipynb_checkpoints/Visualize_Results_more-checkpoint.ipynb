{
 "cells": [
  {
   "cell_type": "code",
   "execution_count": 1,
   "metadata": {
    "collapsed": true
   },
   "outputs": [],
   "source": [
    "import numpy as np\n",
    "import matplotlib.pyplot as plt\n",
    "import os\n",
    "import pandas as pd\n",
    "import seaborn as sns\n",
    "\n",
    "sns.set()"
   ]
  },
  {
   "cell_type": "code",
   "execution_count": 2,
   "metadata": {
    "collapsed": true
   },
   "outputs": [],
   "source": [
    "atari_games_list = [\n",
    "    \"Alien\",\n",
    "    \"Amidar\",\n",
    "    \"Assault\",\n",
    "    \"Asterix\",\n",
    "    \"BankHeist\",\n",
    "    \"BattleZone\",\n",
    "    \"Boxing\",\n",
    "    \"Breakout\",\n",
    "    \"ChopperCommand\",\n",
    "    \"CrazyClimber\",\n",
    "    \"DemonAttack\",\n",
    "    \"Freeway\",\n",
    "    \"Gopher\",\n",
    "    \"Hero\",\n",
    "    \"Kangaroo\",\n",
    "    \"Krull\",\n",
    "    \"KungFuMaster\",\n",
    "    \"MsPacman\",\n",
    "    \"Pong\",\n",
    "    \"PrivateEye\",\n",
    "    \"Qbert\",\n",
    "    \"RoadRunner\",\n",
    "    \"YarsRevenge\",\n",
    "    \"Seaquest\"\n",
    "]"
   ]
  },
  {
   "cell_type": "code",
   "execution_count": 3,
   "metadata": {
    "collapsed": true
   },
   "outputs": [],
   "source": [
    "def extract_avg(f):\n",
    "    with open(f) as f:\n",
    "        first_line = f.readline()\n",
    "        return float(first_line.rsplit(\" \")[-1])"
   ]
  },
  {
   "cell_type": "code",
   "execution_count": 13,
   "metadata": {},
   "outputs": [
    {
     "name": "stdout",
     "output_type": "stream",
     "text": [
      "['test_base_conv_cpu_40_80_out.txt', 'test_base_conv_cpu_80_160_out.txt', '.ipynb_checkpoints', 'test_base_conv_cpu_20_40_out.txt']\n",
      "['test_base_conv_cpu_40_80_out.txt', 'test_base_conv_cpu_80_160_out.txt', 'test_base_conv_cpu_20_40_out.txt']\n",
      "['test_base_conv_cpu_40_80_out.txt', 'test_base_conv_cpu_80_160_out.txt', 'test_base_conv_cpu_20_40_out.txt']\n",
      "['test_base_conv_cpu_40_80_out.txt', 'test_base_conv_cpu_80_160_out.txt', 'test_base_conv_cpu_20_40_out.txt']\n",
      "['test_base_conv_cpu_40_80_out.txt', 'test_base_conv_cpu_80_160_out.txt', 'test_base_conv_cpu_20_40_out.txt']\n",
      "['test_base_conv_cpu_40_80_out.txt', 'test_base_conv_cpu_80_160_out.txt', 'test_base_conv_cpu_20_40_out.txt']\n",
      "['test_base_conv_cpu_40_80_out.txt', 'test_base_conv_cpu_80_160_out.txt', 'test_base_conv_cpu_20_40_out.txt']\n",
      "['test_base_conv_cpu_40_80_out.txt', 'test_base_conv_cpu_80_160_out.txt', 'test_base_conv_cpu_20_40_out.txt']\n",
      "['test_base_conv_cpu_40_80_out.txt', 'test_base_conv_cpu_80_160_out.txt', 'test_base_conv_cpu_20_40_out.txt']\n",
      "['test_base_conv_cpu_40_80_out.txt', 'test_base_conv_cpu_80_160_out.txt', 'test_base_conv_cpu_20_40_out.txt']\n",
      "['test_base_conv_cpu_40_80_out.txt', 'test_base_conv_cpu_80_160_out.txt', 'test_base_conv_cpu_20_40_out.txt']\n",
      "['test_base_conv_cpu_40_80_out.txt', 'test_base_conv_cpu_80_160_out.txt', 'test_base_conv_cpu_20_40_out.txt']\n",
      "['test_base_conv_cpu_40_80_out.txt', 'test_base_conv_cpu_80_160_out.txt', 'test_base_conv_cpu_20_40_out.txt']\n",
      "['test_base_conv_cpu_40_80_out.txt', 'test_base_conv_cpu_80_160_out.txt', 'test_base_conv_cpu_20_40_out.txt']\n",
      "['test_base_conv_cpu_40_80_out.txt', 'test_base_conv_cpu_80_160_out.txt', 'test_base_conv_cpu_20_40_out.txt']\n",
      "['test_base_conv_cpu_40_80_out.txt', 'test_base_conv_cpu_80_160_out.txt', 'test_base_conv_cpu_20_40_out.txt']\n",
      "['test_base_conv_cpu_40_80_out.txt', 'test_base_conv_cpu_80_160_out.txt', 'test_base_conv_cpu_20_40_out.txt']\n",
      "['test_base_conv_cpu_40_80_out.txt', 'test_base_conv_cpu_80_160_out.txt', 'test_base_conv_cpu_20_40_out.txt']\n",
      "['test_base_conv_cpu_40_80_out.txt', 'test_base_conv_cpu_80_160_out.txt', 'test_base_conv_cpu_20_40_out.txt']\n",
      "['test_base_conv_cpu_40_80_out.txt', 'test_base_conv_cpu_80_160_out.txt', 'test_base_conv_cpu_20_40_out.txt']\n",
      "['test_base_conv_cpu_40_80_out.txt', 'test_base_conv_cpu_80_160_out.txt', 'test_base_conv_cpu_20_40_out.txt']\n",
      "['test_base_conv_cpu_40_80_out.txt', 'test_base_conv_cpu_80_160_out.txt', 'test_base_conv_cpu_20_40_out.txt']\n",
      "['test_base_conv_cpu_40_80_out.txt', 'test_base_conv_cpu_80_160_out.txt', 'test_base_conv_cpu_20_40_out.txt']\n",
      "['test_base_conv_cpu_40_80_out.txt', 'test_base_conv_cpu_80_160_out.txt', 'test_base_conv_cpu_20_40_out.txt']\n",
      "['test_reuse_conv_cpu_80_160_out.txt', 'test_reuse_conv_cpu_40_80_out.txt', 'test_reuse_conv_cpu_20_40_out.txt']\n",
      "['test_reuse_conv_cpu_80_160_out.txt', 'test_reuse_conv_cpu_40_80_out.txt', 'test_reuse_conv_cpu_20_40_out.txt']\n",
      "['test_reuse_conv_cpu_80_160_out.txt', 'test_reuse_conv_cpu_40_80_out.txt', 'test_reuse_conv_cpu_20_40_out.txt']\n",
      "['test_reuse_conv_cpu_80_160_out.txt', 'test_reuse_conv_cpu_40_80_out.txt', 'test_reuse_conv_cpu_20_40_out.txt']\n",
      "['test_reuse_conv_cpu_80_160_out.txt', 'test_reuse_conv_cpu_40_80_out.txt', 'test_reuse_conv_cpu_20_40_out.txt']\n",
      "['test_reuse_conv_cpu_80_160_out.txt', 'test_reuse_conv_cpu_40_80_out.txt', 'test_reuse_conv_cpu_20_40_out.txt']\n",
      "['test_reuse_conv_cpu_80_160_out.txt', 'test_reuse_conv_cpu_40_80_out.txt', 'test_reuse_conv_cpu_20_40_out.txt']\n",
      "['test_reuse_conv_cpu_80_160_out.txt', 'test_reuse_conv_cpu_40_80_out.txt', 'test_reuse_conv_cpu_20_40_out.txt']\n",
      "['test_reuse_conv_cpu_80_160_out.txt', 'test_reuse_conv_cpu_40_80_out.txt', 'test_reuse_conv_cpu_20_40_out.txt']\n",
      "['test_reuse_conv_cpu_80_160_out.txt', 'test_reuse_conv_cpu_40_80_out.txt', 'test_reuse_conv_cpu_20_40_out.txt']\n",
      "['test_reuse_conv_cpu_80_160_out.txt', 'test_reuse_conv_cpu_40_80_out.txt', 'test_reuse_conv_cpu_20_40_out.txt']\n",
      "['test_reuse_conv_cpu_80_160_out.txt', 'test_reuse_conv_cpu_40_80_out.txt', 'test_reuse_conv_cpu_20_40_out.txt']\n",
      "['test_reuse_conv_cpu_80_160_out.txt', 'test_reuse_conv_cpu_40_80_out.txt', 'test_reuse_conv_cpu_20_40_out.txt']\n",
      "['test_reuse_conv_cpu_80_160_out.txt', 'test_reuse_conv_cpu_40_80_out.txt', 'test_reuse_conv_cpu_20_40_out.txt']\n",
      "['test_reuse_conv_cpu_80_160_out.txt', 'test_reuse_conv_cpu_40_80_out.txt', 'test_reuse_conv_cpu_20_40_out.txt']\n",
      "['test_reuse_conv_cpu_80_160_out.txt', 'test_reuse_conv_cpu_40_80_out.txt', 'test_reuse_conv_cpu_20_40_out.txt']\n",
      "['test_reuse_conv_cpu_80_160_out.txt', 'test_reuse_conv_cpu_40_80_out.txt', 'test_reuse_conv_cpu_20_40_out.txt']\n",
      "['test_reuse_conv_cpu_80_160_out.txt', 'test_reuse_conv_cpu_40_80_out.txt', 'test_reuse_conv_cpu_20_40_out.txt']\n",
      "['test_reuse_conv_cpu_80_160_out.txt', 'test_reuse_conv_cpu_40_80_out.txt', 'test_reuse_conv_cpu_20_40_out.txt']\n",
      "['test_reuse_conv_cpu_80_160_out.txt', 'test_reuse_conv_cpu_40_80_out.txt', 'test_reuse_conv_cpu_20_40_out.txt']\n",
      "['test_reuse_conv_cpu_80_160_out.txt', 'test_reuse_conv_cpu_40_80_out.txt', 'test_reuse_conv_cpu_20_40_out.txt']\n",
      "['test_reuse_conv_cpu_80_160_out.txt', 'test_reuse_conv_cpu_40_80_out.txt', 'test_reuse_conv_cpu_20_40_out.txt']\n",
      "['test_reuse_conv_cpu_80_160_out.txt', 'test_reuse_conv_cpu_40_80_out.txt', 'test_reuse_conv_cpu_20_40_out.txt']\n",
      "['test_reuse_conv_cpu_80_160_out.txt', 'test_reuse_conv_cpu_40_80_out.txt', 'test_reuse_conv_cpu_20_40_out.txt']\n",
      "['test_base_conv_cuda_80_160_out.txt', 'test_base_conv_cuda_40_80_out.txt', 'test_base_conv_cuda_20_40_out.txt']\n",
      "['test_base_conv_cuda_80_160_out.txt', 'test_base_conv_cuda_40_80_out.txt', 'test_base_conv_cuda_20_40_out.txt']\n",
      "['test_base_conv_cuda_40_80_out.txt', 'test_base_conv_cuda_20_40_out.txt']\n",
      "No results for: Assault (./BASE_GPU/)\n",
      "['test_base_conv_cuda_40_80_out.txt', 'test_base_conv_cuda_20_40_out.txt']\n",
      "No results for: Asterix (./BASE_GPU/)\n",
      "['test_base_conv_cuda_40_80_out.txt', 'test_base_conv_cuda_20_40_out.txt']\n",
      "No results for: BankHeist (./BASE_GPU/)\n",
      "['test_base_conv_cuda_40_80_out.txt', 'test_base_conv_cuda_20_40_out.txt']\n",
      "No results for: BattleZone (./BASE_GPU/)\n",
      "['test_base_conv_cuda_40_80_out.txt', 'test_base_conv_cuda_20_40_out.txt']\n",
      "No results for: Boxing (./BASE_GPU/)\n",
      "['test_base_conv_cuda_40_80_out.txt', 'test_base_conv_cuda_20_40_out.txt']\n",
      "No results for: Breakout (./BASE_GPU/)\n",
      "['test_base_conv_cuda_40_80_out.txt', 'test_base_conv_cuda_20_40_out.txt']\n",
      "No results for: ChopperCommand (./BASE_GPU/)\n",
      "['test_base_conv_cuda_40_80_out.txt', 'test_base_conv_cuda_20_40_out.txt']\n",
      "No results for: CrazyClimber (./BASE_GPU/)\n",
      "['test_base_conv_cuda_40_80_out.txt', 'test_base_conv_cuda_20_40_out.txt']\n",
      "No results for: DemonAttack (./BASE_GPU/)\n",
      "['test_base_conv_cuda_40_80_out.txt', 'test_base_conv_cuda_20_40_out.txt']\n",
      "No results for: Freeway (./BASE_GPU/)\n",
      "['test_base_conv_cuda_40_80_out.txt', 'test_base_conv_cuda_20_40_out.txt']\n",
      "No results for: Gopher (./BASE_GPU/)\n",
      "['test_base_conv_cuda_40_80_out.txt', 'test_base_conv_cuda_20_40_out.txt']\n",
      "No results for: Hero (./BASE_GPU/)\n",
      "['test_base_conv_cuda_80_160_out.txt', 'test_base_conv_cuda_40_80_out.txt', 'test_base_conv_cuda_20_40_out.txt']\n",
      "['test_base_conv_cuda_40_80_out.txt', 'test_base_conv_cuda_20_40_out.txt']\n",
      "No results for: Krull (./BASE_GPU/)\n",
      "['test_base_conv_cuda_40_80_out.txt', 'test_base_conv_cuda_20_40_out.txt']\n",
      "No results for: KungFuMaster (./BASE_GPU/)\n",
      "['test_base_conv_cuda_80_160_out.txt', 'test_base_conv_cuda_40_80_out.txt', 'test_base_conv_cuda_20_40_out.txt']\n",
      "['test_base_conv_cuda_80_160_out.txt', 'test_base_conv_cuda_40_80_out.txt', 'test_base_conv_cuda_20_40_out.txt']\n",
      "['test_base_conv_cuda_40_80_out.txt', 'test_base_conv_cuda_20_40_out.txt']\n",
      "No results for: PrivateEye (./BASE_GPU/)\n",
      "['test_base_conv_cuda_80_160_out.txt', 'test_base_conv_cuda_40_80_out.txt', 'test_base_conv_cuda_20_40_out.txt']\n",
      "['test_base_conv_cuda_40_80_out.txt', 'test_base_conv_cuda_20_40_out.txt']\n",
      "No results for: RoadRunner (./BASE_GPU/)\n",
      "['test_base_conv_cuda_40_80_out.txt', 'test_base_conv_cuda_20_40_out.txt']\n",
      "No results for: Seaquest (./BASE_GPU/)\n",
      "['test_base_conv_cuda_40_80_out.txt', 'test_base_conv_cuda_20_40_out.txt']\n",
      "No results for: YarsRevenge (./BASE_GPU/)\n"
     ]
    }
   ],
   "source": [
    "results_20_40 = {}\n",
    "results_40_80 = {}\n",
    "results_80_160 = {}\n",
    "DIRS = [\"./BASE_CPU/\", \"./REUSE_CPU/\", \"./BASE_GPU/\"]\n",
    "aliases = [\"base_cpu\", \"reuse_cpu\", \"base_gpu\"]\n",
    "\n",
    "games_results_not_complete = []\n",
    "\n",
    "for game in atari_games_list:\n",
    "    results_20_40[game] = []\n",
    "    results_40_80[game] = []\n",
    "    results_80_160[game] = []\n",
    "    \n",
    "for DIR, alias in zip(DIRS, aliases):\n",
    "    dir_cont = sorted(os.listdir(DIR))\n",
    "    #print(DIR)\n",
    "    \n",
    "    for game in dir_cont: ## Each game is a dir name\n",
    "        \n",
    "        ## Skip any non-directory files\n",
    "        if \".sh\" in game or \".py\" in game:\n",
    "            continue\n",
    "        \n",
    "        ## Get result file from sub directory\n",
    "        full_path = DIR + game\n",
    "        result_files = os.listdir(full_path)\n",
    "        print(result_files)\n",
    "        \n",
    "        ## Detect missing results\n",
    "        if len(result_files) < 3:\n",
    "            print(\"No results for: \" + full_path.rsplit(\"/\")[-1] + \" (\"+DIR+\")\")\n",
    "            games_results_not_complete.append(full_path.rsplit(\"/\")[-1])\n",
    "            results_80_160[game].append(np.nan)\n",
    "            continue\n",
    "\n",
    "        ## Now we are looking at the result of a particular game using a particular method/hardware\n",
    "        #results[(alias, game)] = extract_avg(full_path + \"/\" + result_file[0])\n",
    "        for result_file in result_files:\n",
    "            #print(result_file)\n",
    "            if \"20_40\" in result_file:\n",
    "                results_20_40[game].append(extract_avg(full_path + \"/\" + result_file))\n",
    "            elif \"40_80\" in result_file:\n",
    "                results_40_80[game].append(extract_avg(full_path + \"/\" + result_file))\n",
    "            elif \"80_160\" in result_file:\n",
    "                results_80_160[game].append(extract_avg(full_path + \"/\" + result_file))"
   ]
  },
  {
   "cell_type": "code",
   "execution_count": 14,
   "metadata": {},
   "outputs": [
    {
     "name": "stdout",
     "output_type": "stream",
     "text": [
      "{'ChopperCommand': [9.41, 9.11], 'BattleZone': [8.35, 7.71], 'Alien': [10.56, 8.86, 4.62], 'CrazyClimber': [3.59, 2.16], 'Assault': [6.96, 5.66], 'KungFuMaster': [9.14, 6.33], 'PrivateEye': [3.99, 3.07], 'DemonAttack': [3.64, 3.4], 'Breakout': [3.99, 1.7], 'Freeway': [6.65, 7.26], 'MsPacman': [7.61, 6.72, 4.22], 'Seaquest': [5.29, 3.97], 'YarsRevenge': [7.81, 7.29], 'Amidar': [9.59, 6.01, 4.63], 'Gopher': [6.75, 3.71], 'BankHeist': [7.5, 5.45], 'Qbert': [6.74, 3.29, 3.97], 'Asterix': [7.46, 5.9], 'Krull': [6.11, 7.2], 'Pong': [5.69, 3.7, 3.63], 'Kangaroo': [9.82, 6.81, 4.31], 'Hero': [5.35, 3.17], 'Boxing': [9.47, 7.82], 'RoadRunner': [9.16, 7.32]}\n",
      "\n",
      "{'ChopperCommand': [22.87, 17.36], 'BattleZone': [17.13, 14.12], 'Alien': [22.47, 17.32, 5.99], 'CrazyClimber': [8.6, 3.23], 'Assault': [18.51, 13.9], 'KungFuMaster': [20.04, 12.0], 'PrivateEye': [8.04, 4.24], 'DemonAttack': [7.62, 4.19], 'Breakout': [7.82, 1.79], 'Freeway': [14.25, 14.7], 'MsPacman': [18.09, 13.9, 5.53], 'Seaquest': [13.23, 11.01], 'YarsRevenge': [18.93, 20.16], 'Amidar': [21.55, 10.65, 6.42], 'Gopher': [16.85, 7.16], 'BankHeist': [20.19, 12.12], 'Qbert': [16.13, 5.25, 5.34], 'Asterix': [16.92, 12.45], 'Krull': [17.58, 14.11], 'Pong': [13.24, 6.36, 5.05], 'Kangaroo': [22.47, 13.23, 5.78], 'Hero': [10.17, 5.05], 'Boxing': [20.62, 14.08], 'RoadRunner': [23.62, 16.5]}\n",
      "\n",
      "{'ChopperCommand': [52.52, 41.98, nan], 'BattleZone': [48.67, 37.36, nan], 'Alien': [52.89, 37.32, 9.24], 'CrazyClimber': [18.27, 5.32, nan], 'Assault': [39.23, 24.9, nan], 'KungFuMaster': [48.38, 22.07, nan], 'PrivateEye': [20.03, 7.81, nan], 'DemonAttack': [20.34, 9.95, nan], 'Breakout': [27.44, 5.75, nan], 'Freeway': [38.85, 36.34, nan], 'MsPacman': [46.82, 31.97, 8.33], 'Seaquest': [28.64, 17.69, nan], 'YarsRevenge': [44.31, 34.51, nan], 'Amidar': [53.92, 23.3, 9.71], 'Gopher': [37.27, 11.85, nan], 'BankHeist': [33.94, 14.93, nan], 'Qbert': [40.05, 9.65, 8.24], 'Asterix': [43.7, 26.85, nan], 'Krull': [32.97, 32.02, nan], 'Pong': [35.4, 13.46, 7.88], 'Kangaroo': [54.73, 26.82, 8.82], 'Hero': [20.34, 5.78, nan], 'Boxing': [50.22, 26.92, nan], 'RoadRunner': [52.85, 26.11, nan]}\n"
     ]
    }
   ],
   "source": [
    "## Averages over 10 runs. First element is from base_cpu, second from reuse_cpu, third from base_gpu\n",
    "## Things to notice: \n",
    "## (1) Each run has high variance because these episode lengths can vary greatly, and number of .\n",
    "##     whcih means there can be a variable number of backpropagations.\n",
    "## (2) The worst performance of reuse comes from games with large areas of pixel change \n",
    "##       (BattleZone, ChopperCommand, Freeway, Krull, MsPacman, YarsRevenge)\n",
    "## (3) Get's a very big performance boost on games that have little pixel change from frame to frame\n",
    "##     (Amidar, Breakout, CrazyClimber, Gopher, Hero, Kangaroo, KungFuMaster, \n",
    "##      Pong, PrivateEye, Qbert)\n",
    "## (4) There were games where the CPU version of reuse was faster than the GPU base version\n",
    "## (5) Not immediately obvious why it performed much more poorly than base CPU on RoadRunner, Seaquest\n",
    "\n",
    "print(results_20_40)\n",
    "print()\n",
    "print(results_40_80)\n",
    "print()\n",
    "print(results_80_160)"
   ]
  },
  {
   "cell_type": "code",
   "execution_count": 12,
   "metadata": {},
   "outputs": [
    {
     "ename": "ValueError",
     "evalue": "could not broadcast input array from shape (2) into shape (3)",
     "output_type": "error",
     "traceback": [
      "\u001b[0;31m---------------------------------------------------------------------------\u001b[0m",
      "\u001b[0;31mValueError\u001b[0m                                Traceback (most recent call last)",
      "\u001b[0;32m<ipython-input-12-0e8f488a6089>\u001b[0m in \u001b[0;36m<module>\u001b[0;34m()\u001b[0m\n\u001b[1;32m      1\u001b[0m \u001b[0;31m#df = pd.DataFrame(results, index=atari_games_list)\u001b[0m\u001b[0;34m\u001b[0m\u001b[0;34m\u001b[0m\u001b[0m\n\u001b[0;32m----> 2\u001b[0;31m \u001b[0mdf_20_40\u001b[0m \u001b[0;34m=\u001b[0m \u001b[0mpd\u001b[0m\u001b[0;34m.\u001b[0m\u001b[0mDataFrame\u001b[0m\u001b[0;34m(\u001b[0m\u001b[0mresults_20_40\u001b[0m\u001b[0;34m,\u001b[0m \u001b[0mindex\u001b[0m\u001b[0;34m=\u001b[0m\u001b[0maliases\u001b[0m\u001b[0;34m)\u001b[0m\u001b[0;34m\u001b[0m\u001b[0m\n\u001b[0m\u001b[1;32m      3\u001b[0m \u001b[0mdf_40_80\u001b[0m \u001b[0;34m=\u001b[0m \u001b[0mpd\u001b[0m\u001b[0;34m.\u001b[0m\u001b[0mDataFrame\u001b[0m\u001b[0;34m(\u001b[0m\u001b[0mresults_40_80\u001b[0m\u001b[0;34m,\u001b[0m \u001b[0mindex\u001b[0m\u001b[0;34m=\u001b[0m\u001b[0maliases\u001b[0m\u001b[0;34m)\u001b[0m\u001b[0;34m\u001b[0m\u001b[0m\n\u001b[1;32m      4\u001b[0m \u001b[0mdf_80_160\u001b[0m \u001b[0;34m=\u001b[0m \u001b[0mpd\u001b[0m\u001b[0;34m.\u001b[0m\u001b[0mDataFrame\u001b[0m\u001b[0;34m(\u001b[0m\u001b[0mresults_80_160\u001b[0m\u001b[0;34m,\u001b[0m \u001b[0mindex\u001b[0m\u001b[0;34m=\u001b[0m\u001b[0maliases\u001b[0m\u001b[0;34m)\u001b[0m\u001b[0;34m\u001b[0m\u001b[0m\n\u001b[1;32m      5\u001b[0m \u001b[0;31m#df.columns = pd.MultiIndex.from_tuples(tuples)\u001b[0m\u001b[0;34m\u001b[0m\u001b[0;34m\u001b[0m\u001b[0m\n",
      "\u001b[0;32m/home/arno/anaconda3/lib/python3.5/site-packages/pandas/core/frame.py\u001b[0m in \u001b[0;36m__init__\u001b[0;34m(self, data, index, columns, dtype, copy)\u001b[0m\n\u001b[1;32m    273\u001b[0m                                  dtype=dtype, copy=copy)\n\u001b[1;32m    274\u001b[0m         \u001b[0;32melif\u001b[0m \u001b[0misinstance\u001b[0m\u001b[0;34m(\u001b[0m\u001b[0mdata\u001b[0m\u001b[0;34m,\u001b[0m \u001b[0mdict\u001b[0m\u001b[0;34m)\u001b[0m\u001b[0;34m:\u001b[0m\u001b[0;34m\u001b[0m\u001b[0m\n\u001b[0;32m--> 275\u001b[0;31m             \u001b[0mmgr\u001b[0m \u001b[0;34m=\u001b[0m \u001b[0mself\u001b[0m\u001b[0;34m.\u001b[0m\u001b[0m_init_dict\u001b[0m\u001b[0;34m(\u001b[0m\u001b[0mdata\u001b[0m\u001b[0;34m,\u001b[0m \u001b[0mindex\u001b[0m\u001b[0;34m,\u001b[0m \u001b[0mcolumns\u001b[0m\u001b[0;34m,\u001b[0m \u001b[0mdtype\u001b[0m\u001b[0;34m=\u001b[0m\u001b[0mdtype\u001b[0m\u001b[0;34m)\u001b[0m\u001b[0;34m\u001b[0m\u001b[0m\n\u001b[0m\u001b[1;32m    276\u001b[0m         \u001b[0;32melif\u001b[0m \u001b[0misinstance\u001b[0m\u001b[0;34m(\u001b[0m\u001b[0mdata\u001b[0m\u001b[0;34m,\u001b[0m \u001b[0mma\u001b[0m\u001b[0;34m.\u001b[0m\u001b[0mMaskedArray\u001b[0m\u001b[0;34m)\u001b[0m\u001b[0;34m:\u001b[0m\u001b[0;34m\u001b[0m\u001b[0m\n\u001b[1;32m    277\u001b[0m             \u001b[0;32mimport\u001b[0m \u001b[0mnumpy\u001b[0m\u001b[0;34m.\u001b[0m\u001b[0mma\u001b[0m\u001b[0;34m.\u001b[0m\u001b[0mmrecords\u001b[0m \u001b[0;32mas\u001b[0m \u001b[0mmrecords\u001b[0m\u001b[0;34m\u001b[0m\u001b[0m\n",
      "\u001b[0;32m/home/arno/anaconda3/lib/python3.5/site-packages/pandas/core/frame.py\u001b[0m in \u001b[0;36m_init_dict\u001b[0;34m(self, data, index, columns, dtype)\u001b[0m\n\u001b[1;32m    409\u001b[0m             \u001b[0marrays\u001b[0m \u001b[0;34m=\u001b[0m \u001b[0;34m[\u001b[0m\u001b[0mdata\u001b[0m\u001b[0;34m[\u001b[0m\u001b[0mk\u001b[0m\u001b[0;34m]\u001b[0m \u001b[0;32mfor\u001b[0m \u001b[0mk\u001b[0m \u001b[0;32min\u001b[0m \u001b[0mkeys\u001b[0m\u001b[0;34m]\u001b[0m\u001b[0;34m\u001b[0m\u001b[0m\n\u001b[1;32m    410\u001b[0m \u001b[0;34m\u001b[0m\u001b[0m\n\u001b[0;32m--> 411\u001b[0;31m         \u001b[0;32mreturn\u001b[0m \u001b[0m_arrays_to_mgr\u001b[0m\u001b[0;34m(\u001b[0m\u001b[0marrays\u001b[0m\u001b[0;34m,\u001b[0m \u001b[0mdata_names\u001b[0m\u001b[0;34m,\u001b[0m \u001b[0mindex\u001b[0m\u001b[0;34m,\u001b[0m \u001b[0mcolumns\u001b[0m\u001b[0;34m,\u001b[0m \u001b[0mdtype\u001b[0m\u001b[0;34m=\u001b[0m\u001b[0mdtype\u001b[0m\u001b[0;34m)\u001b[0m\u001b[0;34m\u001b[0m\u001b[0m\n\u001b[0m\u001b[1;32m    412\u001b[0m \u001b[0;34m\u001b[0m\u001b[0m\n\u001b[1;32m    413\u001b[0m     \u001b[0;32mdef\u001b[0m \u001b[0m_init_ndarray\u001b[0m\u001b[0;34m(\u001b[0m\u001b[0mself\u001b[0m\u001b[0;34m,\u001b[0m \u001b[0mvalues\u001b[0m\u001b[0;34m,\u001b[0m \u001b[0mindex\u001b[0m\u001b[0;34m,\u001b[0m \u001b[0mcolumns\u001b[0m\u001b[0;34m,\u001b[0m \u001b[0mdtype\u001b[0m\u001b[0;34m=\u001b[0m\u001b[0;32mNone\u001b[0m\u001b[0;34m,\u001b[0m \u001b[0mcopy\u001b[0m\u001b[0;34m=\u001b[0m\u001b[0;32mFalse\u001b[0m\u001b[0;34m)\u001b[0m\u001b[0;34m:\u001b[0m\u001b[0;34m\u001b[0m\u001b[0m\n",
      "\u001b[0;32m/home/arno/anaconda3/lib/python3.5/site-packages/pandas/core/frame.py\u001b[0m in \u001b[0;36m_arrays_to_mgr\u001b[0;34m(arrays, arr_names, index, columns, dtype)\u001b[0m\n\u001b[1;32m   5504\u001b[0m     \u001b[0maxes\u001b[0m \u001b[0;34m=\u001b[0m \u001b[0;34m[\u001b[0m\u001b[0m_ensure_index\u001b[0m\u001b[0;34m(\u001b[0m\u001b[0mcolumns\u001b[0m\u001b[0;34m)\u001b[0m\u001b[0;34m,\u001b[0m \u001b[0m_ensure_index\u001b[0m\u001b[0;34m(\u001b[0m\u001b[0mindex\u001b[0m\u001b[0;34m)\u001b[0m\u001b[0;34m]\u001b[0m\u001b[0;34m\u001b[0m\u001b[0m\n\u001b[1;32m   5505\u001b[0m \u001b[0;34m\u001b[0m\u001b[0m\n\u001b[0;32m-> 5506\u001b[0;31m     \u001b[0;32mreturn\u001b[0m \u001b[0mcreate_block_manager_from_arrays\u001b[0m\u001b[0;34m(\u001b[0m\u001b[0marrays\u001b[0m\u001b[0;34m,\u001b[0m \u001b[0marr_names\u001b[0m\u001b[0;34m,\u001b[0m \u001b[0maxes\u001b[0m\u001b[0;34m)\u001b[0m\u001b[0;34m\u001b[0m\u001b[0m\n\u001b[0m\u001b[1;32m   5507\u001b[0m \u001b[0;34m\u001b[0m\u001b[0m\n\u001b[1;32m   5508\u001b[0m \u001b[0;34m\u001b[0m\u001b[0m\n",
      "\u001b[0;32m/home/arno/anaconda3/lib/python3.5/site-packages/pandas/core/internals.py\u001b[0m in \u001b[0;36mcreate_block_manager_from_arrays\u001b[0;34m(arrays, names, axes)\u001b[0m\n\u001b[1;32m   4312\u001b[0m         \u001b[0;32mreturn\u001b[0m \u001b[0mmgr\u001b[0m\u001b[0;34m\u001b[0m\u001b[0m\n\u001b[1;32m   4313\u001b[0m     \u001b[0;32mexcept\u001b[0m \u001b[0mValueError\u001b[0m \u001b[0;32mas\u001b[0m \u001b[0me\u001b[0m\u001b[0;34m:\u001b[0m\u001b[0;34m\u001b[0m\u001b[0m\n\u001b[0;32m-> 4314\u001b[0;31m         \u001b[0mconstruction_error\u001b[0m\u001b[0;34m(\u001b[0m\u001b[0mlen\u001b[0m\u001b[0;34m(\u001b[0m\u001b[0marrays\u001b[0m\u001b[0;34m)\u001b[0m\u001b[0;34m,\u001b[0m \u001b[0marrays\u001b[0m\u001b[0;34m[\u001b[0m\u001b[0;36m0\u001b[0m\u001b[0;34m]\u001b[0m\u001b[0;34m.\u001b[0m\u001b[0mshape\u001b[0m\u001b[0;34m,\u001b[0m \u001b[0maxes\u001b[0m\u001b[0;34m,\u001b[0m \u001b[0me\u001b[0m\u001b[0;34m)\u001b[0m\u001b[0;34m\u001b[0m\u001b[0m\n\u001b[0m\u001b[1;32m   4315\u001b[0m \u001b[0;34m\u001b[0m\u001b[0m\n\u001b[1;32m   4316\u001b[0m \u001b[0;34m\u001b[0m\u001b[0m\n",
      "\u001b[0;32m/home/arno/anaconda3/lib/python3.5/site-packages/pandas/core/internals.py\u001b[0m in \u001b[0;36mconstruction_error\u001b[0;34m(tot_items, block_shape, axes, e)\u001b[0m\n\u001b[1;32m   4274\u001b[0m     \u001b[0mimplied\u001b[0m \u001b[0;34m=\u001b[0m \u001b[0mtuple\u001b[0m\u001b[0;34m(\u001b[0m\u001b[0mmap\u001b[0m\u001b[0;34m(\u001b[0m\u001b[0mint\u001b[0m\u001b[0;34m,\u001b[0m \u001b[0;34m[\u001b[0m\u001b[0mlen\u001b[0m\u001b[0;34m(\u001b[0m\u001b[0max\u001b[0m\u001b[0;34m)\u001b[0m \u001b[0;32mfor\u001b[0m \u001b[0max\u001b[0m \u001b[0;32min\u001b[0m \u001b[0maxes\u001b[0m\u001b[0;34m]\u001b[0m\u001b[0;34m)\u001b[0m\u001b[0;34m)\u001b[0m\u001b[0;34m\u001b[0m\u001b[0m\n\u001b[1;32m   4275\u001b[0m     \u001b[0;32mif\u001b[0m \u001b[0mpassed\u001b[0m \u001b[0;34m==\u001b[0m \u001b[0mimplied\u001b[0m \u001b[0;32mand\u001b[0m \u001b[0me\u001b[0m \u001b[0;32mis\u001b[0m \u001b[0;32mnot\u001b[0m \u001b[0;32mNone\u001b[0m\u001b[0;34m:\u001b[0m\u001b[0;34m\u001b[0m\u001b[0m\n\u001b[0;32m-> 4276\u001b[0;31m         \u001b[0;32mraise\u001b[0m \u001b[0me\u001b[0m\u001b[0;34m\u001b[0m\u001b[0m\n\u001b[0m\u001b[1;32m   4277\u001b[0m     \u001b[0;32mif\u001b[0m \u001b[0mblock_shape\u001b[0m\u001b[0;34m[\u001b[0m\u001b[0;36m0\u001b[0m\u001b[0;34m]\u001b[0m \u001b[0;34m==\u001b[0m \u001b[0;36m0\u001b[0m\u001b[0;34m:\u001b[0m\u001b[0;34m\u001b[0m\u001b[0m\n\u001b[1;32m   4278\u001b[0m         \u001b[0;32mraise\u001b[0m \u001b[0mValueError\u001b[0m\u001b[0;34m(\u001b[0m\u001b[0;34m\"Empty data passed with indices specified.\"\u001b[0m\u001b[0;34m)\u001b[0m\u001b[0;34m\u001b[0m\u001b[0m\n",
      "\u001b[0;32m/home/arno/anaconda3/lib/python3.5/site-packages/pandas/core/internals.py\u001b[0m in \u001b[0;36mcreate_block_manager_from_arrays\u001b[0;34m(arrays, names, axes)\u001b[0m\n\u001b[1;32m   4307\u001b[0m \u001b[0;34m\u001b[0m\u001b[0m\n\u001b[1;32m   4308\u001b[0m     \u001b[0;32mtry\u001b[0m\u001b[0;34m:\u001b[0m\u001b[0;34m\u001b[0m\u001b[0m\n\u001b[0;32m-> 4309\u001b[0;31m         \u001b[0mblocks\u001b[0m \u001b[0;34m=\u001b[0m \u001b[0mform_blocks\u001b[0m\u001b[0;34m(\u001b[0m\u001b[0marrays\u001b[0m\u001b[0;34m,\u001b[0m \u001b[0mnames\u001b[0m\u001b[0;34m,\u001b[0m \u001b[0maxes\u001b[0m\u001b[0;34m)\u001b[0m\u001b[0;34m\u001b[0m\u001b[0m\n\u001b[0m\u001b[1;32m   4310\u001b[0m         \u001b[0mmgr\u001b[0m \u001b[0;34m=\u001b[0m \u001b[0mBlockManager\u001b[0m\u001b[0;34m(\u001b[0m\u001b[0mblocks\u001b[0m\u001b[0;34m,\u001b[0m \u001b[0maxes\u001b[0m\u001b[0;34m)\u001b[0m\u001b[0;34m\u001b[0m\u001b[0m\n\u001b[1;32m   4311\u001b[0m         \u001b[0mmgr\u001b[0m\u001b[0;34m.\u001b[0m\u001b[0m_consolidate_inplace\u001b[0m\u001b[0;34m(\u001b[0m\u001b[0;34m)\u001b[0m\u001b[0;34m\u001b[0m\u001b[0m\n",
      "\u001b[0;32m/home/arno/anaconda3/lib/python3.5/site-packages/pandas/core/internals.py\u001b[0m in \u001b[0;36mform_blocks\u001b[0;34m(arrays, names, axes)\u001b[0m\n\u001b[1;32m   4371\u001b[0m     \u001b[0mblocks\u001b[0m \u001b[0;34m=\u001b[0m \u001b[0;34m[\u001b[0m\u001b[0;34m]\u001b[0m\u001b[0;34m\u001b[0m\u001b[0m\n\u001b[1;32m   4372\u001b[0m     \u001b[0;32mif\u001b[0m \u001b[0mlen\u001b[0m\u001b[0;34m(\u001b[0m\u001b[0mfloat_items\u001b[0m\u001b[0;34m)\u001b[0m\u001b[0;34m:\u001b[0m\u001b[0;34m\u001b[0m\u001b[0m\n\u001b[0;32m-> 4373\u001b[0;31m         \u001b[0mfloat_blocks\u001b[0m \u001b[0;34m=\u001b[0m \u001b[0m_multi_blockify\u001b[0m\u001b[0;34m(\u001b[0m\u001b[0mfloat_items\u001b[0m\u001b[0;34m)\u001b[0m\u001b[0;34m\u001b[0m\u001b[0m\n\u001b[0m\u001b[1;32m   4374\u001b[0m         \u001b[0mblocks\u001b[0m\u001b[0;34m.\u001b[0m\u001b[0mextend\u001b[0m\u001b[0;34m(\u001b[0m\u001b[0mfloat_blocks\u001b[0m\u001b[0;34m)\u001b[0m\u001b[0;34m\u001b[0m\u001b[0m\n\u001b[1;32m   4375\u001b[0m \u001b[0;34m\u001b[0m\u001b[0m\n",
      "\u001b[0;32m/home/arno/anaconda3/lib/python3.5/site-packages/pandas/core/internals.py\u001b[0m in \u001b[0;36m_multi_blockify\u001b[0;34m(tuples, dtype)\u001b[0m\n\u001b[1;32m   4448\u001b[0m     \u001b[0;32mfor\u001b[0m \u001b[0mdtype\u001b[0m\u001b[0;34m,\u001b[0m \u001b[0mtup_block\u001b[0m \u001b[0;32min\u001b[0m \u001b[0mgrouper\u001b[0m\u001b[0;34m:\u001b[0m\u001b[0;34m\u001b[0m\u001b[0m\n\u001b[1;32m   4449\u001b[0m \u001b[0;34m\u001b[0m\u001b[0m\n\u001b[0;32m-> 4450\u001b[0;31m         \u001b[0mvalues\u001b[0m\u001b[0;34m,\u001b[0m \u001b[0mplacement\u001b[0m \u001b[0;34m=\u001b[0m \u001b[0m_stack_arrays\u001b[0m\u001b[0;34m(\u001b[0m\u001b[0mlist\u001b[0m\u001b[0;34m(\u001b[0m\u001b[0mtup_block\u001b[0m\u001b[0;34m)\u001b[0m\u001b[0;34m,\u001b[0m \u001b[0mdtype\u001b[0m\u001b[0;34m)\u001b[0m\u001b[0;34m\u001b[0m\u001b[0m\n\u001b[0m\u001b[1;32m   4451\u001b[0m \u001b[0;34m\u001b[0m\u001b[0m\n\u001b[1;32m   4452\u001b[0m         \u001b[0mblock\u001b[0m \u001b[0;34m=\u001b[0m \u001b[0mmake_block\u001b[0m\u001b[0;34m(\u001b[0m\u001b[0mvalues\u001b[0m\u001b[0;34m,\u001b[0m \u001b[0mplacement\u001b[0m\u001b[0;34m=\u001b[0m\u001b[0mplacement\u001b[0m\u001b[0;34m)\u001b[0m\u001b[0;34m\u001b[0m\u001b[0m\n",
      "\u001b[0;32m/home/arno/anaconda3/lib/python3.5/site-packages/pandas/core/internals.py\u001b[0m in \u001b[0;36m_stack_arrays\u001b[0;34m(tuples, dtype)\u001b[0m\n\u001b[1;32m   4493\u001b[0m     \u001b[0mstacked\u001b[0m \u001b[0;34m=\u001b[0m \u001b[0mnp\u001b[0m\u001b[0;34m.\u001b[0m\u001b[0mempty\u001b[0m\u001b[0;34m(\u001b[0m\u001b[0mshape\u001b[0m\u001b[0;34m,\u001b[0m \u001b[0mdtype\u001b[0m\u001b[0;34m=\u001b[0m\u001b[0mdtype\u001b[0m\u001b[0;34m)\u001b[0m\u001b[0;34m\u001b[0m\u001b[0m\n\u001b[1;32m   4494\u001b[0m     \u001b[0;32mfor\u001b[0m \u001b[0mi\u001b[0m\u001b[0;34m,\u001b[0m \u001b[0marr\u001b[0m \u001b[0;32min\u001b[0m \u001b[0menumerate\u001b[0m\u001b[0;34m(\u001b[0m\u001b[0marrays\u001b[0m\u001b[0;34m)\u001b[0m\u001b[0;34m:\u001b[0m\u001b[0;34m\u001b[0m\u001b[0m\n\u001b[0;32m-> 4495\u001b[0;31m         \u001b[0mstacked\u001b[0m\u001b[0;34m[\u001b[0m\u001b[0mi\u001b[0m\u001b[0;34m]\u001b[0m \u001b[0;34m=\u001b[0m \u001b[0m_asarray_compat\u001b[0m\u001b[0;34m(\u001b[0m\u001b[0marr\u001b[0m\u001b[0;34m)\u001b[0m\u001b[0;34m\u001b[0m\u001b[0m\n\u001b[0m\u001b[1;32m   4496\u001b[0m \u001b[0;34m\u001b[0m\u001b[0m\n\u001b[1;32m   4497\u001b[0m     \u001b[0;32mreturn\u001b[0m \u001b[0mstacked\u001b[0m\u001b[0;34m,\u001b[0m \u001b[0mplacement\u001b[0m\u001b[0;34m\u001b[0m\u001b[0m\n",
      "\u001b[0;31mValueError\u001b[0m: could not broadcast input array from shape (2) into shape (3)"
     ]
    }
   ],
   "source": [
    "#df = pd.DataFrame(results, index=atari_games_list)\n",
    "df_20_40 = pd.DataFrame(results_20_40, index=aliases)\n",
    "df_40_80 = pd.DataFrame(results_40_80, index=aliases)\n",
    "df_80_160 = pd.DataFrame(results_80_160, index=aliases)\n",
    "#df.columns = pd.MultiIndex.from_tuples(tuples)"
   ]
  },
  {
   "cell_type": "code",
   "execution_count": 7,
   "metadata": {
    "collapsed": true
   },
   "outputs": [],
   "source": [
    "#df = pd.DataFrame(results)\n"
   ]
  },
  {
   "cell_type": "code",
   "execution_count": 8,
   "metadata": {},
   "outputs": [
    {
     "data": {
      "text/html": [
       "<div>\n",
       "<style>\n",
       "    .dataframe thead tr:only-child th {\n",
       "        text-align: right;\n",
       "    }\n",
       "\n",
       "    .dataframe thead th {\n",
       "        text-align: left;\n",
       "    }\n",
       "\n",
       "    .dataframe tbody tr th {\n",
       "        vertical-align: top;\n",
       "    }\n",
       "</style>\n",
       "<table border=\"1\" class=\"dataframe\">\n",
       "  <thead>\n",
       "    <tr style=\"text-align: right;\">\n",
       "      <th></th>\n",
       "      <th>Alien</th>\n",
       "      <th>Amidar</th>\n",
       "      <th>Assault</th>\n",
       "      <th>Asterix</th>\n",
       "      <th>BankHeist</th>\n",
       "      <th>BattleZone</th>\n",
       "      <th>Boxing</th>\n",
       "      <th>Breakout</th>\n",
       "      <th>ChopperCommand</th>\n",
       "      <th>CrazyClimber</th>\n",
       "      <th>...</th>\n",
       "      <th>Kangaroo</th>\n",
       "      <th>Krull</th>\n",
       "      <th>KungFuMaster</th>\n",
       "      <th>MsPacman</th>\n",
       "      <th>Pong</th>\n",
       "      <th>PrivateEye</th>\n",
       "      <th>Qbert</th>\n",
       "      <th>RoadRunner</th>\n",
       "      <th>Seaquest</th>\n",
       "      <th>YarsRevenge</th>\n",
       "    </tr>\n",
       "  </thead>\n",
       "  <tbody>\n",
       "    <tr>\n",
       "      <th>base_cpu</th>\n",
       "      <td>10.56</td>\n",
       "      <td>9.59</td>\n",
       "      <td>6.96</td>\n",
       "      <td>7.46</td>\n",
       "      <td>7.50</td>\n",
       "      <td>8.35</td>\n",
       "      <td>9.47</td>\n",
       "      <td>3.99</td>\n",
       "      <td>9.41</td>\n",
       "      <td>3.59</td>\n",
       "      <td>...</td>\n",
       "      <td>9.82</td>\n",
       "      <td>6.11</td>\n",
       "      <td>9.14</td>\n",
       "      <td>7.61</td>\n",
       "      <td>5.69</td>\n",
       "      <td>3.99</td>\n",
       "      <td>6.74</td>\n",
       "      <td>9.16</td>\n",
       "      <td>5.29</td>\n",
       "      <td>7.81</td>\n",
       "    </tr>\n",
       "    <tr>\n",
       "      <th>reuse_cpu</th>\n",
       "      <td>8.86</td>\n",
       "      <td>6.01</td>\n",
       "      <td>5.66</td>\n",
       "      <td>5.90</td>\n",
       "      <td>5.45</td>\n",
       "      <td>7.71</td>\n",
       "      <td>7.82</td>\n",
       "      <td>1.70</td>\n",
       "      <td>9.11</td>\n",
       "      <td>2.16</td>\n",
       "      <td>...</td>\n",
       "      <td>6.81</td>\n",
       "      <td>7.20</td>\n",
       "      <td>6.33</td>\n",
       "      <td>6.72</td>\n",
       "      <td>3.70</td>\n",
       "      <td>3.07</td>\n",
       "      <td>3.29</td>\n",
       "      <td>7.32</td>\n",
       "      <td>3.97</td>\n",
       "      <td>7.29</td>\n",
       "    </tr>\n",
       "    <tr>\n",
       "      <th>base_gpu</th>\n",
       "      <td>4.62</td>\n",
       "      <td>4.63</td>\n",
       "      <td>3.54</td>\n",
       "      <td>3.85</td>\n",
       "      <td>3.88</td>\n",
       "      <td>3.69</td>\n",
       "      <td>4.40</td>\n",
       "      <td>3.07</td>\n",
       "      <td>4.34</td>\n",
       "      <td>2.87</td>\n",
       "      <td>...</td>\n",
       "      <td>4.31</td>\n",
       "      <td>3.85</td>\n",
       "      <td>4.46</td>\n",
       "      <td>4.22</td>\n",
       "      <td>3.63</td>\n",
       "      <td>3.05</td>\n",
       "      <td>3.97</td>\n",
       "      <td>4.25</td>\n",
       "      <td>3.32</td>\n",
       "      <td>4.10</td>\n",
       "    </tr>\n",
       "  </tbody>\n",
       "</table>\n",
       "<p>3 rows × 24 columns</p>\n",
       "</div>"
      ],
      "text/plain": [
       "           Alien  Amidar  Assault  Asterix  BankHeist  BattleZone  Boxing  \\\n",
       "base_cpu   10.56    9.59     6.96     7.46       7.50        8.35    9.47   \n",
       "reuse_cpu   8.86    6.01     5.66     5.90       5.45        7.71    7.82   \n",
       "base_gpu    4.62    4.63     3.54     3.85       3.88        3.69    4.40   \n",
       "\n",
       "           Breakout  ChopperCommand  CrazyClimber     ...       Kangaroo  \\\n",
       "base_cpu       3.99            9.41          3.59     ...           9.82   \n",
       "reuse_cpu      1.70            9.11          2.16     ...           6.81   \n",
       "base_gpu       3.07            4.34          2.87     ...           4.31   \n",
       "\n",
       "           Krull  KungFuMaster  MsPacman  Pong  PrivateEye  Qbert  RoadRunner  \\\n",
       "base_cpu    6.11          9.14      7.61  5.69        3.99   6.74        9.16   \n",
       "reuse_cpu   7.20          6.33      6.72  3.70        3.07   3.29        7.32   \n",
       "base_gpu    3.85          4.46      4.22  3.63        3.05   3.97        4.25   \n",
       "\n",
       "           Seaquest  YarsRevenge  \n",
       "base_cpu       5.29         7.81  \n",
       "reuse_cpu      3.97         7.29  \n",
       "base_gpu       3.32         4.10  \n",
       "\n",
       "[3 rows x 24 columns]"
      ]
     },
     "execution_count": 8,
     "metadata": {},
     "output_type": "execute_result"
    }
   ],
   "source": [
    "df"
   ]
  },
  {
   "cell_type": "code",
   "execution_count": 9,
   "metadata": {
    "collapsed": true
   },
   "outputs": [],
   "source": [
    "#df.to_html('training_table_by_episode_20_40_3000_steps.html')"
   ]
  },
  {
   "cell_type": "code",
   "execution_count": 10,
   "metadata": {
    "collapsed": true
   },
   "outputs": [],
   "source": [
    "## New table - Computational savings from base cpu to reuse cpu, and base gpu to reuse cpu, and add row that has average"
   ]
  },
  {
   "cell_type": "code",
   "execution_count": 11,
   "metadata": {
    "collapsed": true
   },
   "outputs": [],
   "source": [
    "df = df.T"
   ]
  },
  {
   "cell_type": "code",
   "execution_count": 12,
   "metadata": {
    "collapsed": true
   },
   "outputs": [],
   "source": [
    "df[\"reuse_cpu/base_cpu\"] = (df[\"reuse_cpu\"] / df[\"base_cpu\"]).round(decimals=2)\n",
    "\n",
    "df[\"reuse_cpu/base_gpu\"] = (df[\"reuse_cpu\"] / df[\"base_gpu\"]).round(decimals=2)\n",
    "\n",
    "df[\"base_cpu/base_gpu\"] = (df[\"base_cpu\"] / df[\"base_gpu\"]).round(decimals=2)"
   ]
  },
  {
   "cell_type": "code",
   "execution_count": 13,
   "metadata": {
    "collapsed": true
   },
   "outputs": [],
   "source": [
    "df = df.round(decimals=2).T"
   ]
  },
  {
   "cell_type": "code",
   "execution_count": 14,
   "metadata": {
    "collapsed": true
   },
   "outputs": [],
   "source": [
    "df[\"Mean\"] = df.T.mean()"
   ]
  },
  {
   "cell_type": "code",
   "execution_count": 15,
   "metadata": {},
   "outputs": [
    {
     "data": {
      "text/plain": [
       "base_cpu              7.109583\n",
       "reuse_cpu             5.567500\n",
       "base_gpu              3.862917\n",
       "reuse_cpu/base_cpu    0.772500\n",
       "reuse_cpu/base_gpu    1.408333\n",
       "base_cpu/base_gpu     1.805417\n",
       "Name: Mean, dtype: float64"
      ]
     },
     "execution_count": 15,
     "metadata": {},
     "output_type": "execute_result"
    }
   ],
   "source": [
    "df[\"Mean\"]"
   ]
  },
  {
   "cell_type": "code",
   "execution_count": 16,
   "metadata": {
    "collapsed": true
   },
   "outputs": [],
   "source": [
    "df.round(2).to_html('training_table_by_episode_20_40_conv_3000_steps_more_info.html')"
   ]
  },
  {
   "cell_type": "code",
   "execution_count": 18,
   "metadata": {
    "collapsed": true
   },
   "outputs": [],
   "source": [
    "df.T.round(2).to_html('training_table_by_episode_20_40_conv_3000_steps_more_info_T.html')"
   ]
  },
  {
   "cell_type": "code",
   "execution_count": null,
   "metadata": {
    "collapsed": true
   },
   "outputs": [],
   "source": []
  }
 ],
 "metadata": {
  "kernelspec": {
   "display_name": "Python 3",
   "language": "python",
   "name": "python3"
  },
  "language_info": {
   "codemirror_mode": {
    "name": "ipython",
    "version": 3
   },
   "file_extension": ".py",
   "mimetype": "text/x-python",
   "name": "python",
   "nbconvert_exporter": "python",
   "pygments_lexer": "ipython3",
   "version": "3.5.4"
  }
 },
 "nbformat": 4,
 "nbformat_minor": 2
}
