{
 "cells": [
  {
   "cell_type": "markdown",
   "metadata": {},
   "source": [
    "## TODO -- take \"step\" out of initial loop of conv_old to not conflate results"
   ]
  },
  {
   "cell_type": "code",
   "execution_count": 2,
   "metadata": {
    "collapsed": true
   },
   "outputs": [],
   "source": [
    "import torch\n",
    "\n",
    "import numpy as np\n",
    "import pickle\n",
    "import matplotlib.pyplot as plt\n",
    "import sys\n",
    "import time\n",
    "import pandas as pd\n",
    "import torch\n",
    "import torch.nn as nn\n",
    "import torch.optim as optim\n",
    "import torch.nn.functional as F\n",
    "from torch.autograd import Variable\n",
    "from torch.distributions import Categorical\n",
    "\n",
    "import time\n",
    "\n",
    "import gym"
   ]
  },
  {
   "cell_type": "code",
   "execution_count": 3,
   "metadata": {
    "collapsed": true
   },
   "outputs": [],
   "source": [
    "def ob2torch(observation):\n",
    "    return torch.tensor(observation.copy().reshape(3, observation.shape[0], observation.shape[1])).float()"
   ]
  },
  {
   "cell_type": "code",
   "execution_count": 4,
   "metadata": {},
   "outputs": [
    {
     "name": "stdout",
     "output_type": "stream",
     "text": [
      "(210, 160, 3)\n"
     ]
    }
   ],
   "source": [
    "env = gym.make(\"Pong-v0\")\n",
    "observation = env.reset()\n",
    "print(observation.shape)\n",
    "observations = []"
   ]
  },
  {
   "cell_type": "code",
   "execution_count": 5,
   "metadata": {
    "collapsed": true
   },
   "outputs": [],
   "source": [
    "batch_size = 1\n",
    "n_channels = 3\n",
    "n_dim_x = observation.shape[0]\n",
    "n_dim_y = observation.shape[1]"
   ]
  },
  {
   "cell_type": "code",
   "execution_count": 6,
   "metadata": {
    "collapsed": true
   },
   "outputs": [],
   "source": [
    "activation = {}\n",
    "def get_activation(name):\n",
    "    def hook(module, input, output):\n",
    "        activation[name] = output.detach()\n",
    "    return hook"
   ]
  },
  {
   "cell_type": "code",
   "execution_count": 7,
   "metadata": {
    "collapsed": true
   },
   "outputs": [],
   "source": [
    "class Conv2D(nn.Module):\n",
    "    def __init__(self, n_out_channels=20):\n",
    "        super(Conv2D, self).__init__()\n",
    "        self.conv1 = nn.Conv2d(3, n_out_channels, kernel_size=3)\n",
    "\n",
    "    def forward(self, x):    \n",
    "        model = torch.nn.Sequential(\n",
    "            self.conv1\n",
    "        )\n",
    "        return model(x)"
   ]
  },
  {
   "cell_type": "code",
   "execution_count": 8,
   "metadata": {
    "collapsed": true
   },
   "outputs": [],
   "source": [
    "class Conv2D_Chunk(nn.Module):\n",
    "    def __init__(self, n_out_channels=20):\n",
    "        super(Conv2D_Chunk, self).__init__()\n",
    "        self.kernel_size = 3\n",
    "        self.conv1 = nn.Conv2d(3, n_out_channels, kernel_size=self.kernel_size) # did this to avoid padding problems when redoing indexes\n",
    "        self.part_conv = nn.Conv2d(3, n_out_channels, kernel_size=self.kernel_size) # don't overwrite forward hooks\n",
    "        self.activations = {}\n",
    "        self.x_prev = None\n",
    "        \n",
    "    def forward(self, x):\n",
    "        ## Get difference of frames\n",
    "        if self.x_prev is not None:\n",
    "            x_diff = (self.x_prev - x) #.view(1,1,n_dim_x,n_dim_y)\n",
    "            out = activation['conv1']\n",
    "        else:\n",
    "            out = self.conv1(x)\n",
    "            self.x_prev = x\n",
    "            #print(\"1st run\")\n",
    "            return out\n",
    "            \n",
    "        ## Get indices to redo\n",
    "        redo_idx = x_diff.nonzero()\n",
    "        if redo_idx.nelement() == 0:\n",
    "            out = activation['conv1']\n",
    "            #print(\"same as last frame\")\n",
    "            return out\n",
    "\n",
    "        min_idx_x = redo_idx.min(-2)[0][2].item()\n",
    "        min_idx_y = redo_idx.min(-2)[0][3].item()\n",
    "        max_idx_x = redo_idx.max(-2)[0][2].item()\n",
    "        max_idx_y = redo_idx.max(-2)[0][3].item()\n",
    "        \n",
    "        ## Fix indices on the edge since padding is not currently supported\n",
    "        if min_idx_x < self.kernel_size - 1:\n",
    "            min_idx_x = self.kernel_size - 1\n",
    "        if min_idx_y < self.kernel_size - 1:\n",
    "            min_idx_y = self.kernel_size - 1\n",
    "        if max_idx_x >= n_dim_x - (self.kernel_size - 1):\n",
    "            max_idx_x = n_dim_x - self.kernel_size\n",
    "        if max_idx_y >= n_dim_y - (self.kernel_size - 1):\n",
    "            max_idx_y = n_dim_y - self.kernel_size\n",
    "\n",
    "        #print(min_idx_x, max_idx_x, min_idx_y, max_idx_y)\n",
    "        ## Redo indices\n",
    "        r_x1 = min_idx_x - (self.kernel_size - 1)\n",
    "        r_x2 = max_idx_x + self.kernel_size\n",
    "        r_y1 = min_idx_y - (self.kernel_size - 1)\n",
    "        r_y2 = max_idx_y + self.kernel_size\n",
    "        redo_area = self.part_conv(x[:,:,r_x1:r_x2,r_y1:r_y2])\n",
    "        out[:,:,r_x1:r_x1+redo_area.shape[2],r_y1:r_y1+redo_area.shape[3]] = redo_area\n",
    "        activation['conv1'][:,:,r_x1:r_x1+redo_area.shape[2],r_y1:r_y1+redo_area.shape[3]] = redo_area\n",
    "            \n",
    "        self.x_prev = x\n",
    "        return out"
   ]
  },
  {
   "cell_type": "code",
   "execution_count": 9,
   "metadata": {},
   "outputs": [],
   "source": [
    "#conv_model = Conv2D_Chunk()\n",
    "#conv_model.conv1.register_forward_hook(get_activation('conv1'))"
   ]
  },
  {
   "cell_type": "code",
   "execution_count": 10,
   "metadata": {
    "collapsed": true
   },
   "outputs": [],
   "source": [
    "#y = conv_model(t.reshape(batch_size,n_channels,n_dim_x,n_dim_y))"
   ]
  },
  {
   "cell_type": "markdown",
   "metadata": {},
   "source": [
    "## Compare Conv_Block with Conv2D for 1000 frames, with no backprop"
   ]
  },
  {
   "cell_type": "markdown",
   "metadata": {},
   "source": [
    "#### Conv2D v.s. Chunk\n",
    " - Use the same observations to make sure results are the same\n",
    " - Lots of overhead, but still worth it if using a lot of filters (e.g. 200)"
   ]
  },
  {
   "cell_type": "code",
   "execution_count": 11,
   "metadata": {},
   "outputs": [],
   "source": [
    "env = gym.make(\"Pong-v0\")\n",
    "observation = env.reset()\n",
    "observations = []"
   ]
  },
  {
   "cell_type": "code",
   "execution_count": 12,
   "metadata": {
    "collapsed": true
   },
   "outputs": [],
   "source": [
    "## Gather observations\n",
    "n_steps=1000\n",
    "for i in range(n_steps):\n",
    "    observation,_,done,_ = env.step(np.random.choice(range(env.action_space.n)))\n",
    "    observations.append(observation.copy())\n",
    "    if done:\n",
    "        env.reset()"
   ]
  },
  {
   "cell_type": "code",
   "execution_count": 13,
   "metadata": {
    "collapsed": true
   },
   "outputs": [],
   "source": [
    "conv_old = Conv2D(60)"
   ]
  },
  {
   "cell_type": "code",
   "execution_count": 14,
   "metadata": {},
   "outputs": [
    {
     "name": "stdout",
     "output_type": "stream",
     "text": [
      "3.848149299621582\n"
     ]
    }
   ],
   "source": [
    "results_o = []\n",
    "\n",
    "start = time.time()\n",
    "for i in range(n_steps):\n",
    "    y = conv_old(ob2torch(observations[i]).reshape(batch_size,n_channels,n_dim_x,n_dim_y))    \n",
    "    results_o.append(y)\n",
    "    \n",
    "end = time.time()\n",
    "print(end - start)"
   ]
  },
  {
   "cell_type": "code",
   "execution_count": 15,
   "metadata": {},
   "outputs": [
    {
     "data": {
      "text/plain": [
       "<torch.utils.hooks.RemovableHandle at 0x7f792a4de2b0>"
      ]
     },
     "execution_count": 15,
     "metadata": {},
     "output_type": "execute_result"
    }
   ],
   "source": [
    "conv_model = Conv2D_Chunk(60)\n",
    "#conv_model.conv1.load_state_dict(conv_old.conv1.state_dict())\n",
    "#conv_model.part_conv.load_state_dict(conv_old.conv1.state_dict())\n",
    "conv_model.conv1.register_forward_hook(get_activation('conv1'))"
   ]
  },
  {
   "cell_type": "code",
   "execution_count": 16,
   "metadata": {},
   "outputs": [
    {
     "name": "stdout",
     "output_type": "stream",
     "text": [
      "1.6274147033691406\n"
     ]
    }
   ],
   "source": [
    "results = []\n",
    "\n",
    "start = time.time()\n",
    "for i in range(n_steps):\n",
    "    y = conv_model(ob2torch(observations[i]).reshape(batch_size,n_channels,n_dim_x,n_dim_y))    \n",
    "    #results.append(y.detach().numpy().copy())\n",
    "end = time.time()\n",
    "print(end - start)"
   ]
  },
  {
   "cell_type": "code",
   "execution_count": 39,
   "metadata": {
    "collapsed": true,
    "scrolled": true
   },
   "outputs": [],
   "source": [
    "for i in range(n_steps):\n",
    "    if not np.allclose(results_o[i].detach().numpy(), results[i], atol=1e-4):\n",
    "        print(i)"
   ]
  },
  {
   "cell_type": "markdown",
   "metadata": {},
   "source": [
    "## Testing with different number of filters"
   ]
  },
  {
   "cell_type": "code",
   "execution_count": 10,
   "metadata": {
    "collapsed": true
   },
   "outputs": [],
   "source": [
    "## Gather observations\n",
    "n_steps=1000\n",
    "for i in range(n_steps):\n",
    "    observation,_,done,_ = env.step(np.random.choice(range(env.action_space.n)))\n",
    "    observations.append(observation.copy())\n",
    "    if done:\n",
    "        env.reset()"
   ]
  },
  {
   "cell_type": "code",
   "execution_count": 14,
   "metadata": {
    "collapsed": true
   },
   "outputs": [],
   "source": [
    "n_tests_per_setting = 5\n",
    "out_channels_to_test = [20, 50, 100, 200]\n",
    "times_old = {}\n",
    "times_new = {}"
   ]
  },
  {
   "cell_type": "code",
   "execution_count": 15,
   "metadata": {},
   "outputs": [
    {
     "name": "stdout",
     "output_type": "stream",
     "text": [
      "----------------------------------------\n",
      "Number of output channels: 20\n",
      "----------------------------------------\n",
      "Mean time to completion using old method was: 1.24\n",
      "Median time to completion using old method was: 1.24\n",
      "Standard deviation time to completion using old method was: 0.01\n",
      "\n",
      "Mean time to completion using old method was: 1.12\n",
      "Median time to completion using old method was: 1.12\n",
      "Standard deviation time to completion using old method was: 0.00\n",
      "----------------------------------------\n",
      "Number of output channels: 50\n",
      "----------------------------------------\n",
      "Mean time to completion using old method was: 2.41\n",
      "Median time to completion using old method was: 2.28\n",
      "Standard deviation time to completion using old method was: 0.17\n",
      "\n",
      "Mean time to completion using old method was: 2.25\n",
      "Median time to completion using old method was: 1.99\n",
      "Standard deviation time to completion using old method was: 0.38\n",
      "----------------------------------------\n",
      "Number of output channels: 100\n",
      "----------------------------------------\n",
      "Mean time to completion using old method was: 4.03\n",
      "Median time to completion using old method was: 3.76\n",
      "Standard deviation time to completion using old method was: 0.35\n",
      "\n",
      "Mean time to completion using old method was: 4.08\n",
      "Median time to completion using old method was: 3.65\n",
      "Standard deviation time to completion using old method was: 0.65\n",
      "----------------------------------------\n",
      "Number of output channels: 200\n",
      "----------------------------------------\n",
      "Mean time to completion using old method was: 49.95\n",
      "Median time to completion using old method was: 34.51\n",
      "Standard deviation time to completion using old method was: 30.08\n",
      "\n",
      "Mean time to completion using old method was: 147.24\n",
      "Median time to completion using old method was: 159.93\n",
      "Standard deviation time to completion using old method was: 36.60\n"
     ]
    }
   ],
   "source": [
    "for oc in out_channels_to_test:\n",
    "    times_old[oc] = []\n",
    "    times_new[oc] = []\n",
    "    for i in range(n_tests_per_setting):\n",
    "        ## Time old\n",
    "        conv_old = Conv2D(oc)\n",
    "        \n",
    "        results_o = []\n",
    "\n",
    "        start = time.time()\n",
    "        for i in range(n_steps):\n",
    "            y = conv_old(ob2torch(observations[i]).reshape(batch_size,n_channels,n_dim_x,n_dim_y))    \n",
    "            results_o.append(y)\n",
    "        end = time.time()\n",
    "        times_old[oc].append(end - start)\n",
    "        \n",
    "        ## Time new\n",
    "        conv_model = Conv2D_Chunk(oc)\n",
    "        conv_model.conv1.load_state_dict(conv_old.conv1.state_dict())\n",
    "        conv_model.part_conv.load_state_dict(conv_old.conv1.state_dict())\n",
    "        conv_model.conv1.register_forward_hook(get_activation('conv1'))\n",
    "        \n",
    "        results = []\n",
    "\n",
    "        start = time.time()\n",
    "        for i in range(n_steps):\n",
    "            y = conv_model(ob2torch(observations[i]).reshape(batch_size,n_channels,n_dim_x,n_dim_y))    \n",
    "            results.append(y.detach().numpy().copy())\n",
    "        end = time.time()\n",
    "        times_new[oc].append(end - start)\n",
    "        \n",
    "        ## Confirm results are the same\n",
    "        for i in range(n_steps):\n",
    "            if not np.allclose(results_o[i].detach().numpy(), results[i], atol=1e-4):\n",
    "                print(i)\n",
    "    print(\"----------------------------------------\")\n",
    "    print(\"Number of output channels: {}\".format(oc))\n",
    "    print(\"----------------------------------------\")\n",
    "    print(\"Mean time to completion using old method was: {0:.2f}\".format(np.mean(times_old[oc])))\n",
    "    print(\"Median time to completion using old method was: {0:.2f}\".format(np.median(times_old[oc])))\n",
    "    print(\"Standard deviation time to completion using old method was: {0:.2f}\".format(np.std(times_old[oc])))\n",
    "    print()\n",
    "    print(\"Mean time to completion using new method was: {0:.2f}\".format(np.mean(times_new[oc])))\n",
    "    print(\"Median time to completion using new method was: {0:.2f}\".format(np.median(times_new[oc])))\n",
    "    print(\"Standard deviation time to completion using new method was: {0:.2f}\".format(np.std(times_new[oc])))"
   ]
  },
  {
   "cell_type": "code",
   "execution_count": null,
   "metadata": {
    "collapsed": true
   },
   "outputs": [],
   "source": [
    "for oc in out_channels_to_test:\n",
    "    print(\"----------------------------------------\")\n",
    "    print(\"Number of output channels: {}\".format(oc))\n",
    "    print(\"----------------------------------------\")\n",
    "    print(\"Mean time to completion using old method was: {0:.2f}\".format(np.mean(times_old[oc])))\n",
    "    print(\"Median time to completion using old method was: {0:.2f}\".format(np.median(times_old[oc])))\n",
    "    print(\"Standard deviation time to completion using old method was: {0:.2f}\".format(np.std(times_old[oc])))\n",
    "    print()\n",
    "    print(\"Mean time to completion using old method was: {0:.2f}\".format(np.mean(times_new[oc])))\n",
    "    print(\"Median time to completion using old method was: {0:.2f}\".format(np.median(times_new[oc])))\n",
    "    print(\"Standard deviation time to completion using old method was: {0:.2f}\".std(np.mean(times_new[oc])))\n",
    "    "
   ]
  },
  {
   "cell_type": "markdown",
   "metadata": {},
   "source": [
    "## Try backprop? Old"
   ]
  },
  {
   "cell_type": "code",
   "execution_count": 35,
   "metadata": {
    "collapsed": true
   },
   "outputs": [],
   "source": [
    "target = torch.tensor(np.zeros((results[0].shape[1], results[0].shape[2], results[0].shape[3]))).float()\n",
    "optimizer = optim.SGD(conv_old.parameters(), lr=1e-3, momentum=1e-3)"
   ]
  },
  {
   "cell_type": "code",
   "execution_count": 38,
   "metadata": {},
   "outputs": [
    {
     "name": "stdout",
     "output_type": "stream",
     "text": [
      "0.5996429920196533\n"
     ]
    }
   ],
   "source": [
    "results_o = []\n",
    "n_steps=100\n",
    "start = time.time()\n",
    "for i in range(n_steps):\n",
    "     \n",
    "    optimizer.zero_grad()\n",
    "    observation,_,done,_ = env.step(np.random.choice(range(env.action_space.n)))\n",
    "    t = ob2torch(observation)\n",
    "    y = conv_old(t.reshape(batch_size,n_channels,n_dim_x,n_dim_y))   \n",
    "    \n",
    "    loss = F.l1_loss(y.reshape((y.shape[1], y.shape[2], y.shape[3])), target)\n",
    "    loss.backward()\n",
    "    optimizer.step()\n",
    "    \n",
    "    results_o.append(y)\n",
    "    observations.append(observation.copy())\n",
    "    \n",
    "    if done:\n",
    "        env.reset()\n",
    "end = time.time()\n",
    "print(end - start)"
   ]
  },
  {
   "cell_type": "markdown",
   "metadata": {},
   "source": [
    "## Try backprop? New"
   ]
  },
  {
   "cell_type": "code",
   "execution_count": 13,
   "metadata": {
    "collapsed": true
   },
   "outputs": [],
   "source": [
    "optimizer = optim.SGD(conv_model.parameters(), lr=1e-3, momentum=1e-3)\n",
    "target = torch.tensor(np.zeros((y.shape[1], y.shape[2], y.shape[3]))).float()"
   ]
  },
  {
   "cell_type": "code",
   "execution_count": 16,
   "metadata": {},
   "outputs": [
    {
     "name": "stdout",
     "output_type": "stream",
     "text": [
      "a\n",
      "a\n",
      "a\n",
      "a\n",
      "a\n",
      "a\n",
      "a\n",
      "a\n",
      "a\n",
      "a\n",
      "0.09183168411254883\n"
     ]
    }
   ],
   "source": [
    "results = []\n",
    "n_steps=10\n",
    "start = time.time()\n",
    "for i in range(n_steps):\n",
    "    print('a')\n",
    "    optimizer.zero_grad()\n",
    "    \n",
    "    y = conv_model(ob2torch(observations[i]).reshape(batch_size,n_channels,n_dim_x,n_dim_y))  \n",
    "    \n",
    "    loss = F.l1_loss(y.reshape((y.shape[1], y.shape[2], y.shape[3])), target)\n",
    "    #loss.backward(retain_graph=True)\n",
    "    if i != n_steps - 1:\n",
    "        loss.backward(retain_graph=True)\n",
    "    else:\n",
    "        loss.backward()\n",
    "    results.append(y.detach().numpy().copy())\n",
    "    if done:\n",
    "        env.reset()\n",
    "end = time.time()\n",
    "print(end - start)\n",
    "conv_model.x_prev = None ## Necessary to reset graph, so don't have carryover between backward passes\n"
   ]
  },
  {
   "cell_type": "markdown",
   "metadata": {},
   "source": [
    "## Testing with different number of filters - BACKPROP"
   ]
  },
  {
   "cell_type": "code",
   "execution_count": 48,
   "metadata": {
    "collapsed": true
   },
   "outputs": [],
   "source": [
    "n_tests_per_setting = 20\n",
    "out_channels_to_test = [20, 50, 100, 200]"
   ]
  },
  {
   "cell_type": "code",
   "execution_count": null,
   "metadata": {
    "collapsed": true
   },
   "outputs": [],
   "source": [
    "for i in range()"
   ]
  },
  {
   "cell_type": "code",
   "execution_count": null,
   "metadata": {
    "collapsed": true
   },
   "outputs": [],
   "source": []
  },
  {
   "cell_type": "code",
   "execution_count": null,
   "metadata": {
    "collapsed": true
   },
   "outputs": [],
   "source": []
  },
  {
   "cell_type": "code",
   "execution_count": null,
   "metadata": {
    "collapsed": true
   },
   "outputs": [],
   "source": []
  },
  {
   "cell_type": "code",
   "execution_count": null,
   "metadata": {
    "collapsed": true
   },
   "outputs": [],
   "source": []
  },
  {
   "cell_type": "code",
   "execution_count": null,
   "metadata": {
    "collapsed": true
   },
   "outputs": [],
   "source": []
  },
  {
   "cell_type": "code",
   "execution_count": null,
   "metadata": {
    "collapsed": true
   },
   "outputs": [],
   "source": []
  },
  {
   "cell_type": "code",
   "execution_count": null,
   "metadata": {
    "collapsed": true
   },
   "outputs": [],
   "source": []
  },
  {
   "cell_type": "code",
   "execution_count": null,
   "metadata": {
    "collapsed": true
   },
   "outputs": [],
   "source": []
  },
  {
   "cell_type": "code",
   "execution_count": null,
   "metadata": {
    "collapsed": true
   },
   "outputs": [],
   "source": []
  },
  {
   "cell_type": "code",
   "execution_count": null,
   "metadata": {
    "collapsed": true
   },
   "outputs": [],
   "source": []
  },
  {
   "cell_type": "code",
   "execution_count": null,
   "metadata": {
    "collapsed": true
   },
   "outputs": [],
   "source": []
  },
  {
   "cell_type": "code",
   "execution_count": null,
   "metadata": {
    "collapsed": true
   },
   "outputs": [],
   "source": []
  },
  {
   "cell_type": "code",
   "execution_count": null,
   "metadata": {
    "collapsed": true
   },
   "outputs": [],
   "source": []
  },
  {
   "cell_type": "code",
   "execution_count": null,
   "metadata": {
    "collapsed": true
   },
   "outputs": [],
   "source": []
  },
  {
   "cell_type": "code",
   "execution_count": null,
   "metadata": {
    "collapsed": true
   },
   "outputs": [],
   "source": []
  },
  {
   "cell_type": "code",
   "execution_count": null,
   "metadata": {
    "collapsed": true
   },
   "outputs": [],
   "source": []
  },
  {
   "cell_type": "code",
   "execution_count": null,
   "metadata": {
    "collapsed": true
   },
   "outputs": [],
   "source": []
  },
  {
   "cell_type": "code",
   "execution_count": null,
   "metadata": {
    "collapsed": true
   },
   "outputs": [],
   "source": []
  },
  {
   "cell_type": "code",
   "execution_count": null,
   "metadata": {
    "collapsed": true
   },
   "outputs": [],
   "source": []
  },
  {
   "cell_type": "code",
   "execution_count": null,
   "metadata": {
    "collapsed": true
   },
   "outputs": [],
   "source": []
  },
  {
   "cell_type": "code",
   "execution_count": null,
   "metadata": {
    "collapsed": true
   },
   "outputs": [],
   "source": []
  },
  {
   "cell_type": "code",
   "execution_count": null,
   "metadata": {
    "collapsed": true
   },
   "outputs": [],
   "source": []
  }
 ],
 "metadata": {
  "kernelspec": {
   "display_name": "Python 3",
   "language": "python",
   "name": "python3"
  },
  "language_info": {
   "codemirror_mode": {
    "name": "ipython",
    "version": 3
   },
   "file_extension": ".py",
   "mimetype": "text/x-python",
   "name": "python",
   "nbconvert_exporter": "python",
   "pygments_lexer": "ipython3",
   "version": "3.5.4"
  }
 },
 "nbformat": 4,
 "nbformat_minor": 2
}
