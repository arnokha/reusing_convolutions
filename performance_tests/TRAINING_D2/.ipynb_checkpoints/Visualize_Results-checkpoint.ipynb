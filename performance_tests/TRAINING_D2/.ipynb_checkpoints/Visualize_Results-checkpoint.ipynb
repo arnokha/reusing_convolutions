{
 "cells": [
  {
   "cell_type": "code",
   "execution_count": 5,
   "metadata": {
    "collapsed": true
   },
   "outputs": [],
   "source": [
    "import numpy as np\n",
    "import matplotlib.pyplot as plt\n",
    "import os\n",
    "import pandas as pd\n",
    "import seaborn as sns\n",
    "\n",
    "sns.set()"
   ]
  },
  {
   "cell_type": "code",
   "execution_count": 6,
   "metadata": {
    "collapsed": true
   },
   "outputs": [],
   "source": [
    "atari_games_list = [\n",
    "    \"Alien\",\n",
    "    \"Amidar\",\n",
    "    \"Assault\",\n",
    "    \"Asterix\",\n",
    "    \"BankHeist\",\n",
    "    \"BattleZone\",\n",
    "    \"Boxing\",\n",
    "    \"Breakout\",\n",
    "    \"ChopperCommand\",\n",
    "    \"CrazyClimber\",\n",
    "    \"DemonAttack\",\n",
    "    \"Freeway\",\n",
    "    \"Gopher\",\n",
    "    \"Hero\",\n",
    "    \"Kangaroo\",\n",
    "    \"Krull\",\n",
    "    \"KungFuMaster\",\n",
    "    \"MsPacman\",\n",
    "    \"Pong\",\n",
    "    \"PrivateEye\",\n",
    "    \"Qbert\",\n",
    "    \"RoadRunner\",\n",
    "    \"YarsRevenge\",\n",
    "    \"Seaquest\"\n",
    "]"
   ]
  },
  {
   "cell_type": "code",
   "execution_count": 7,
   "metadata": {
    "collapsed": true
   },
   "outputs": [],
   "source": [
    "def extract_avg(f):\n",
    "    with open(f) as f:\n",
    "        first_line = f.readline()\n",
    "        return float(first_line.rsplit(\" \")[-1])"
   ]
  },
  {
   "cell_type": "code",
   "execution_count": 9,
   "metadata": {},
   "outputs": [],
   "source": [
    "results = {}\n",
    "#DIRS = [\"./BASE_CPU/\", \"./REUSE_CPU/\", \"./BASE_GPU/\", \"./REUSE_GPU/\"]\n",
    "DIRS = [\"./BASE_CPU/\", \"./REUSE_CPU/\", \"./BASE_GPU/\"]\n",
    "#aliases = [\"base_cpu\", \"reuse_cpu\", \"base_gpu\", \"reuse_gpu\"]\n",
    "aliases = [\"base_cpu\", \"reuse_cpu\", \"base_gpu\"]\n",
    "\n",
    "games_results_not_complete = []\n",
    "\n",
    "for game in atari_games_list:\n",
    "    results[game] = []\n",
    "    \n",
    "for DIR, alias in zip(DIRS, aliases):\n",
    "    dir_cont = sorted(os.listdir(DIR))\n",
    "    \n",
    "    for game in dir_cont: ## Each game is a dir name\n",
    "        \n",
    "        ## Skip any non-directory files\n",
    "        if \".sh\" in game or \".py\" in game or \".ipynb\" in game:\n",
    "            continue\n",
    "        \n",
    "        ## Get result file from sub directory\n",
    "        full_path = DIR + game\n",
    "        result_file = os.listdir(full_path)\n",
    "        \n",
    "        ## Detect missing results\n",
    "        if len(result_file) < 1:\n",
    "            print(\"No results for: \" + full_path.rsplit(\"/\")[-1] + \" (\"+DIR+\")\")\n",
    "            games_results_not_complete.append(full_path.rsplit(\"/\")[-1])\n",
    "            results[game].append(np.nan)\n",
    "            continue\n",
    "\n",
    "        ## Now we are looking at the result of a particular game using a particular method/hardware\n",
    "        #results[(alias, game)] = extract_avg(full_path + \"/\" + result_file[0])\n",
    "        \n",
    "        results[game].append(extract_avg(full_path + \"/\" + result_file[0]))"
   ]
  },
  {
   "cell_type": "code",
   "execution_count": 10,
   "metadata": {},
   "outputs": [
    {
     "data": {
      "text/plain": [
       "{'Alien': [97.07, 160.54, 9.24],\n",
       " 'Amidar': [84.86, 98.74, 9.71],\n",
       " 'Assault': [18.51, 24.79, 6.46],\n",
       " 'Asterix': [114.99, 102.74, 5.68],\n",
       " 'BankHeist': [20.19, 92.74, 5.87],\n",
       " 'BattleZone': [141.26, 1016.77, 5.77],\n",
       " 'Boxing': [486.01, 108.67, 6.29],\n",
       " 'Breakout': [364.18, 20.56, 4.64],\n",
       " 'ChopperCommand': [97.11, 181.04, 6.29],\n",
       " 'CrazyClimber': [526.88, 14.39, 3.95],\n",
       " 'DemonAttack': [414.81, 421.04, 4.39],\n",
       " 'Freeway': [923.21, 36.32, 6.31],\n",
       " 'Gopher': [123.92, 59.0, 6.15],\n",
       " 'Hero': [427.02, 33.29, 4.94],\n",
       " 'Kangaroo': [95.91, 117.66, 8.82],\n",
       " 'Krull': [669.22, 515.34, 5.37],\n",
       " 'KungFuMaster': [116.41, 98.53, 6.43],\n",
       " 'MsPacman': [71.95, 123.8, 8.33],\n",
       " 'Pong': [52.94, 48.25, 7.88],\n",
       " 'PrivateEye': [647.21, 52.9, 4.4],\n",
       " 'Qbert': [62.26, 76.6, 8.24],\n",
       " 'RoadRunner': [106.26, 131.77, 6.48],\n",
       " 'Seaquest': [477.33, 137.59, 4.94],\n",
       " 'YarsRevenge': [150.0, 479.02, 5.52]}"
      ]
     },
     "execution_count": 10,
     "metadata": {},
     "output_type": "execute_result"
    }
   ],
   "source": [
    "## Averages over 10 runs. First element is from base_cpu, second from reuse_cpu, third from base_gpu\n",
    "## Things to notice: \n",
    "## (1) Each run has high variance because these episode lengths can vary greatly, and number of .\n",
    "##     whcih means there can be a variable number of backpropagations.\n",
    "## (2) The worst performance of reuse comes from games with large areas of pixel change \n",
    "##       (BattleZone, ChopperCommand, Freeway, Krull, MsPacman, YarsRevenge)\n",
    "## (3) Get's a very big performance boost on games that have little pixel change from frame to frame\n",
    "##     (Amidar, Breakout, CrazyClimber, Gopher, Hero, Kangaroo, KungFuMaster, \n",
    "##      Pong, PrivateEye, Qbert)\n",
    "## (4) There were games where the CPU version of reuse was faster than the GPU base version\n",
    "## (5) Not immediately obvious why it performed much more poorly than base CPU on RoadRunner, Seaquest\n",
    "\n",
    "\n",
    "results"
   ]
  },
  {
   "cell_type": "code",
   "execution_count": 11,
   "metadata": {
    "collapsed": true
   },
   "outputs": [],
   "source": [
    "#df = pd.DataFrame(results, index=atari_games_list)\n",
    "df = pd.DataFrame(results, index=aliases)\n",
    "#df.columns = pd.MultiIndex.from_tuples(tuples)"
   ]
  },
  {
   "cell_type": "code",
   "execution_count": 12,
   "metadata": {
    "collapsed": true
   },
   "outputs": [],
   "source": [
    "#df = pd.DataFrame(results)\n"
   ]
  },
  {
   "cell_type": "code",
   "execution_count": 13,
   "metadata": {},
   "outputs": [
    {
     "data": {
      "text/html": [
       "<div>\n",
       "<style>\n",
       "    .dataframe thead tr:only-child th {\n",
       "        text-align: right;\n",
       "    }\n",
       "\n",
       "    .dataframe thead th {\n",
       "        text-align: left;\n",
       "    }\n",
       "\n",
       "    .dataframe tbody tr th {\n",
       "        vertical-align: top;\n",
       "    }\n",
       "</style>\n",
       "<table border=\"1\" class=\"dataframe\">\n",
       "  <thead>\n",
       "    <tr style=\"text-align: right;\">\n",
       "      <th></th>\n",
       "      <th>Alien</th>\n",
       "      <th>Amidar</th>\n",
       "      <th>Assault</th>\n",
       "      <th>Asterix</th>\n",
       "      <th>BankHeist</th>\n",
       "      <th>BattleZone</th>\n",
       "      <th>Boxing</th>\n",
       "      <th>Breakout</th>\n",
       "      <th>ChopperCommand</th>\n",
       "      <th>CrazyClimber</th>\n",
       "      <th>...</th>\n",
       "      <th>Kangaroo</th>\n",
       "      <th>Krull</th>\n",
       "      <th>KungFuMaster</th>\n",
       "      <th>MsPacman</th>\n",
       "      <th>Pong</th>\n",
       "      <th>PrivateEye</th>\n",
       "      <th>Qbert</th>\n",
       "      <th>RoadRunner</th>\n",
       "      <th>Seaquest</th>\n",
       "      <th>YarsRevenge</th>\n",
       "    </tr>\n",
       "  </thead>\n",
       "  <tbody>\n",
       "    <tr>\n",
       "      <th>base_cpu</th>\n",
       "      <td>97.07</td>\n",
       "      <td>84.86</td>\n",
       "      <td>18.51</td>\n",
       "      <td>114.99</td>\n",
       "      <td>20.19</td>\n",
       "      <td>141.26</td>\n",
       "      <td>486.01</td>\n",
       "      <td>364.18</td>\n",
       "      <td>97.11</td>\n",
       "      <td>526.88</td>\n",
       "      <td>...</td>\n",
       "      <td>95.91</td>\n",
       "      <td>669.22</td>\n",
       "      <td>116.41</td>\n",
       "      <td>71.95</td>\n",
       "      <td>52.94</td>\n",
       "      <td>647.21</td>\n",
       "      <td>62.26</td>\n",
       "      <td>106.26</td>\n",
       "      <td>477.33</td>\n",
       "      <td>150.00</td>\n",
       "    </tr>\n",
       "    <tr>\n",
       "      <th>reuse_cpu</th>\n",
       "      <td>160.54</td>\n",
       "      <td>98.74</td>\n",
       "      <td>24.79</td>\n",
       "      <td>102.74</td>\n",
       "      <td>92.74</td>\n",
       "      <td>1016.77</td>\n",
       "      <td>108.67</td>\n",
       "      <td>20.56</td>\n",
       "      <td>181.04</td>\n",
       "      <td>14.39</td>\n",
       "      <td>...</td>\n",
       "      <td>117.66</td>\n",
       "      <td>515.34</td>\n",
       "      <td>98.53</td>\n",
       "      <td>123.80</td>\n",
       "      <td>48.25</td>\n",
       "      <td>52.90</td>\n",
       "      <td>76.60</td>\n",
       "      <td>131.77</td>\n",
       "      <td>137.59</td>\n",
       "      <td>479.02</td>\n",
       "    </tr>\n",
       "    <tr>\n",
       "      <th>base_gpu</th>\n",
       "      <td>9.24</td>\n",
       "      <td>9.71</td>\n",
       "      <td>6.46</td>\n",
       "      <td>5.68</td>\n",
       "      <td>5.87</td>\n",
       "      <td>5.77</td>\n",
       "      <td>6.29</td>\n",
       "      <td>4.64</td>\n",
       "      <td>6.29</td>\n",
       "      <td>3.95</td>\n",
       "      <td>...</td>\n",
       "      <td>8.82</td>\n",
       "      <td>5.37</td>\n",
       "      <td>6.43</td>\n",
       "      <td>8.33</td>\n",
       "      <td>7.88</td>\n",
       "      <td>4.40</td>\n",
       "      <td>8.24</td>\n",
       "      <td>6.48</td>\n",
       "      <td>4.94</td>\n",
       "      <td>5.52</td>\n",
       "    </tr>\n",
       "  </tbody>\n",
       "</table>\n",
       "<p>3 rows × 24 columns</p>\n",
       "</div>"
      ],
      "text/plain": [
       "            Alien  Amidar  Assault  Asterix  BankHeist  BattleZone  Boxing  \\\n",
       "base_cpu    97.07   84.86    18.51   114.99      20.19      141.26  486.01   \n",
       "reuse_cpu  160.54   98.74    24.79   102.74      92.74     1016.77  108.67   \n",
       "base_gpu     9.24    9.71     6.46     5.68       5.87        5.77    6.29   \n",
       "\n",
       "           Breakout  ChopperCommand  CrazyClimber     ...       Kangaroo  \\\n",
       "base_cpu     364.18           97.11        526.88     ...          95.91   \n",
       "reuse_cpu     20.56          181.04         14.39     ...         117.66   \n",
       "base_gpu       4.64            6.29          3.95     ...           8.82   \n",
       "\n",
       "            Krull  KungFuMaster  MsPacman   Pong  PrivateEye  Qbert  \\\n",
       "base_cpu   669.22        116.41     71.95  52.94      647.21  62.26   \n",
       "reuse_cpu  515.34         98.53    123.80  48.25       52.90  76.60   \n",
       "base_gpu     5.37          6.43      8.33   7.88        4.40   8.24   \n",
       "\n",
       "           RoadRunner  Seaquest  YarsRevenge  \n",
       "base_cpu       106.26    477.33       150.00  \n",
       "reuse_cpu      131.77    137.59       479.02  \n",
       "base_gpu         6.48      4.94         5.52  \n",
       "\n",
       "[3 rows x 24 columns]"
      ]
     },
     "execution_count": 13,
     "metadata": {},
     "output_type": "execute_result"
    }
   ],
   "source": [
    "df"
   ]
  },
  {
   "cell_type": "code",
   "execution_count": 14,
   "metadata": {
    "collapsed": true
   },
   "outputs": [],
   "source": [
    "#df.to_html('training_table_by_episode_20_40_3000_steps.html')"
   ]
  },
  {
   "cell_type": "code",
   "execution_count": 15,
   "metadata": {
    "collapsed": true
   },
   "outputs": [],
   "source": [
    "## New table - Computational savings from base cpu to reuse cpu, and base gpu to reuse cpu, and add row that has average"
   ]
  },
  {
   "cell_type": "code",
   "execution_count": 16,
   "metadata": {
    "collapsed": true
   },
   "outputs": [],
   "source": [
    "df = df.T"
   ]
  },
  {
   "cell_type": "code",
   "execution_count": 17,
   "metadata": {
    "collapsed": true
   },
   "outputs": [],
   "source": [
    "df[\"reuse_cpu/base_cpu\"] = (df[\"reuse_cpu\"] / df[\"base_cpu\"]).round(decimals=2)\n",
    "\n",
    "df[\"reuse_cpu/base_gpu\"] = (df[\"reuse_cpu\"] / df[\"base_gpu\"]).round(decimals=2)\n",
    "\n",
    "df[\"base_cpu/base_gpu\"] = (df[\"base_cpu\"] / df[\"base_gpu\"]).round(decimals=2)"
   ]
  },
  {
   "cell_type": "code",
   "execution_count": 18,
   "metadata": {
    "collapsed": true
   },
   "outputs": [],
   "source": [
    "df = df.round(decimals=2).T"
   ]
  },
  {
   "cell_type": "code",
   "execution_count": 19,
   "metadata": {
    "collapsed": true
   },
   "outputs": [],
   "source": [
    "df[\"Mean\"] = df.T.mean()"
   ]
  },
  {
   "cell_type": "code",
   "execution_count": 20,
   "metadata": {},
   "outputs": [
    {
     "data": {
      "text/plain": [
       "base_cpu              262.062917\n",
       "reuse_cpu             173.003750\n",
       "base_gpu                6.337500\n",
       "reuse_cpu/base_cpu      1.338750\n",
       "reuse_cpu/base_gpu     29.812917\n",
       "base_cpu/base_gpu      49.419167\n",
       "Name: Mean, dtype: float64"
      ]
     },
     "execution_count": 20,
     "metadata": {},
     "output_type": "execute_result"
    }
   ],
   "source": [
    "df[\"Mean\"]"
   ]
  },
  {
   "cell_type": "code",
   "execution_count": 16,
   "metadata": {
    "collapsed": true
   },
   "outputs": [],
   "source": [
    "df.round(2).to_html('training_table_by_episode_20_40_conv_3000_steps_more_info.html')"
   ]
  },
  {
   "cell_type": "code",
   "execution_count": 18,
   "metadata": {
    "collapsed": true
   },
   "outputs": [],
   "source": [
    "df.T.round(2).to_html('training_table_by_episode_20_40_conv_3000_steps_more_info_T.html')"
   ]
  },
  {
   "cell_type": "code",
   "execution_count": null,
   "metadata": {
    "collapsed": true
   },
   "outputs": [],
   "source": []
  }
 ],
 "metadata": {
  "kernelspec": {
   "display_name": "Python 3",
   "language": "python",
   "name": "python3"
  },
  "language_info": {
   "codemirror_mode": {
    "name": "ipython",
    "version": 3
   },
   "file_extension": ".py",
   "mimetype": "text/x-python",
   "name": "python",
   "nbconvert_exporter": "python",
   "pygments_lexer": "ipython3",
   "version": "3.5.4"
  }
 },
 "nbformat": 4,
 "nbformat_minor": 2
}
