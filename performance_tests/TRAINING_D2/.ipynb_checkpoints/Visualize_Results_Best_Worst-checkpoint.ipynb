{
 "cells": [
  {
   "cell_type": "code",
   "execution_count": 4,
   "metadata": {
    "collapsed": true
   },
   "outputs": [],
   "source": [
    "import numpy as np\n",
    "import matplotlib.pyplot as plt\n",
    "import os\n",
    "import pandas as pd\n",
    "import seaborn as sns\n",
    "\n",
    "sns.set()"
   ]
  },
  {
   "cell_type": "code",
   "execution_count": 5,
   "metadata": {
    "collapsed": true
   },
   "outputs": [],
   "source": [
    "atari_games_list = [\n",
    "    \"Alien\",\n",
    "    \"Amidar\",\n",
    "    \"Assault\",\n",
    "    \"Asterix\",\n",
    "    \"BankHeist\",\n",
    "    \"BattleZone\",\n",
    "    \"Boxing\",\n",
    "    \"Breakout\",\n",
    "    \"ChopperCommand\",\n",
    "    \"CrazyClimber\",\n",
    "    \"DemonAttack\",\n",
    "    \"Freeway\",\n",
    "    \"Gopher\",\n",
    "    \"Hero\",\n",
    "    \"Kangaroo\",\n",
    "    \"Krull\",\n",
    "    \"KungFuMaster\",\n",
    "    \"MsPacman\",\n",
    "    \"Pong\",\n",
    "    \"PrivateEye\",\n",
    "    \"Qbert\",\n",
    "    \"RoadRunner\",\n",
    "    \"YarsRevenge\",\n",
    "    \"Seaquest\"\n",
    "]"
   ]
  },
  {
   "cell_type": "code",
   "execution_count": 6,
   "metadata": {
    "collapsed": true
   },
   "outputs": [],
   "source": [
    "def extract_avg(f):\n",
    "    with open(f) as f:\n",
    "        first_line = f.readline()\n",
    "        return float(first_line.rsplit(\" \")[-1])"
   ]
  },
  {
   "cell_type": "code",
   "execution_count": 7,
   "metadata": {
    "collapsed": true
   },
   "outputs": [],
   "source": [
    "results_10_20 = {}\n",
    "results_20_40 = {}\n",
    "results_40_80 = {}\n",
    "results_80_160 = {}\n",
    "#DIRS = [\"./BASE_CPU/\", \"./REUSE_CPU/\", \"./BASE_GPU/\", \"./REUSE_GPU/\"]\n",
    "#aliases = [\"base_cpu\", \"reuse_cpu\", \"base_gpu\", \"reuse_gpu\"]\n",
    "\n",
    "DIRS = [\"./BASE_CPU/\", \"./REUSE_CPU/\", \"./BASE_GPU/\"]\n",
    "aliases = [\"base_cpu\", \"reuse_cpu\", \"base_gpu\"]\n",
    "\n",
    "games_results_not_complete = []\n",
    "\n",
    "for game in atari_games_list:\n",
    "    results_10_20[game] = []\n",
    "    results_20_40[game] = []\n",
    "    results_40_80[game] = []\n",
    "    results_80_160[game] = []\n",
    "    \n",
    "for DIR, alias in zip(DIRS, aliases):\n",
    "    dir_cont = sorted(os.listdir(DIR))\n",
    "    #print(DIR)\n",
    "    \n",
    "    for game in dir_cont: ## Each game is a dir name\n",
    "        \n",
    "        ## Skip any non-directory files\n",
    "        if \".sh\" in game or \".py\" in game or \".ipynb\" in game:\n",
    "            continue\n",
    "        \n",
    "        ## Get result file from sub directory\n",
    "        full_path = DIR + game\n",
    "        result_files = os.listdir(full_path)\n",
    "        #print(DIR, game, result_files)\n",
    "        \n",
    "        ## Detect missing results\n",
    "        if len(result_files) < 4:\n",
    "            #print(\"No results for: \" + full_path.rsplit(\"/\")[-1] + \" (\"+DIR+\")\")\n",
    "            #print(\"Missing \" + str(4 - len(result_files)))\n",
    "            #print(not np.nan in results_80_160[game], results_80_160[game])\n",
    "            games_results_not_complete.append(full_path.rsplit(\"/\")[-1])\n",
    "            no_10 = True\n",
    "            no_20 = True\n",
    "            no_40 = True\n",
    "            no_80 = True\n",
    "            \n",
    "            for f in result_files:\n",
    "                if \"10_20\" in f:\n",
    "                    no_10 = False\n",
    "                if \"20_40\" in f:\n",
    "                    no_20 = False\n",
    "                if \"40_80\" in f:\n",
    "                    no_40 = False\n",
    "                if \"80_160\" in f:\n",
    "                    no_80 = False\n",
    "            if no_10:\n",
    "                results_10_20[game].append(np.nan)\n",
    "            if no_20:\n",
    "                results_20_40[game].append(np.nan)\n",
    "            if no_40:\n",
    "                results_40_80[game].append(np.nan)\n",
    "            if no_80:\n",
    "                results_80_160[game].append(np.nan)\n",
    "            #print(DIR, game)\n",
    "            #if len(result_files) == 3: # and not np.nan in results_80_160[game]:\n",
    "            #    print(\"Missing 1\")\n",
    "            #    results_80_160[game].append(np.nan)\n",
    "            #elif len(result_files) == 2: # and not np.nan in results_80_160[game]:\n",
    "            #    print(\"Missing 2\")\n",
    "            #    results_40_80[game].append(np.nan)\n",
    "            #    results_80_160[game].append(np.nan)\n",
    "            #elif len(result_files) == 1: # and not np.nan in results_80_160[game]:\n",
    "            #    print(\"Missing 3\")\n",
    "            #    results_20_40[game].append(np.nan)\n",
    "            #    results_40_80[game].append(np.nan)\n",
    "            #    results_80_160[game].append(np.nan)\n",
    "            #elif len(result_files) < 2:\n",
    "            #    print(\"Missing 3!\")\n",
    "            #    print(len(result_files))\n",
    "            #continue\n",
    "        #if len(result_files) < 3:\n",
    "        #    print(DIR, game, result_files)\n",
    "\n",
    "        ## Now we are looking at the result of a particular game using a particular method/hardware\n",
    "        #results[(alias, game)] = extract_avg(full_path + \"/\" + result_file[0])\n",
    "        for result_file in result_files:\n",
    "            #print(DIR, game, result_file, results_20_40[game])\n",
    "            #if \"10_20\" in result_file:\n",
    "            #    results_10_20[game].append(extract_avg(full_path + \"/\" + result_file))\n",
    "            if \"20_40\" in result_file:\n",
    "                results_20_40[game].append(extract_avg(full_path + \"/\" + result_file))\n",
    "            elif \"40_80\" in result_file:\n",
    "                results_40_80[game].append(extract_avg(full_path + \"/\" + result_file))\n",
    "            #elif \"80_160\" in result_file:\n",
    "            #    results_80_160[game].append(extract_avg(full_path + \"/\" + result_file))"
   ]
  },
  {
   "cell_type": "code",
   "execution_count": 8,
   "metadata": {},
   "outputs": [
    {
     "name": "stdout",
     "output_type": "stream",
     "text": [
      "{'Hero': [16.94, 8.02, nan], 'ChopperCommand': [39.97, 32.82, 9.88], 'Seaquest': [14.1, 12.33, nan], 'BattleZone': [36.31, 31.2, nan], 'DemonAttack': [16.0, 9.72, nan], 'BankHeist': [49.98, 16.02, nan], 'Amidar': [34.81, 20.96, 10.83], 'Assault': [28.76, 23.33, nan], 'Asterix': [29.21, 20.93, nan], 'RoadRunner': [43.52, 29.82, 9.88], 'MsPacman': [30.61, 24.49, 9.02], 'KungFuMaster': [36.39, 22.86, 9.78], 'Pong': [21.59, 11.43, 8.47], 'Freeway': [23.22, 22.05, nan], 'Krull': [26.05, 23.74, nan], 'YarsRevenge': [33.09, 31.11, nan], 'CrazyClimber': [12.47, 4.09, nan], 'Qbert': [24.8, 14.89, 9.12], 'Alien': [42.61, 34.1, 9.73], 'Breakout': [13.54, 3.74, nan], 'PrivateEye': [12.35, 6.43, nan], 'Boxing': [37.9, 25.95, nan], 'Gopher': [29.62, 12.58, nan], 'Kangaroo': [42.61, 28.04, 9.68]}\n",
      "\n",
      "{'Hero': [278.48, 9.13, nan], 'ChopperCommand': [97.86, 80.12, nan], 'Seaquest': [402.05, 34.64, nan], 'BattleZone': [139.55, 67.17, nan], 'DemonAttack': [207.85, 18.53, nan], 'BankHeist': [nan, 44.05, nan], 'Amidar': [84.4, 44.5, nan], 'Assault': [nan, 47.76, nan], 'Asterix': [113.05, 42.35, nan], 'RoadRunner': [101.1, 58.08, nan], 'MsPacman': [71.89, 51.13, nan], 'KungFuMaster': [111.88, 47.89, nan], 'Pong': [53.16, 22.56, nan], 'Freeway': [682.4, 275.74, nan], 'Krull': [584.89, 51.85, nan], 'YarsRevenge': [144.95, 66.37, nan], 'CrazyClimber': [220.07, 7.83, nan], 'Qbert': [62.71, 31.94, nan], 'Alien': [96.62, 70.87, 15.97], 'Breakout': [256.99, 5.93, nan], 'PrivateEye': [361.37, 11.79, nan], 'Boxing': [378.36, 53.13, nan], 'Gopher': [124.48, 29.48, nan], 'Kangaroo': [96.5, 58.05, nan]}\n",
      "\n"
     ]
    }
   ],
   "source": [
    "## Averages over 10 runs. First element is from base_cpu, second from reuse_cpu, third from base_gpu\n",
    "## Things to notice: \n",
    "## (1) Each run has high variance because these episode lengths can vary greatly, and number of .\n",
    "##     whcih means there can be a variable number of backpropagations.\n",
    "## (2) The worst performance of reuse comes from games with large areas of pixel change \n",
    "##       (BattleZone, ChopperCommand, Freeway, Krull, MsPacman, YarsRevenge)\n",
    "## (3) Get's a very big performance boost on games that have little pixel change from frame to frame\n",
    "##     (Amidar, Breakout, CrazyClimber, Gopher, Hero, Kangaroo, KungFuMaster, \n",
    "##      Pong, PrivateEye, Qbert)\n",
    "## (4) There were games where the CPU version of reuse was faster than the GPU base version\n",
    "## (5) Not immediately obvious why it performed much more poorly than base CPU on RoadRunner, Seaquest\n",
    "\n",
    "print(results_20_40)\n",
    "print()\n",
    "print(results_40_80)\n",
    "print()\n",
    "#print(results_80_160)"
   ]
  },
  {
   "cell_type": "code",
   "execution_count": 9,
   "metadata": {
    "collapsed": true
   },
   "outputs": [],
   "source": [
    "df_20_40 = pd.DataFrame(results_20_40, index=aliases)\n",
    "df_40_80 = pd.DataFrame(results_40_80, index=aliases)\n",
    "#df_80_160 = pd.DataFrame(results_80_160, index=aliases)"
   ]
  },
  {
   "cell_type": "code",
   "execution_count": 10,
   "metadata": {
    "collapsed": true
   },
   "outputs": [],
   "source": [
    "df_40_80 = df_40_80.T\n",
    "\n",
    "df_40_80[\"reuse_cpu/base_cpu\"] = (df_40_80[\"reuse_cpu\"] / df_40_80[\"base_cpu\"]).round(decimals=2)\n",
    "df_40_80[\"reuse_cpu/base_gpu\"] = (df_40_80[\"reuse_cpu\"] / df_40_80[\"base_gpu\"]).round(decimals=2)\n",
    "df_40_80[\"base_cpu/base_gpu\"] = (df_40_80[\"base_cpu\"] / df_40_80[\"base_gpu\"]).round(decimals=2)\n",
    "\n",
    "df_40_80 = df_40_80.T\n",
    "df_40_80[\"Mean\"] = df_40_80.T.mean()"
   ]
  },
  {
   "cell_type": "code",
   "execution_count": 61,
   "metadata": {
    "collapsed": true
   },
   "outputs": [],
   "source": [
    "sorted_df = df_40_80.T.sort_values(\"reuse_cpu/base_cpu\")\n",
    "top3 = sorted_df.values[0:3]\n",
    "bot3 = sorted_df.values[-5:-2] ## last 2 are NaN\n",
    "top3_titles = list(sorted_df.index[0:3])\n",
    "bot3_titles = list(sorted_df.index[-5:-2]) ## last 2 are NaN"
   ]
  },
  {
   "cell_type": "code",
   "execution_count": 62,
   "metadata": {},
   "outputs": [
    {
     "data": {
      "text/html": [
       "<div>\n",
       "<style>\n",
       "    .dataframe thead tr:only-child th {\n",
       "        text-align: right;\n",
       "    }\n",
       "\n",
       "    .dataframe thead th {\n",
       "        text-align: left;\n",
       "    }\n",
       "\n",
       "    .dataframe tbody tr th {\n",
       "        vertical-align: top;\n",
       "    }\n",
       "</style>\n",
       "<table border=\"1\" class=\"dataframe\">\n",
       "  <thead>\n",
       "    <tr style=\"text-align: right;\">\n",
       "      <th></th>\n",
       "      <th>base_cpu</th>\n",
       "      <th>reuse_cpu</th>\n",
       "      <th>base_gpu</th>\n",
       "      <th>reuse_cpu/base_cpu</th>\n",
       "      <th>reuse_cpu/base_gpu</th>\n",
       "      <th>base_cpu/base_gpu</th>\n",
       "    </tr>\n",
       "  </thead>\n",
       "  <tbody>\n",
       "    <tr>\n",
       "      <th>MsPacman</th>\n",
       "      <td>71.89</td>\n",
       "      <td>51.13</td>\n",
       "      <td>NaN</td>\n",
       "      <td>0.71</td>\n",
       "      <td>NaN</td>\n",
       "      <td>NaN</td>\n",
       "    </tr>\n",
       "    <tr>\n",
       "      <th>Alien</th>\n",
       "      <td>96.62</td>\n",
       "      <td>70.87</td>\n",
       "      <td>15.97</td>\n",
       "      <td>0.73</td>\n",
       "      <td>4.44</td>\n",
       "      <td>6.05</td>\n",
       "    </tr>\n",
       "    <tr>\n",
       "      <th>ChopperCommand</th>\n",
       "      <td>97.86</td>\n",
       "      <td>80.12</td>\n",
       "      <td>NaN</td>\n",
       "      <td>0.82</td>\n",
       "      <td>NaN</td>\n",
       "      <td>NaN</td>\n",
       "    </tr>\n",
       "    <tr>\n",
       "      <th>Assault</th>\n",
       "      <td>NaN</td>\n",
       "      <td>47.76</td>\n",
       "      <td>NaN</td>\n",
       "      <td>NaN</td>\n",
       "      <td>NaN</td>\n",
       "      <td>NaN</td>\n",
       "    </tr>\n",
       "    <tr>\n",
       "      <th>BankHeist</th>\n",
       "      <td>NaN</td>\n",
       "      <td>44.05</td>\n",
       "      <td>NaN</td>\n",
       "      <td>NaN</td>\n",
       "      <td>NaN</td>\n",
       "      <td>NaN</td>\n",
       "    </tr>\n",
       "  </tbody>\n",
       "</table>\n",
       "</div>"
      ],
      "text/plain": [
       "                base_cpu  reuse_cpu  base_gpu  reuse_cpu/base_cpu  \\\n",
       "MsPacman           71.89      51.13       NaN                0.71   \n",
       "Alien              96.62      70.87     15.97                0.73   \n",
       "ChopperCommand     97.86      80.12       NaN                0.82   \n",
       "Assault              NaN      47.76       NaN                 NaN   \n",
       "BankHeist            NaN      44.05       NaN                 NaN   \n",
       "\n",
       "                reuse_cpu/base_gpu  base_cpu/base_gpu  \n",
       "MsPacman                       NaN                NaN  \n",
       "Alien                         4.44               6.05  \n",
       "ChopperCommand                 NaN                NaN  \n",
       "Assault                        NaN                NaN  \n",
       "BankHeist                      NaN                NaN  "
      ]
     },
     "execution_count": 62,
     "metadata": {},
     "output_type": "execute_result"
    }
   ],
   "source": [
    "sorted_df.tail()"
   ]
  },
  {
   "cell_type": "code",
   "execution_count": 64,
   "metadata": {},
   "outputs": [
    {
     "data": {
      "image/png": "[encoded data removed]",
      "text/plain": [
       "<matplotlib.figure.Figure at 0x7f0c53a3ea90>"
      ]
     },
     "metadata": {},
     "output_type": "display_data"
    }
   ],
   "source": [
    "n_groups=3\n",
    "\n",
    "# create plot\n",
    "plt.figure(figsize=(6,4))\n",
    "index = np.arange(n_groups)\n",
    "bar_width = 0.15\n",
    "opacity = 0.95\n",
    "\n",
    "rects1 = plt.bar(index, top3[:,0], bar_width,\n",
    "alpha=opacity,\n",
    "#color='r',\n",
    "label='Base CPU')\n",
    "\n",
    "rects2 = plt.bar(index + bar_width, top3[:,1], bar_width,\n",
    "alpha=opacity,\n",
    "#color='g',\n",
    "label='Reuse CPU')\n",
    "\n",
    "rects2 = plt.bar(index + bar_width*2, top3[:,2], bar_width,\n",
    "alpha=opacity,\n",
    "#color='b',\n",
    "label='Base GPU')\n",
    "\n",
    "plt.xlabel('Game', fontsize=14)\n",
    "#plt.ylabel('Average time until completion (s)', fontsize=14)\n",
    "#plt.title('Time for 3000 steps of training (best)', fontsize=20)\n",
    "plt.xticks(index + bar_width, top3_titles, fontsize=16)\n",
    "#plt.legend(prop={'size': 16})\n",
    "\n",
    "plt.tight_layout()\n",
    "plt.savefig(\"training_d2_best_40_80.png\")\n",
    "plt.show()"
   ]
  },
  {
   "cell_type": "code",
   "execution_count": 49,
   "metadata": {},
   "outputs": [
    {
     "data": {
      "image/png": "[encoded data removed]",
      "text/plain": [
       "<matplotlib.figure.Figure at 0x7f0c53e09160>"
      ]
     },
     "metadata": {},
     "output_type": "display_data"
    }
   ],
   "source": [
    "n_groups=3\n",
    "\n",
    "# create plot\n",
    "plt.figure(figsize=(6,4))\n",
    "index = np.arange(n_groups)\n",
    "bar_width = 0.15\n",
    "opacity = 0.95\n",
    "\n",
    "rects1 = plt.bar(index, bot3[:,0], bar_width,\n",
    "alpha=opacity,\n",
    "#color='r',\n",
    "label='Base CPU')\n",
    "\n",
    "rects2 = plt.bar(index + bar_width, bot3[:,1], bar_width,\n",
    "alpha=opacity,\n",
    "#color='g',\n",
    "label='Reuse CPU')\n",
    "\n",
    "rects2 = plt.bar(index + bar_width*2, bot3[:,2], bar_width,\n",
    "alpha=opacity,\n",
    "#color='b',\n",
    "label='Base GPU')\n",
    "\n",
    "plt.xlabel('Game', fontsize=14)\n",
    "#plt.ylabel('Average time until completion (s)', fontsize=14)\n",
    "#plt.title('Time for 3000 steps of training (worst)', fontsize=20)\n",
    "plt.xticks(index + bar_width, bot3_titles, fontsize=16)\n",
    "#plt.legend(prop={'size': 16})\n",
    "\n",
    "plt.tight_layout()\n",
    "plt.savefig(\"training_d2_worst_40_80.png\")\n",
    "plt.show()"
   ]
  },
  {
   "cell_type": "code",
   "execution_count": 51,
   "metadata": {
    "collapsed": true
   },
   "outputs": [],
   "source": [
    "df_20_40 = df_20_40.T\n",
    "\n",
    "df_20_40[\"reuse_cpu/base_cpu\"] = (df_20_40[\"reuse_cpu\"] / df_20_40[\"base_cpu\"]).round(decimals=2)\n",
    "df_20_40[\"reuse_cpu/base_gpu\"] = (df_20_40[\"reuse_cpu\"] / df_20_40[\"base_gpu\"]).round(decimals=2)\n",
    "df_20_40[\"base_cpu/base_gpu\"] = (df_20_40[\"base_cpu\"] / df_20_40[\"base_gpu\"]).round(decimals=2)\n",
    "\n",
    "df_20_40 = df_20_40.T\n",
    "df_20_40[\"Mean\"] = df_20_40.T.mean()"
   ]
  },
  {
   "cell_type": "code",
   "execution_count": 55,
   "metadata": {},
   "outputs": [],
   "source": [
    "sorted_df = df_20_40.T.sort_values(\"reuse_cpu/base_gpu\")\n",
    "top3 = sorted_df.values[0:3]\n",
    "bot3 = sorted_df.values[-3:] \n",
    "top3_titles = list(sorted_df.index[0:3])\n",
    "bot3_titles = list(sorted_df.index[-3:]) "
   ]
  },
  {
   "cell_type": "code",
   "execution_count": 56,
   "metadata": {},
   "outputs": [
    {
     "data": {
      "text/html": [
       "<div>\n",
       "<style>\n",
       "    .dataframe thead tr:only-child th {\n",
       "        text-align: right;\n",
       "    }\n",
       "\n",
       "    .dataframe thead th {\n",
       "        text-align: left;\n",
       "    }\n",
       "\n",
       "    .dataframe tbody tr th {\n",
       "        vertical-align: top;\n",
       "    }\n",
       "</style>\n",
       "<table border=\"1\" class=\"dataframe\">\n",
       "  <thead>\n",
       "    <tr style=\"text-align: right;\">\n",
       "      <th></th>\n",
       "      <th>base_cpu</th>\n",
       "      <th>reuse_cpu</th>\n",
       "      <th>base_gpu</th>\n",
       "      <th>reuse_cpu/base_cpu</th>\n",
       "      <th>reuse_cpu/base_gpu</th>\n",
       "      <th>base_cpu/base_gpu</th>\n",
       "    </tr>\n",
       "  </thead>\n",
       "  <tbody>\n",
       "    <tr>\n",
       "      <th>Hero</th>\n",
       "      <td>16.94</td>\n",
       "      <td>8.02</td>\n",
       "      <td>NaN</td>\n",
       "      <td>0.47</td>\n",
       "      <td>NaN</td>\n",
       "      <td>NaN</td>\n",
       "    </tr>\n",
       "    <tr>\n",
       "      <th>Krull</th>\n",
       "      <td>26.05</td>\n",
       "      <td>23.74</td>\n",
       "      <td>NaN</td>\n",
       "      <td>0.91</td>\n",
       "      <td>NaN</td>\n",
       "      <td>NaN</td>\n",
       "    </tr>\n",
       "    <tr>\n",
       "      <th>PrivateEye</th>\n",
       "      <td>12.35</td>\n",
       "      <td>6.43</td>\n",
       "      <td>NaN</td>\n",
       "      <td>0.52</td>\n",
       "      <td>NaN</td>\n",
       "      <td>NaN</td>\n",
       "    </tr>\n",
       "    <tr>\n",
       "      <th>Seaquest</th>\n",
       "      <td>14.10</td>\n",
       "      <td>12.33</td>\n",
       "      <td>NaN</td>\n",
       "      <td>0.87</td>\n",
       "      <td>NaN</td>\n",
       "      <td>NaN</td>\n",
       "    </tr>\n",
       "    <tr>\n",
       "      <th>YarsRevenge</th>\n",
       "      <td>33.09</td>\n",
       "      <td>31.11</td>\n",
       "      <td>NaN</td>\n",
       "      <td>0.94</td>\n",
       "      <td>NaN</td>\n",
       "      <td>NaN</td>\n",
       "    </tr>\n",
       "  </tbody>\n",
       "</table>\n",
       "</div>"
      ],
      "text/plain": [
       "             base_cpu  reuse_cpu  base_gpu  reuse_cpu/base_cpu  \\\n",
       "Hero            16.94       8.02       NaN                0.47   \n",
       "Krull           26.05      23.74       NaN                0.91   \n",
       "PrivateEye      12.35       6.43       NaN                0.52   \n",
       "Seaquest        14.10      12.33       NaN                0.87   \n",
       "YarsRevenge     33.09      31.11       NaN                0.94   \n",
       "\n",
       "             reuse_cpu/base_gpu  base_cpu/base_gpu  \n",
       "Hero                        NaN                NaN  \n",
       "Krull                       NaN                NaN  \n",
       "PrivateEye                  NaN                NaN  \n",
       "Seaquest                    NaN                NaN  \n",
       "YarsRevenge                 NaN                NaN  "
      ]
     },
     "execution_count": 56,
     "metadata": {},
     "output_type": "execute_result"
    }
   ],
   "source": [
    "sorted_df.tail()"
   ]
  },
  {
   "cell_type": "code",
   "execution_count": 58,
   "metadata": {},
   "outputs": [
    {
     "data": {
      "image/png": "[encoded data removed]",
      "text/plain": [
       "<matplotlib.figure.Figure at 0x7f0c53ce0ac8>"
      ]
     },
     "metadata": {},
     "output_type": "display_data"
    }
   ],
   "source": [
    "n_groups=3\n",
    "\n",
    "# create plot\n",
    "plt.figure(figsize=(6,4))\n",
    "index = np.arange(n_groups)\n",
    "bar_width = 0.15\n",
    "opacity = 0.95\n",
    "\n",
    "rects1 = plt.bar(index, top3[:,0], bar_width,\n",
    "alpha=opacity,\n",
    "#color='r',\n",
    "label='Base CPU')\n",
    "\n",
    "rects2 = plt.bar(index + bar_width, top3[:,1], bar_width,\n",
    "alpha=opacity,\n",
    "#color='g',\n",
    "label='Reuse CPU')\n",
    "\n",
    "rects2 = plt.bar(index + bar_width*2, top3[:,2], bar_width,\n",
    "alpha=opacity,\n",
    "#color='b',\n",
    "label='Base GPU')\n",
    "\n",
    "plt.xlabel('Game', fontsize=14)\n",
    "#plt.ylabel('Average time until completion (s)', fontsize=14)\n",
    "#plt.title('Time for 3000 steps of training (best)', fontsize=20)\n",
    "plt.xticks(index + bar_width, top3_titles, fontsize=16)\n",
    "#plt.legend(prop={'size': 16})\n",
    "\n",
    "plt.tight_layout()\n",
    "plt.savefig(\"training_d2_best_20_40.png\")\n",
    "plt.show()"
   ]
  },
  {
   "cell_type": "code",
   "execution_count": 59,
   "metadata": {},
   "outputs": [
    {
     "data": {
      "image/png": "[encoded data removed]",
      "text/plain": [
       "<matplotlib.figure.Figure at 0x7f0c53af8630>"
      ]
     },
     "metadata": {},
     "output_type": "display_data"
    }
   ],
   "source": [
    "n_groups=3\n",
    "\n",
    "# create plot\n",
    "plt.figure(figsize=(6,4))\n",
    "index = np.arange(n_groups)\n",
    "bar_width = 0.15\n",
    "opacity = 0.95\n",
    "\n",
    "rects1 = plt.bar(index, bot3[:,0], bar_width,\n",
    "alpha=opacity,\n",
    "#color='r',\n",
    "label='Base CPU')\n",
    "\n",
    "rects2 = plt.bar(index + bar_width, bot3[:,1], bar_width,\n",
    "alpha=opacity,\n",
    "#color='g',\n",
    "label='Reuse CPU')\n",
    "\n",
    "rects2 = plt.bar(index + bar_width*2, bot3[:,2], bar_width,\n",
    "alpha=opacity,\n",
    "#color='b',\n",
    "label='Base GPU')\n",
    "\n",
    "plt.xlabel('Game', fontsize=14)\n",
    "#plt.ylabel('Average time until completion (s)', fontsize=14)\n",
    "#plt.title('Time for 3000 steps of training (worst)', fontsize=20)\n",
    "plt.xticks(index + bar_width, bot3_titles, fontsize=16)\n",
    "#plt.legend(prop={'size': 16})\n",
    "\n",
    "plt.tight_layout()\n",
    "plt.savefig(\"training_d2_worst_20_40.png\")\n",
    "plt.show()"
   ]
  },
  {
   "cell_type": "code",
   "execution_count": null,
   "metadata": {
    "collapsed": true
   },
   "outputs": [],
   "source": []
  },
  {
   "cell_type": "code",
   "execution_count": null,
   "metadata": {
    "collapsed": true
   },
   "outputs": [],
   "source": []
  },
  {
   "cell_type": "code",
   "execution_count": null,
   "metadata": {
    "collapsed": true
   },
   "outputs": [],
   "source": []
  },
  {
   "cell_type": "code",
   "execution_count": null,
   "metadata": {
    "collapsed": true
   },
   "outputs": [],
   "source": []
  },
  {
   "cell_type": "code",
   "execution_count": null,
   "metadata": {
    "collapsed": true
   },
   "outputs": [],
   "source": []
  },
  {
   "cell_type": "code",
   "execution_count": null,
   "metadata": {
    "collapsed": true
   },
   "outputs": [],
   "source": []
  },
  {
   "cell_type": "code",
   "execution_count": null,
   "metadata": {
    "collapsed": true
   },
   "outputs": [],
   "source": []
  },
  {
   "cell_type": "code",
   "execution_count": 14,
   "metadata": {},
   "outputs": [
    {
     "data": {
      "text/plain": [
       "array([[ 3.99,  1.7 ,  3.07,  0.43,  0.55,  1.3 ],\n",
       "       [ 3.59,  2.16,  2.87,  0.6 ,  0.75,  1.25],\n",
       "       [ 6.74,  3.29,  3.97,  0.49,  0.83,  1.7 ]])"
      ]
     },
     "execution_count": 14,
     "metadata": {},
     "output_type": "execute_result"
    }
   ],
   "source": []
  },
  {
   "cell_type": "code",
   "execution_count": 6,
   "metadata": {
    "collapsed": true
   },
   "outputs": [],
   "source": [
    "#df = pd.DataFrame(results, index=atari_games_list)\n",
    "df_20_40 = pd.DataFrame(results_20_40, index=aliases)\n",
    "df_40_80 = pd.DataFrame(results_40_80, index=aliases)\n",
    "df_80_160 = pd.DataFrame(results_80_160, index=aliases)\n",
    "#df.columns = pd.MultiIndex.from_tuples(tuples)"
   ]
  },
  {
   "cell_type": "code",
   "execution_count": 22,
   "metadata": {
    "collapsed": true
   },
   "outputs": [],
   "source": [
    "#df = pd.DataFrame(results)\n"
   ]
  },
  {
   "cell_type": "code",
   "execution_count": 4,
   "metadata": {
    "collapsed": true
   },
   "outputs": [],
   "source": [
    "results_20_40 = {}\n",
    "results_40_80 = {}\n",
    "results_80_160 = {}\n",
    "DIRS = [\"./BASE_CPU/\", \"./REUSE_CPU/\", \"./BASE_GPU/\"]\n",
    "aliases = [\"base_cpu\", \"reuse_cpu\", \"base_gpu\"]\n",
    "\n",
    "games_results_not_complete = []\n",
    "\n",
    "for game in atari_games_list:\n",
    "    results_20_40[game] = []\n",
    "    results_40_80[game] = []\n",
    "    results_80_160[game] = []\n",
    "    \n",
    "for DIR, alias in zip(DIRS, aliases):\n",
    "    dir_cont = sorted(os.listdir(DIR))\n",
    "    #print(DIR)\n",
    "    \n",
    "    for game in dir_cont: ## Each game is a dir name\n",
    "        \n",
    "        ## Skip any non-directory files\n",
    "        if \".sh\" in game or \".py\" in game:\n",
    "            continue\n",
    "        \n",
    "        ## Get result file from sub directory\n",
    "        full_path = DIR + game\n",
    "        result_files = os.listdir(full_path)\n",
    "        #print(DIR, game, result_files)\n",
    "        \n",
    "        ## Detect missing results\n",
    "        if len(result_files) < 3:\n",
    "            print(\"No results for: \" + full_path.rsplit(\"/\")[-1] + \" (\"+DIR+\")\")\n",
    "            games_results_not_complete.append(full_path.rsplit(\"/\")[-1])\n",
    "            results_80_160[game].append(np.nan)\n",
    "            #continue\n",
    "\n",
    "        ## Now we are looking at the result of a particular game using a particular method/hardware\n",
    "        #results[(alias, game)] = extract_avg(full_path + \"/\" + result_file[0])\n",
    "        for result_file in result_files:\n",
    "            #print(result_file)\n",
    "            if \"20_40\" in result_file:\n",
    "                results_20_40[game].append(extract_avg(full_path + \"/\" + result_file))\n",
    "            elif \"40_80\" in result_file:\n",
    "                results_40_80[game].append(extract_avg(full_path + \"/\" + result_file))\n",
    "            elif \"80_160\" in result_file:\n",
    "                results_80_160[game].append(extract_avg(full_path + \"/\" + result_file))"
   ]
  },
  {
   "cell_type": "code",
   "execution_count": 29,
   "metadata": {},
   "outputs": [
    {
     "data": {
      "text/html": [
       "<div>\n",
       "<style>\n",
       "    .dataframe thead tr:only-child th {\n",
       "        text-align: right;\n",
       "    }\n",
       "\n",
       "    .dataframe thead th {\n",
       "        text-align: left;\n",
       "    }\n",
       "\n",
       "    .dataframe tbody tr th {\n",
       "        vertical-align: top;\n",
       "    }\n",
       "</style>\n",
       "<table border=\"1\" class=\"dataframe\">\n",
       "  <thead>\n",
       "    <tr style=\"text-align: right;\">\n",
       "      <th></th>\n",
       "      <th>Alien</th>\n",
       "      <th>Amidar</th>\n",
       "      <th>Assault</th>\n",
       "      <th>Asterix</th>\n",
       "      <th>BankHeist</th>\n",
       "      <th>BattleZone</th>\n",
       "      <th>Boxing</th>\n",
       "      <th>Breakout</th>\n",
       "      <th>ChopperCommand</th>\n",
       "      <th>CrazyClimber</th>\n",
       "      <th>...</th>\n",
       "      <th>Krull</th>\n",
       "      <th>KungFuMaster</th>\n",
       "      <th>MsPacman</th>\n",
       "      <th>Pong</th>\n",
       "      <th>PrivateEye</th>\n",
       "      <th>Qbert</th>\n",
       "      <th>RoadRunner</th>\n",
       "      <th>Seaquest</th>\n",
       "      <th>YarsRevenge</th>\n",
       "      <th>Mean</th>\n",
       "    </tr>\n",
       "  </thead>\n",
       "  <tbody>\n",
       "    <tr>\n",
       "      <th>base_cpu</th>\n",
       "      <td>52.89</td>\n",
       "      <td>53.92</td>\n",
       "      <td>39.23</td>\n",
       "      <td>43.7</td>\n",
       "      <td>33.94</td>\n",
       "      <td>48.67</td>\n",
       "      <td>50.22</td>\n",
       "      <td>27.44</td>\n",
       "      <td>52.52</td>\n",
       "      <td>18.27</td>\n",
       "      <td>...</td>\n",
       "      <td>32.97</td>\n",
       "      <td>48.38</td>\n",
       "      <td>46.82</td>\n",
       "      <td>35.40</td>\n",
       "      <td>20.03</td>\n",
       "      <td>40.05</td>\n",
       "      <td>52.85</td>\n",
       "      <td>28.64</td>\n",
       "      <td>44.31</td>\n",
       "      <td>39.240833</td>\n",
       "    </tr>\n",
       "    <tr>\n",
       "      <th>reuse_cpu</th>\n",
       "      <td>37.32</td>\n",
       "      <td>23.30</td>\n",
       "      <td>24.9</td>\n",
       "      <td>26.85</td>\n",
       "      <td>14.93</td>\n",
       "      <td>37.36</td>\n",
       "      <td>26.92</td>\n",
       "      <td>5.75</td>\n",
       "      <td>41.98</td>\n",
       "      <td>5.32</td>\n",
       "      <td>...</td>\n",
       "      <td>32.02</td>\n",
       "      <td>22.07</td>\n",
       "      <td>31.97</td>\n",
       "      <td>13.46</td>\n",
       "      <td>7.81</td>\n",
       "      <td>9.65</td>\n",
       "      <td>26.11</td>\n",
       "      <td>17.69</td>\n",
       "      <td>34.51</td>\n",
       "      <td>22.110833</td>\n",
       "    </tr>\n",
       "    <tr>\n",
       "      <th>base_gpu</th>\n",
       "      <td>9.24</td>\n",
       "      <td>9.71</td>\n",
       "      <td>-</td>\n",
       "      <td>-</td>\n",
       "      <td>-</td>\n",
       "      <td>-</td>\n",
       "      <td>-</td>\n",
       "      <td>-</td>\n",
       "      <td>-</td>\n",
       "      <td>-</td>\n",
       "      <td>...</td>\n",
       "      <td>-</td>\n",
       "      <td>-</td>\n",
       "      <td>8.33</td>\n",
       "      <td>7.88</td>\n",
       "      <td>-</td>\n",
       "      <td>8.24</td>\n",
       "      <td>-</td>\n",
       "      <td>-</td>\n",
       "      <td>-</td>\n",
       "      <td>8.703333</td>\n",
       "    </tr>\n",
       "    <tr>\n",
       "      <th>reuse_cpu/base_cpu</th>\n",
       "      <td>0.71</td>\n",
       "      <td>0.43</td>\n",
       "      <td>0.63</td>\n",
       "      <td>0.61</td>\n",
       "      <td>0.44</td>\n",
       "      <td>0.77</td>\n",
       "      <td>0.54</td>\n",
       "      <td>0.21</td>\n",
       "      <td>0.8</td>\n",
       "      <td>0.29</td>\n",
       "      <td>...</td>\n",
       "      <td>0.97</td>\n",
       "      <td>0.46</td>\n",
       "      <td>0.68</td>\n",
       "      <td>0.38</td>\n",
       "      <td>0.39</td>\n",
       "      <td>0.24</td>\n",
       "      <td>0.49</td>\n",
       "      <td>0.62</td>\n",
       "      <td>0.78</td>\n",
       "      <td>0.540000</td>\n",
       "    </tr>\n",
       "    <tr>\n",
       "      <th>reuse_cpu/base_gpu</th>\n",
       "      <td>4.04</td>\n",
       "      <td>2.40</td>\n",
       "      <td>-</td>\n",
       "      <td>-</td>\n",
       "      <td>-</td>\n",
       "      <td>-</td>\n",
       "      <td>-</td>\n",
       "      <td>-</td>\n",
       "      <td>-</td>\n",
       "      <td>-</td>\n",
       "      <td>...</td>\n",
       "      <td>-</td>\n",
       "      <td>-</td>\n",
       "      <td>3.84</td>\n",
       "      <td>1.71</td>\n",
       "      <td>-</td>\n",
       "      <td>1.17</td>\n",
       "      <td>-</td>\n",
       "      <td>-</td>\n",
       "      <td>-</td>\n",
       "      <td>2.700000</td>\n",
       "    </tr>\n",
       "    <tr>\n",
       "      <th>base_cpu/base_gpu</th>\n",
       "      <td>5.72</td>\n",
       "      <td>5.55</td>\n",
       "      <td>-</td>\n",
       "      <td>-</td>\n",
       "      <td>-</td>\n",
       "      <td>-</td>\n",
       "      <td>-</td>\n",
       "      <td>-</td>\n",
       "      <td>-</td>\n",
       "      <td>-</td>\n",
       "      <td>...</td>\n",
       "      <td>-</td>\n",
       "      <td>-</td>\n",
       "      <td>5.62</td>\n",
       "      <td>4.49</td>\n",
       "      <td>-</td>\n",
       "      <td>4.86</td>\n",
       "      <td>-</td>\n",
       "      <td>-</td>\n",
       "      <td>-</td>\n",
       "      <td>5.408333</td>\n",
       "    </tr>\n",
       "  </tbody>\n",
       "</table>\n",
       "<p>6 rows × 25 columns</p>\n",
       "</div>"
      ],
      "text/plain": [
       "                    Alien  Amidar Assault Asterix BankHeist BattleZone Boxing  \\\n",
       "base_cpu            52.89   53.92   39.23    43.7     33.94      48.67  50.22   \n",
       "reuse_cpu           37.32   23.30    24.9   26.85     14.93      37.36  26.92   \n",
       "base_gpu             9.24    9.71       -       -         -          -      -   \n",
       "reuse_cpu/base_cpu   0.71    0.43    0.63    0.61      0.44       0.77   0.54   \n",
       "reuse_cpu/base_gpu   4.04    2.40       -       -         -          -      -   \n",
       "base_cpu/base_gpu    5.72    5.55       -       -         -          -      -   \n",
       "\n",
       "                   Breakout ChopperCommand CrazyClimber    ...      Krull  \\\n",
       "base_cpu              27.44          52.52        18.27    ...      32.97   \n",
       "reuse_cpu              5.75          41.98         5.32    ...      32.02   \n",
       "base_gpu                  -              -            -    ...          -   \n",
       "reuse_cpu/base_cpu     0.21            0.8         0.29    ...       0.97   \n",
       "reuse_cpu/base_gpu        -              -            -    ...          -   \n",
       "base_cpu/base_gpu         -              -            -    ...          -   \n",
       "\n",
       "                   KungFuMaster MsPacman   Pong  PrivateEye  Qbert RoadRunner  \\\n",
       "base_cpu                  48.38    46.82  35.40       20.03  40.05      52.85   \n",
       "reuse_cpu                 22.07    31.97  13.46        7.81   9.65      26.11   \n",
       "base_gpu                      -     8.33   7.88           -   8.24          -   \n",
       "reuse_cpu/base_cpu         0.46     0.68   0.38        0.39   0.24       0.49   \n",
       "reuse_cpu/base_gpu            -     3.84   1.71           -   1.17          -   \n",
       "base_cpu/base_gpu             -     5.62   4.49           -   4.86          -   \n",
       "\n",
       "                    Seaquest  YarsRevenge       Mean  \n",
       "base_cpu               28.64        44.31  39.240833  \n",
       "reuse_cpu              17.69        34.51  22.110833  \n",
       "base_gpu                   -            -   8.703333  \n",
       "reuse_cpu/base_cpu      0.62         0.78   0.540000  \n",
       "reuse_cpu/base_gpu         -            -   2.700000  \n",
       "base_cpu/base_gpu          -            -   5.408333  \n",
       "\n",
       "[6 rows x 25 columns]"
      ]
     },
     "execution_count": 29,
     "metadata": {},
     "output_type": "execute_result"
    }
   ],
   "source": [
    "df_80_160.fillna(\"-\")"
   ]
  },
  {
   "cell_type": "code",
   "execution_count": 9,
   "metadata": {
    "collapsed": true
   },
   "outputs": [],
   "source": [
    "#df.to_html('training_table_by_episode_20_40_3000_steps.html')"
   ]
  },
  {
   "cell_type": "code",
   "execution_count": 10,
   "metadata": {
    "collapsed": true
   },
   "outputs": [],
   "source": [
    "## New table - Computational savings from base cpu to reuse cpu, and base gpu to reuse cpu, and add row that has average"
   ]
  },
  {
   "cell_type": "code",
   "execution_count": 7,
   "metadata": {
    "collapsed": true
   },
   "outputs": [],
   "source": [
    "df_20_40 = df_20_40.T\n",
    "\n",
    "df_20_40[\"reuse_cpu/base_cpu\"] = (df_20_40[\"reuse_cpu\"] / df_20_40[\"base_cpu\"]).round(decimals=2)\n",
    "df_20_40[\"reuse_cpu/base_gpu\"] = (df_20_40[\"reuse_cpu\"] / df_20_40[\"base_gpu\"]).round(decimals=2)\n",
    "df_20_40[\"base_cpu/base_gpu\"] = (df_20_40[\"base_cpu\"] / df_20_40[\"base_gpu\"]).round(decimals=2)\n",
    "\n",
    "df_20_40 = df_20_40.T\n",
    "df_20_40[\"Mean\"] = df_20_40.T.mean()\n",
    "\n",
    "#df_20_40.round(2).to_html('training_table_by_episode_20_40_3000_steps_more_info.html')\n",
    "#df_20_40.T.round(2).to_html('training_table_by_episode_20_40_3000_steps_more_info_T.html')"
   ]
  },
  {
   "cell_type": "code",
   "execution_count": 25,
   "metadata": {
    "collapsed": true
   },
   "outputs": [],
   "source": [
    "df_40_80 = df_40_80.T\n",
    "\n",
    "df_40_80[\"reuse_cpu/base_cpu\"] = (df_40_80[\"reuse_cpu\"] / df_40_80[\"base_cpu\"]).round(decimals=2)\n",
    "df_40_80[\"reuse_cpu/base_gpu\"] = (df_40_80[\"reuse_cpu\"] / df_40_80[\"base_gpu\"]).round(decimals=2)\n",
    "df_40_80[\"base_cpu/base_gpu\"] = (df_40_80[\"base_cpu\"] / df_40_80[\"base_gpu\"]).round(decimals=2)\n",
    "\n",
    "df_40_80 = df_40_80.T\n",
    "df_40_80[\"Mean\"] = df_40_80.T.mean()\n",
    "\n",
    "df_40_80.round(2).to_html('training_table_by_episode_40_80_3000_steps_more_info.html')\n",
    "df_40_80.T.round(2).to_html('training_table_by_episode_40_80_3000_steps_more_info_T.html')"
   ]
  },
  {
   "cell_type": "code",
   "execution_count": 30,
   "metadata": {
    "collapsed": true
   },
   "outputs": [],
   "source": [
    "df_80_160 = df_80_160.T\n",
    "\n",
    "df_80_160[\"reuse_cpu/base_cpu\"] = (df_80_160[\"reuse_cpu\"] / df_80_160[\"base_cpu\"]).round(decimals=2)\n",
    "df_80_160[\"reuse_cpu/base_gpu\"] = (df_80_160[\"reuse_cpu\"] / df_80_160[\"base_gpu\"]).round(decimals=2)\n",
    "df_80_160[\"base_cpu/base_gpu\"] = (df_80_160[\"base_cpu\"] / df_80_160[\"base_gpu\"]).round(decimals=2)\n",
    "\n",
    "df_80_160 = df_80_160.T\n",
    "df_80_160[\"Mean\"] = df_80_160.T.mean()\n",
    "\n",
    "df_80_160.round(2).fillna(\"-\").to_html('training_table_by_episode_80_160_3000_steps_more_info.html')\n",
    "df_80_160.T.round(2).fillna(\"-\").to_html('training_table_by_episode_80_160_3000_steps_more_info_T.html')"
   ]
  },
  {
   "cell_type": "code",
   "execution_count": null,
   "metadata": {
    "collapsed": true
   },
   "outputs": [],
   "source": []
  },
  {
   "cell_type": "code",
   "execution_count": null,
   "metadata": {
    "collapsed": true
   },
   "outputs": [],
   "source": []
  },
  {
   "cell_type": "code",
   "execution_count": 11,
   "metadata": {
    "collapsed": true
   },
   "outputs": [],
   "source": [
    "df = df.T"
   ]
  },
  {
   "cell_type": "code",
   "execution_count": 12,
   "metadata": {
    "collapsed": true
   },
   "outputs": [],
   "source": [
    "df[\"reuse_cpu/base_cpu\"] = (df[\"reuse_cpu\"] / df[\"base_cpu\"]).round(decimals=2)\n",
    "\n",
    "df[\"reuse_cpu/base_gpu\"] = (df[\"reuse_cpu\"] / df[\"base_gpu\"]).round(decimals=2)\n",
    "\n",
    "df[\"base_cpu/base_gpu\"] = (df[\"base_cpu\"] / df[\"base_gpu\"]).round(decimals=2)"
   ]
  },
  {
   "cell_type": "code",
   "execution_count": 13,
   "metadata": {
    "collapsed": true
   },
   "outputs": [],
   "source": [
    "df = df.round(decimals=2).T"
   ]
  },
  {
   "cell_type": "code",
   "execution_count": 14,
   "metadata": {
    "collapsed": true
   },
   "outputs": [],
   "source": [
    "df[\"Mean\"] = df.T.mean()"
   ]
  },
  {
   "cell_type": "code",
   "execution_count": 15,
   "metadata": {},
   "outputs": [
    {
     "data": {
      "text/plain": [
       "base_cpu              7.109583\n",
       "reuse_cpu             5.567500\n",
       "base_gpu              3.862917\n",
       "reuse_cpu/base_cpu    0.772500\n",
       "reuse_cpu/base_gpu    1.408333\n",
       "base_cpu/base_gpu     1.805417\n",
       "Name: Mean, dtype: float64"
      ]
     },
     "execution_count": 15,
     "metadata": {},
     "output_type": "execute_result"
    }
   ],
   "source": [
    "df[\"Mean\"]"
   ]
  },
  {
   "cell_type": "code",
   "execution_count": 16,
   "metadata": {
    "collapsed": true
   },
   "outputs": [],
   "source": [
    "df.round(2).to_html('training_table_by_episode_20_40_conv_3000_steps_more_info.html')"
   ]
  },
  {
   "cell_type": "code",
   "execution_count": 18,
   "metadata": {
    "collapsed": true
   },
   "outputs": [],
   "source": [
    "df.T.round(2).to_html('training_table_by_episode_20_40_conv_3000_steps_more_info_T.html')"
   ]
  },
  {
   "cell_type": "code",
   "execution_count": null,
   "metadata": {
    "collapsed": true
   },
   "outputs": [],
   "source": []
  }
 ],
 "metadata": {
  "kernelspec": {
   "display_name": "Python 3",
   "language": "python",
   "name": "python3"
  },
  "language_info": {
   "codemirror_mode": {
    "name": "ipython",
    "version": 3
   },
   "file_extension": ".py",
   "mimetype": "text/x-python",
   "name": "python",
   "nbconvert_exporter": "python",
   "pygments_lexer": "ipython3",
   "version": "3.5.4"
  }
 },
 "nbformat": 4,
 "nbformat_minor": 2
}
