{
 "cells": [
  {
   "cell_type": "markdown",
   "metadata": {},
   "source": [
    "## Average # of pixels changed from frame to frame"
   ]
  },
  {
   "cell_type": "code",
   "execution_count": 8,
   "metadata": {
    "collapsed": true
   },
   "outputs": [],
   "source": [
    "import numpy as np\n",
    "import gym\n",
    "import matplotlib.pyplot as plt\n",
    "from simple_pp_util import collect_observations # build_preprocess_fn() and collect_observtions()"
   ]
  },
  {
   "cell_type": "code",
   "execution_count": 9,
   "metadata": {
    "collapsed": true
   },
   "outputs": [],
   "source": [
    "atari_games_list = [\n",
    "    \"Alien-v0\",\n",
    "    \"Amidar-v0\",\n",
    "    \"Assault-v0\",\n",
    "    \"Asterix-v0\",\n",
    "    \"BankHeist-v0\",\n",
    "    \"BattleZone-v0\",\n",
    "    \"Boxing-v0\",\n",
    "    \"Breakout-v0\",\n",
    "    \"ChopperCommand-v0\",\n",
    "    \"CrazyClimber-v0\",\n",
    "    \"DemonAttack-v0\",\n",
    "    \"Freeway-v0\",\n",
    "    \"Gopher-v0\",\n",
    "    \"Hero-v0\",\n",
    "    \"Kangaroo-v0\",\n",
    "    \"Krull-v0\",\n",
    "    \"KungFuMaster-v0\",\n",
    "    \"MsPacman-v0\",\n",
    "    \"Pong-v0\",\n",
    "    \"PrivateEye-v0\",\n",
    "    \"Qbert-v0\",\n",
    "    \"RoadRunner-v0\",\n",
    "    \"YarsRevenge-v0\",\n",
    "    \"Seaquest-v0\"\n",
    "]"
   ]
  },
  {
   "cell_type": "code",
   "execution_count": null,
   "metadata": {
    "collapsed": true
   },
   "outputs": [],
   "source": [
    "n = 50000 # number of observations to collect\n",
    "obs = {}\n",
    "for game in atari_games_list:\n",
    "    obs[game] = collect_observations(n, game)"
   ]
  },
  {
   "cell_type": "code",
   "execution_count": null,
   "metadata": {},
   "outputs": [],
   "source": [
    "avg_percent_pixel_change = []\n",
    "for game in atari_games_list:\n",
    "    pixels_changed = 0.\n",
    "    pixels_total = 0\n",
    "    for i in range(len(obs[game]) -1):\n",
    "        diff = obs[game][i+1] - obs[game][i]\n",
    "        pixels_changed += np.count_nonzero(diff)\n",
    "        pixels_total += diff.size\n",
    "    \n",
    "    avg_percent_pixel_change.append(100*pixels_changed/pixels_total)\n",
    "    print(\"For \" + game.ljust(20) + \", average change is    {0:.3f}%   the total number of pixel transitions\".format(avg_percent_pixel_change[-1]))"
   ]
  },
  {
   "cell_type": "markdown",
   "metadata": {},
   "source": [
    "## For chunking, lets use just one area for now, and see if more are needed later"
   ]
  },
  {
   "cell_type": "code",
   "execution_count": null,
   "metadata": {},
   "outputs": [],
   "source": [
    "avg_percent_pixel_change_area = []\n",
    "for game in atari_games_list:\n",
    "    pixels_changed_area = 0.\n",
    "    pixels_total = 0\n",
    "    for i in range(len(obs[game]) -1):\n",
    "        diff = obs[game][i+1] - obs[game][i]\n",
    "        pixels_changed = diff.nonzero()\n",
    "        if pixels_changed[0].size != 0:\n",
    "            min_d1 = np.min(pixels_changed[0])\n",
    "            min_d2 = np.min(pixels_changed[1])\n",
    "            max_d1 = np.max(pixels_changed[0])\n",
    "            max_d2 = np.max(pixels_changed[1])\n",
    "            changed_area = diff[min_d1:max_d1+1,min_d2:max_d2+1,:]\n",
    "\n",
    "            pixels_changed_area += changed_area.size\n",
    "        pixels_total += diff.size\n",
    "    \n",
    "    \n",
    "    avg_area_change = 100*pixels_changed_area/pixels_total\n",
    "    avg_percent_pixel_change_area.append(avg_area_change)\n",
    "    print(\"For \" + game.ljust(20) + \", average changed area is   \" + \\\n",
    "          \" {0:.3f}%   the total area\".format(avg_area_change))"
   ]
  },
  {
   "cell_type": "markdown",
   "metadata": {},
   "source": [
    "## Plotting"
   ]
  },
  {
   "cell_type": "code",
   "execution_count": null,
   "metadata": {
    "collapsed": true
   },
   "outputs": [],
   "source": [
    "## Formatting\n",
    "games_list_formatted = atari_games_list.copy()\n",
    "for i in range(len(games_list_formatted)):\n",
    "    if (i + 2) % 3 == 0:\n",
    "        games_list_formatted[i] = \"\\n\" + games_list_formatted[i].rsplit(\"-\")[0]\n",
    "    elif (i + 1) % 3 == 0:\n",
    "        games_list_formatted[i] = \"\\n\\n\" + games_list_formatted[i].rsplit(\"-\")[0]\n",
    "    else:\n",
    "        games_list_formatted[i] = games_list_formatted[i].rsplit(\"-\")[0]"
   ]
  },
  {
   "cell_type": "code",
   "execution_count": null,
   "metadata": {},
   "outputs": [],
   "source": [
    "n_groups = len(atari_games_list)\n",
    "\n",
    "# create plot\n",
    "plt.figure(figsize=(16,8))\n",
    "index = np.arange(n_groups)\n",
    "bar_width = 0.65\n",
    "opacity = 0.8\n",
    "\n",
    "rects1 = plt.bar(index, avg_percent_pixel_change_area, bar_width,\n",
    "alpha=opacity,\n",
    "color='b',\n",
    "label='Average rectangular area where pixel change occurs')\n",
    "\n",
    "rects2 = plt.bar(index, avg_percent_pixel_change, bar_width,\n",
    "alpha=opacity,\n",
    "color='r',\n",
    "label='Average pixel change per frame')\n",
    "\n",
    "\n",
    "\n",
    "plt.title('Average changes from frame to frame', fontsize=20)\n",
    "plt.xticks(index, games_list_formatted, fontsize=14)\n",
    "plt.ylabel(\"Percent of frame size\")\n",
    "plt.legend(prop={'size': 18})\n",
    "\n",
    "plt.tight_layout()\n",
    "plt.savefig(\"pixel_changes.png\")\n",
    "plt.show()\n",
    "\n"
   ]
  },
  {
   "cell_type": "code",
   "execution_count": null,
   "metadata": {
    "collapsed": true
   },
   "outputs": [],
   "source": []
  }
 ],
 "metadata": {
  "kernelspec": {
   "display_name": "Python 3",
   "language": "python",
   "name": "python3"
  },
  "language_info": {
   "codemirror_mode": {
    "name": "ipython",
    "version": 3
   },
   "file_extension": ".py",
   "mimetype": "text/x-python",
   "name": "python",
   "nbconvert_exporter": "python",
   "pygments_lexer": "ipython3",
   "version": "3.5.4"
  }
 },
 "nbformat": 4,
 "nbformat_minor": 2
}
